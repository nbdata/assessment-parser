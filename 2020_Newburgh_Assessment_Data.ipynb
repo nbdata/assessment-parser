{
  "nbformat": 4,
  "nbformat_minor": 0,
  "metadata": {
    "colab": {
      "name": "2020_Newburgh_Assessment_Data-2.ipynb",
      "provenance": [],
      "collapsed_sections": []
    },
    "kernelspec": {
      "name": "python3",
      "display_name": "Python 3"
    }
  },
  "cells": [
    {
      "cell_type": "markdown",
      "metadata": {
        "id": "qdmSl9luzcHH"
      },
      "source": [
        "# Load assessment data CSV"
      ]
    },
    {
      "cell_type": "code",
      "metadata": {
        "id": "IwNCjzkCgHUF",
        "colab": {
          "base_uri": "https://localhost:8080/",
          "height": 796
        },
        "outputId": "7b342f85-76b5-4e92-f7d0-c2d71cfd02eb"
      },
      "source": [
        "import pandas as pd\n",
        "import numpy as np\n",
        "import seaborn as sns\n",
        "import matplotlib.pyplot as plt\n",
        "from matplotlib.pyplot import figure\n",
        "\n",
        "fig_size = plt.rcParams[\"figure.figsize\"]\n",
        "fig_size[0] = 16\n",
        "fig_size[1] = 8\n",
        "plt.rcParams[\"figure.figsize\"] = fig_size\n",
        "plt.style.use('seaborn-whitegrid')\n",
        "\n",
        "# Some easy colors of graphs\n",
        "color1='#a6cee3'\n",
        "color2='#1f78b4'\n",
        "color3='#b2df8a'\n",
        "color4='#33a02c'\n",
        "color5='#fb9a99'\n",
        "color6='#e31a1c'\n",
        "\n",
        "pd.set_option('display.max_rows', 10)\n",
        "pd.set_option('precision', 2)\n",
        "pd.set_option('display.float_format', lambda x: '%.2f' % x)\n",
        "\n",
        "# Fetch the CSV\n",
        "url = 'https://raw.githubusercontent.com/nbdata/assessment-parser/master/output.csv'\n",
        "df = pd.read_csv(url)\n",
        "df.sort_values(by='ID')\n",
        "\n",
        "# Build some dynamic values\n",
        "df['PricePerSqFt'] = df['2020 Full'] / df['SqFt']\n",
        "df['AV Diff'] = 100 * ((df['Sale Price'] - df['Sale AV']) / df['Sale AV'])\n",
        "df['SaleDateTime'] = pd.to_datetime(df['Sale Date'], format=\"%m/%d/%Y\", errors='coerce')\n",
        "df['RecentSale'] = df['SaleDateTime'].notnull().astype('bool')\n",
        "df['SaleYear'] = df['SaleDateTime'].dt.year.astype('Int64')\n",
        "df['2017NoChange'] = df['2016 Full'] == df['2017 Full']\n",
        "df['2018NoChange'] = df['2017 Full'] == df['2018 Full']\n",
        "df['2019NoChange'] = df['2018 Full'] == df['2019 Full']\n",
        "df['2020NoChange'] = df['2019 Full'] == df['2020 Full']\n",
        "\n",
        "# Modify some column types\n",
        "df['2020Vacant'] = df['2020Vacant'].astype('bool')\n",
        "df['2020Violations'] = df['2020Violations'].astype('bool')\n",
        "df['OpportunityZone'] = df['OpportunityZone'].astype('bool')\n",
        "df['NbhdCode'] = df['NbhdCode'].fillna(0).astype('int64')\n",
        "df['TaxMap'] = df.ID.apply(lambda x: x.split('-')[0])\n",
        "df['TaxMap'] = df.TaxMap.apply(lambda x: x.split('.')[0])\n",
        "df['TaxMap'] = df.TaxMap.astype('int64')\n",
        "\n",
        "# Setup homestead vs non-homestead\n",
        "homestead = df[df['Non-Homestead'] == 0]\n",
        "nonHomestead = df[df['Non-Homestead'] == 1]\n",
        "\n",
        "# Now can calculate tax\n",
        "df['2020Tax'] = (19.606286 + (df['Non-Homestead'] * (27.933692-19.606286))) * df['2019 City'] / 1000\n",
        "\n",
        "# Setup exempt and non-exempt\n",
        "exempt = df[df['2020 City'] < 1]\n",
        "ne = df[df['2019 City'] > 1]\n",
        "\n",
        "# Single family and multi-family (only care about non-exempt)\n",
        "sf = ne[ne['Code'] == 210].reset_index()\n",
        "mf = ne[ne.Code.isin([220, 230, 411])]\n",
        "sfAndMF = ne[ne.Code.isin([210, 220, 230, 411])]\n",
        "\n",
        "# Only places that were sold\n",
        "sold = df[df['Sale Price'] > 0].reset_index()\n",
        "soldSF = sf[sf['Sale Price'] > 0].reset_index()\n",
        "soldMF = mf[mf['Sale Price'] > 0].reset_index()\n",
        "\n",
        "df.tail(20)"
      ],
      "execution_count": null,
      "outputs": [
        {
          "output_type": "execute_result",
          "data": {
            "text/html": [
              "<div>\n",
              "<style scoped>\n",
              "    .dataframe tbody tr th:only-of-type {\n",
              "        vertical-align: middle;\n",
              "    }\n",
              "\n",
              "    .dataframe tbody tr th {\n",
              "        vertical-align: top;\n",
              "    }\n",
              "\n",
              "    .dataframe thead th {\n",
              "        text-align: right;\n",
              "    }\n",
              "</style>\n",
              "<table border=\"1\" class=\"dataframe\">\n",
              "  <thead>\n",
              "    <tr style=\"text-align: right;\">\n",
              "      <th></th>\n",
              "      <th>ID</th>\n",
              "      <th>Street</th>\n",
              "      <th>Non-Homestead</th>\n",
              "      <th>Account</th>\n",
              "      <th>Code</th>\n",
              "      <th>2016 City</th>\n",
              "      <th>2016 Full</th>\n",
              "      <th>2017 City</th>\n",
              "      <th>2017 Full</th>\n",
              "      <th>2018 City</th>\n",
              "      <th>2018 Full</th>\n",
              "      <th>2019 City</th>\n",
              "      <th>2019 Full</th>\n",
              "      <th>2020 City</th>\n",
              "      <th>2020 Full</th>\n",
              "      <th>2021 City</th>\n",
              "      <th>2021 Full</th>\n",
              "      <th>Sale Date</th>\n",
              "      <th>Sale Price</th>\n",
              "      <th>Sale AV</th>\n",
              "      <th>2016OwnerAtAddress</th>\n",
              "      <th>2017OwnerAtAddress</th>\n",
              "      <th>2018OwnerAtAddress</th>\n",
              "      <th>2019OwnerAtAddress</th>\n",
              "      <th>2020OwnerAtAddress</th>\n",
              "      <th>Latitude</th>\n",
              "      <th>Longitude</th>\n",
              "      <th>TigerLine</th>\n",
              "      <th>20162020Diff</th>\n",
              "      <th>SaleAssessDiff</th>\n",
              "      <th>SqFt</th>\n",
              "      <th>Bathrooms</th>\n",
              "      <th>Bedrooms</th>\n",
              "      <th>YearBuilt</th>\n",
              "      <th>LandSize</th>\n",
              "      <th>Zoning</th>\n",
              "      <th>Ward</th>\n",
              "      <th>CensusBlock</th>\n",
              "      <th>AVPerSqFt</th>\n",
              "      <th>AVChangePercent</th>\n",
              "      <th>SalePricePerSqFt</th>\n",
              "      <th>NbhdCode</th>\n",
              "      <th>2020Vacant</th>\n",
              "      <th>2020Violations</th>\n",
              "      <th>OpportunityZone</th>\n",
              "      <th>PricePerSqFt</th>\n",
              "      <th>AV Diff</th>\n",
              "      <th>SaleDateTime</th>\n",
              "      <th>RecentSale</th>\n",
              "      <th>SaleYear</th>\n",
              "      <th>2017NoChange</th>\n",
              "      <th>2018NoChange</th>\n",
              "      <th>2019NoChange</th>\n",
              "      <th>2020NoChange</th>\n",
              "      <th>TaxMap</th>\n",
              "      <th>2020Tax</th>\n",
              "    </tr>\n",
              "  </thead>\n",
              "  <tbody>\n",
              "    <tr>\n",
              "      <th>6904</th>\n",
              "      <td>9-5-1.11</td>\n",
              "      <td>367 Water St</td>\n",
              "      <td>1</td>\n",
              "      <td>676890</td>\n",
              "      <td>963</td>\n",
              "      <td>0.00</td>\n",
              "      <td>2000.00</td>\n",
              "      <td>0.00</td>\n",
              "      <td>1900.00</td>\n",
              "      <td>0.00</td>\n",
              "      <td>1900.00</td>\n",
              "      <td>0.00</td>\n",
              "      <td>2400.00</td>\n",
              "      <td>0</td>\n",
              "      <td>2400</td>\n",
              "      <td>0</td>\n",
              "      <td>2400</td>\n",
              "      <td>NaN</td>\n",
              "      <td>nan</td>\n",
              "      <td>nan</td>\n",
              "      <td>2</td>\n",
              "      <td>2</td>\n",
              "      <td>2</td>\n",
              "      <td>2</td>\n",
              "      <td>2</td>\n",
              "      <td>nan</td>\n",
              "      <td>nan</td>\n",
              "      <td>nan</td>\n",
              "      <td>400.00</td>\n",
              "      <td>nan</td>\n",
              "      <td>nan</td>\n",
              "      <td>nan</td>\n",
              "      <td>nan</td>\n",
              "      <td>nan</td>\n",
              "      <td>0.07</td>\n",
              "      <td>Residential Low Density</td>\n",
              "      <td>Ward 1</td>\n",
              "      <td>County 071 Tract 000400 Block Group 1</td>\n",
              "      <td>inf</td>\n",
              "      <td>0.20</td>\n",
              "      <td>nan</td>\n",
              "      <td>22</td>\n",
              "      <td>False</td>\n",
              "      <td>False</td>\n",
              "      <td>True</td>\n",
              "      <td>nan</td>\n",
              "      <td>nan</td>\n",
              "      <td>NaT</td>\n",
              "      <td>False</td>\n",
              "      <td>&lt;NA&gt;</td>\n",
              "      <td>False</td>\n",
              "      <td>True</td>\n",
              "      <td>False</td>\n",
              "      <td>True</td>\n",
              "      <td>9</td>\n",
              "      <td>0.00</td>\n",
              "    </tr>\n",
              "    <tr>\n",
              "      <th>6905</th>\n",
              "      <td>9-5-30</td>\n",
              "      <td>260 Montgomery St</td>\n",
              "      <td>0</td>\n",
              "      <td>217325</td>\n",
              "      <td>210</td>\n",
              "      <td>293100.00</td>\n",
              "      <td>313100.00</td>\n",
              "      <td>269500.00</td>\n",
              "      <td>289500.00</td>\n",
              "      <td>269500.00</td>\n",
              "      <td>289500.00</td>\n",
              "      <td>269500.00</td>\n",
              "      <td>289500.00</td>\n",
              "      <td>313300</td>\n",
              "      <td>333300</td>\n",
              "      <td>313300</td>\n",
              "      <td>333300</td>\n",
              "      <td>NaN</td>\n",
              "      <td>nan</td>\n",
              "      <td>nan</td>\n",
              "      <td>1</td>\n",
              "      <td>1</td>\n",
              "      <td>1</td>\n",
              "      <td>1</td>\n",
              "      <td>1</td>\n",
              "      <td>41.51</td>\n",
              "      <td>-74.01</td>\n",
              "      <td>124414122.00</td>\n",
              "      <td>20200.00</td>\n",
              "      <td>nan</td>\n",
              "      <td>1992.00</td>\n",
              "      <td>3.50</td>\n",
              "      <td>2.00</td>\n",
              "      <td>2003.00</td>\n",
              "      <td>0.11</td>\n",
              "      <td>Residential Low Density</td>\n",
              "      <td>Ward 1</td>\n",
              "      <td>County 071 Tract 000400 Block Group 1</td>\n",
              "      <td>167.32</td>\n",
              "      <td>0.06</td>\n",
              "      <td>nan</td>\n",
              "      <td>7</td>\n",
              "      <td>False</td>\n",
              "      <td>False</td>\n",
              "      <td>True</td>\n",
              "      <td>167.32</td>\n",
              "      <td>nan</td>\n",
              "      <td>NaT</td>\n",
              "      <td>False</td>\n",
              "      <td>&lt;NA&gt;</td>\n",
              "      <td>False</td>\n",
              "      <td>True</td>\n",
              "      <td>True</td>\n",
              "      <td>False</td>\n",
              "      <td>9</td>\n",
              "      <td>5283.89</td>\n",
              "    </tr>\n",
              "    <tr>\n",
              "      <th>6906</th>\n",
              "      <td>9-5-31</td>\n",
              "      <td>262 Montgomery St</td>\n",
              "      <td>0</td>\n",
              "      <td>217326</td>\n",
              "      <td>210</td>\n",
              "      <td>280000.00</td>\n",
              "      <td>280000.00</td>\n",
              "      <td>281900.00</td>\n",
              "      <td>281900.00</td>\n",
              "      <td>281900.00</td>\n",
              "      <td>281900.00</td>\n",
              "      <td>281900.00</td>\n",
              "      <td>281900.00</td>\n",
              "      <td>321100</td>\n",
              "      <td>321100</td>\n",
              "      <td>321100</td>\n",
              "      <td>321100</td>\n",
              "      <td>8/21/2014</td>\n",
              "      <td>278000.00</td>\n",
              "      <td>292000.00</td>\n",
              "      <td>1</td>\n",
              "      <td>1</td>\n",
              "      <td>1</td>\n",
              "      <td>1</td>\n",
              "      <td>1</td>\n",
              "      <td>41.51</td>\n",
              "      <td>-74.01</td>\n",
              "      <td>124414122.00</td>\n",
              "      <td>41100.00</td>\n",
              "      <td>-14000.00</td>\n",
              "      <td>1954.00</td>\n",
              "      <td>2.50</td>\n",
              "      <td>3.00</td>\n",
              "      <td>2004.00</td>\n",
              "      <td>0.11</td>\n",
              "      <td>Residential Low Density</td>\n",
              "      <td>Ward 1</td>\n",
              "      <td>County 071 Tract 000400 Block Group 1</td>\n",
              "      <td>164.33</td>\n",
              "      <td>0.15</td>\n",
              "      <td>142.27</td>\n",
              "      <td>7</td>\n",
              "      <td>False</td>\n",
              "      <td>False</td>\n",
              "      <td>True</td>\n",
              "      <td>164.33</td>\n",
              "      <td>-4.79</td>\n",
              "      <td>2014-08-21</td>\n",
              "      <td>True</td>\n",
              "      <td>2014</td>\n",
              "      <td>False</td>\n",
              "      <td>True</td>\n",
              "      <td>True</td>\n",
              "      <td>False</td>\n",
              "      <td>9</td>\n",
              "      <td>5527.01</td>\n",
              "    </tr>\n",
              "    <tr>\n",
              "      <th>6907</th>\n",
              "      <td>9-5-32</td>\n",
              "      <td>264 Montgomery St</td>\n",
              "      <td>0</td>\n",
              "      <td>217327</td>\n",
              "      <td>210</td>\n",
              "      <td>283000.00</td>\n",
              "      <td>283000.00</td>\n",
              "      <td>292900.00</td>\n",
              "      <td>292900.00</td>\n",
              "      <td>292900.00</td>\n",
              "      <td>292900.00</td>\n",
              "      <td>292900.00</td>\n",
              "      <td>292900.00</td>\n",
              "      <td>364400</td>\n",
              "      <td>364400</td>\n",
              "      <td>364400</td>\n",
              "      <td>364400</td>\n",
              "      <td>7/10/2018</td>\n",
              "      <td>337500.00</td>\n",
              "      <td>292900.00</td>\n",
              "      <td>1</td>\n",
              "      <td>1</td>\n",
              "      <td>1</td>\n",
              "      <td>1</td>\n",
              "      <td>1</td>\n",
              "      <td>41.51</td>\n",
              "      <td>-74.01</td>\n",
              "      <td>124414122.00</td>\n",
              "      <td>81400.00</td>\n",
              "      <td>44600.00</td>\n",
              "      <td>4192.00</td>\n",
              "      <td>5.00</td>\n",
              "      <td>5.00</td>\n",
              "      <td>2004.00</td>\n",
              "      <td>0.17</td>\n",
              "      <td>Residential Low Density</td>\n",
              "      <td>Ward 1</td>\n",
              "      <td>County 071 Tract 000400 Block Group 1</td>\n",
              "      <td>86.93</td>\n",
              "      <td>0.29</td>\n",
              "      <td>80.51</td>\n",
              "      <td>7</td>\n",
              "      <td>False</td>\n",
              "      <td>False</td>\n",
              "      <td>True</td>\n",
              "      <td>86.93</td>\n",
              "      <td>15.23</td>\n",
              "      <td>2018-07-10</td>\n",
              "      <td>True</td>\n",
              "      <td>2018</td>\n",
              "      <td>False</td>\n",
              "      <td>True</td>\n",
              "      <td>True</td>\n",
              "      <td>False</td>\n",
              "      <td>9</td>\n",
              "      <td>5742.68</td>\n",
              "    </tr>\n",
              "    <tr>\n",
              "      <th>6908</th>\n",
              "      <td>9-5-33</td>\n",
              "      <td>266 Montgomery St</td>\n",
              "      <td>0</td>\n",
              "      <td>217328</td>\n",
              "      <td>210</td>\n",
              "      <td>304900.00</td>\n",
              "      <td>304900.00</td>\n",
              "      <td>286300.00</td>\n",
              "      <td>286300.00</td>\n",
              "      <td>286300.00</td>\n",
              "      <td>286300.00</td>\n",
              "      <td>286300.00</td>\n",
              "      <td>286300.00</td>\n",
              "      <td>325400</td>\n",
              "      <td>325400</td>\n",
              "      <td>325400</td>\n",
              "      <td>325400</td>\n",
              "      <td>6/13/2018</td>\n",
              "      <td>300000.00</td>\n",
              "      <td>286300.00</td>\n",
              "      <td>0</td>\n",
              "      <td>0</td>\n",
              "      <td>0</td>\n",
              "      <td>1</td>\n",
              "      <td>1</td>\n",
              "      <td>41.51</td>\n",
              "      <td>-74.01</td>\n",
              "      <td>124414122.00</td>\n",
              "      <td>20500.00</td>\n",
              "      <td>13700.00</td>\n",
              "      <td>1954.00</td>\n",
              "      <td>2.50</td>\n",
              "      <td>3.00</td>\n",
              "      <td>2004.00</td>\n",
              "      <td>0.16</td>\n",
              "      <td>Residential Low Density</td>\n",
              "      <td>Ward 1</td>\n",
              "      <td>County 071 Tract 000400 Block Group 1</td>\n",
              "      <td>166.53</td>\n",
              "      <td>0.07</td>\n",
              "      <td>153.53</td>\n",
              "      <td>7</td>\n",
              "      <td>False</td>\n",
              "      <td>False</td>\n",
              "      <td>True</td>\n",
              "      <td>166.53</td>\n",
              "      <td>4.79</td>\n",
              "      <td>2018-06-13</td>\n",
              "      <td>True</td>\n",
              "      <td>2018</td>\n",
              "      <td>False</td>\n",
              "      <td>True</td>\n",
              "      <td>True</td>\n",
              "      <td>False</td>\n",
              "      <td>9</td>\n",
              "      <td>5613.28</td>\n",
              "    </tr>\n",
              "    <tr>\n",
              "      <th>...</th>\n",
              "      <td>...</td>\n",
              "      <td>...</td>\n",
              "      <td>...</td>\n",
              "      <td>...</td>\n",
              "      <td>...</td>\n",
              "      <td>...</td>\n",
              "      <td>...</td>\n",
              "      <td>...</td>\n",
              "      <td>...</td>\n",
              "      <td>...</td>\n",
              "      <td>...</td>\n",
              "      <td>...</td>\n",
              "      <td>...</td>\n",
              "      <td>...</td>\n",
              "      <td>...</td>\n",
              "      <td>...</td>\n",
              "      <td>...</td>\n",
              "      <td>...</td>\n",
              "      <td>...</td>\n",
              "      <td>...</td>\n",
              "      <td>...</td>\n",
              "      <td>...</td>\n",
              "      <td>...</td>\n",
              "      <td>...</td>\n",
              "      <td>...</td>\n",
              "      <td>...</td>\n",
              "      <td>...</td>\n",
              "      <td>...</td>\n",
              "      <td>...</td>\n",
              "      <td>...</td>\n",
              "      <td>...</td>\n",
              "      <td>...</td>\n",
              "      <td>...</td>\n",
              "      <td>...</td>\n",
              "      <td>...</td>\n",
              "      <td>...</td>\n",
              "      <td>...</td>\n",
              "      <td>...</td>\n",
              "      <td>...</td>\n",
              "      <td>...</td>\n",
              "      <td>...</td>\n",
              "      <td>...</td>\n",
              "      <td>...</td>\n",
              "      <td>...</td>\n",
              "      <td>...</td>\n",
              "      <td>...</td>\n",
              "      <td>...</td>\n",
              "      <td>...</td>\n",
              "      <td>...</td>\n",
              "      <td>...</td>\n",
              "      <td>...</td>\n",
              "      <td>...</td>\n",
              "      <td>...</td>\n",
              "      <td>...</td>\n",
              "      <td>...</td>\n",
              "      <td>...</td>\n",
              "    </tr>\n",
              "    <tr>\n",
              "      <th>6919</th>\n",
              "      <td>999-1-181</td>\n",
              "      <td>New Rd</td>\n",
              "      <td>1</td>\n",
              "      <td>566900</td>\n",
              "      <td>866</td>\n",
              "      <td>5843354.00</td>\n",
              "      <td>5843354.00</td>\n",
              "      <td>5186092.00</td>\n",
              "      <td>5186092.00</td>\n",
              "      <td>4706835.00</td>\n",
              "      <td>4706835.00</td>\n",
              "      <td>4531963.00</td>\n",
              "      <td>4531963.00</td>\n",
              "      <td>4509656</td>\n",
              "      <td>4509700</td>\n",
              "      <td>4509656</td>\n",
              "      <td>4509656</td>\n",
              "      <td>NaN</td>\n",
              "      <td>nan</td>\n",
              "      <td>nan</td>\n",
              "      <td>0</td>\n",
              "      <td>0</td>\n",
              "      <td>0</td>\n",
              "      <td>0</td>\n",
              "      <td>0</td>\n",
              "      <td>nan</td>\n",
              "      <td>nan</td>\n",
              "      <td>nan</td>\n",
              "      <td>-1333654.00</td>\n",
              "      <td>nan</td>\n",
              "      <td>nan</td>\n",
              "      <td>nan</td>\n",
              "      <td>nan</td>\n",
              "      <td>nan</td>\n",
              "      <td>nan</td>\n",
              "      <td>NaN</td>\n",
              "      <td>NaN</td>\n",
              "      <td>NaN</td>\n",
              "      <td>nan</td>\n",
              "      <td>-0.23</td>\n",
              "      <td>nan</td>\n",
              "      <td>0</td>\n",
              "      <td>False</td>\n",
              "      <td>False</td>\n",
              "      <td>False</td>\n",
              "      <td>nan</td>\n",
              "      <td>nan</td>\n",
              "      <td>NaT</td>\n",
              "      <td>False</td>\n",
              "      <td>&lt;NA&gt;</td>\n",
              "      <td>False</td>\n",
              "      <td>False</td>\n",
              "      <td>False</td>\n",
              "      <td>False</td>\n",
              "      <td>999</td>\n",
              "      <td>126594.46</td>\n",
              "    </tr>\n",
              "    <tr>\n",
              "      <th>6920</th>\n",
              "      <td>999-1-182</td>\n",
              "      <td>NaN</td>\n",
              "      <td>1</td>\n",
              "      <td>566950</td>\n",
              "      <td>869</td>\n",
              "      <td>540922.00</td>\n",
              "      <td>540922.00</td>\n",
              "      <td>626290.00</td>\n",
              "      <td>626290.00</td>\n",
              "      <td>675808.00</td>\n",
              "      <td>675808.00</td>\n",
              "      <td>661745.00</td>\n",
              "      <td>661745.00</td>\n",
              "      <td>611896</td>\n",
              "      <td>611900</td>\n",
              "      <td>611896</td>\n",
              "      <td>611896</td>\n",
              "      <td>NaN</td>\n",
              "      <td>nan</td>\n",
              "      <td>nan</td>\n",
              "      <td>0</td>\n",
              "      <td>0</td>\n",
              "      <td>0</td>\n",
              "      <td>0</td>\n",
              "      <td>0</td>\n",
              "      <td>nan</td>\n",
              "      <td>nan</td>\n",
              "      <td>nan</td>\n",
              "      <td>70978.00</td>\n",
              "      <td>nan</td>\n",
              "      <td>nan</td>\n",
              "      <td>nan</td>\n",
              "      <td>nan</td>\n",
              "      <td>nan</td>\n",
              "      <td>nan</td>\n",
              "      <td>NaN</td>\n",
              "      <td>NaN</td>\n",
              "      <td>NaN</td>\n",
              "      <td>nan</td>\n",
              "      <td>0.13</td>\n",
              "      <td>nan</td>\n",
              "      <td>0</td>\n",
              "      <td>False</td>\n",
              "      <td>False</td>\n",
              "      <td>False</td>\n",
              "      <td>nan</td>\n",
              "      <td>nan</td>\n",
              "      <td>NaT</td>\n",
              "      <td>False</td>\n",
              "      <td>&lt;NA&gt;</td>\n",
              "      <td>False</td>\n",
              "      <td>False</td>\n",
              "      <td>False</td>\n",
              "      <td>False</td>\n",
              "      <td>999</td>\n",
              "      <td>18484.98</td>\n",
              "    </tr>\n",
              "    <tr>\n",
              "      <th>6921</th>\n",
              "      <td>999-1-183</td>\n",
              "      <td>NaN</td>\n",
              "      <td>1</td>\n",
              "      <td>566800</td>\n",
              "      <td>866</td>\n",
              "      <td>61846.00</td>\n",
              "      <td>61846.00</td>\n",
              "      <td>59200.00</td>\n",
              "      <td>59200.00</td>\n",
              "      <td>56286.00</td>\n",
              "      <td>56286.00</td>\n",
              "      <td>50681.00</td>\n",
              "      <td>50681.00</td>\n",
              "      <td>56965</td>\n",
              "      <td>57000</td>\n",
              "      <td>56965</td>\n",
              "      <td>56965</td>\n",
              "      <td>NaN</td>\n",
              "      <td>nan</td>\n",
              "      <td>nan</td>\n",
              "      <td>0</td>\n",
              "      <td>0</td>\n",
              "      <td>0</td>\n",
              "      <td>0</td>\n",
              "      <td>0</td>\n",
              "      <td>nan</td>\n",
              "      <td>nan</td>\n",
              "      <td>nan</td>\n",
              "      <td>-4846.00</td>\n",
              "      <td>nan</td>\n",
              "      <td>nan</td>\n",
              "      <td>nan</td>\n",
              "      <td>nan</td>\n",
              "      <td>nan</td>\n",
              "      <td>nan</td>\n",
              "      <td>NaN</td>\n",
              "      <td>NaN</td>\n",
              "      <td>NaN</td>\n",
              "      <td>nan</td>\n",
              "      <td>-0.08</td>\n",
              "      <td>nan</td>\n",
              "      <td>0</td>\n",
              "      <td>False</td>\n",
              "      <td>False</td>\n",
              "      <td>False</td>\n",
              "      <td>nan</td>\n",
              "      <td>nan</td>\n",
              "      <td>NaT</td>\n",
              "      <td>False</td>\n",
              "      <td>&lt;NA&gt;</td>\n",
              "      <td>False</td>\n",
              "      <td>False</td>\n",
              "      <td>False</td>\n",
              "      <td>False</td>\n",
              "      <td>999</td>\n",
              "      <td>1415.71</td>\n",
              "    </tr>\n",
              "    <tr>\n",
              "      <th>6922</th>\n",
              "      <td>999-1-184</td>\n",
              "      <td>NaN</td>\n",
              "      <td>1</td>\n",
              "      <td>567000</td>\n",
              "      <td>869</td>\n",
              "      <td>5272.00</td>\n",
              "      <td>5272.00</td>\n",
              "      <td>5016.00</td>\n",
              "      <td>5016.00</td>\n",
              "      <td>4612.00</td>\n",
              "      <td>4612.00</td>\n",
              "      <td>4204.00</td>\n",
              "      <td>4204.00</td>\n",
              "      <td>3745</td>\n",
              "      <td>3700</td>\n",
              "      <td>3745</td>\n",
              "      <td>3745</td>\n",
              "      <td>NaN</td>\n",
              "      <td>nan</td>\n",
              "      <td>nan</td>\n",
              "      <td>3</td>\n",
              "      <td>3</td>\n",
              "      <td>3</td>\n",
              "      <td>3</td>\n",
              "      <td>3</td>\n",
              "      <td>nan</td>\n",
              "      <td>nan</td>\n",
              "      <td>nan</td>\n",
              "      <td>-1572.00</td>\n",
              "      <td>nan</td>\n",
              "      <td>nan</td>\n",
              "      <td>nan</td>\n",
              "      <td>nan</td>\n",
              "      <td>nan</td>\n",
              "      <td>nan</td>\n",
              "      <td>NaN</td>\n",
              "      <td>NaN</td>\n",
              "      <td>NaN</td>\n",
              "      <td>nan</td>\n",
              "      <td>-0.30</td>\n",
              "      <td>nan</td>\n",
              "      <td>0</td>\n",
              "      <td>False</td>\n",
              "      <td>False</td>\n",
              "      <td>False</td>\n",
              "      <td>nan</td>\n",
              "      <td>nan</td>\n",
              "      <td>NaT</td>\n",
              "      <td>False</td>\n",
              "      <td>&lt;NA&gt;</td>\n",
              "      <td>False</td>\n",
              "      <td>False</td>\n",
              "      <td>False</td>\n",
              "      <td>False</td>\n",
              "      <td>999</td>\n",
              "      <td>117.43</td>\n",
              "    </tr>\n",
              "    <tr>\n",
              "      <th>6923</th>\n",
              "      <td>999-1-187</td>\n",
              "      <td>New Rd</td>\n",
              "      <td>1</td>\n",
              "      <td>567760</td>\n",
              "      <td>867</td>\n",
              "      <td>nan</td>\n",
              "      <td>nan</td>\n",
              "      <td>nan</td>\n",
              "      <td>nan</td>\n",
              "      <td>nan</td>\n",
              "      <td>nan</td>\n",
              "      <td>nan</td>\n",
              "      <td>nan</td>\n",
              "      <td>1256733</td>\n",
              "      <td>1256700</td>\n",
              "      <td>1256733</td>\n",
              "      <td>1256733</td>\n",
              "      <td>NaN</td>\n",
              "      <td>nan</td>\n",
              "      <td>nan</td>\n",
              "      <td>0</td>\n",
              "      <td>0</td>\n",
              "      <td>0</td>\n",
              "      <td>0</td>\n",
              "      <td>0</td>\n",
              "      <td>nan</td>\n",
              "      <td>nan</td>\n",
              "      <td>nan</td>\n",
              "      <td>nan</td>\n",
              "      <td>nan</td>\n",
              "      <td>nan</td>\n",
              "      <td>nan</td>\n",
              "      <td>nan</td>\n",
              "      <td>nan</td>\n",
              "      <td>nan</td>\n",
              "      <td>NaN</td>\n",
              "      <td>NaN</td>\n",
              "      <td>NaN</td>\n",
              "      <td>nan</td>\n",
              "      <td>nan</td>\n",
              "      <td>nan</td>\n",
              "      <td>0</td>\n",
              "      <td>False</td>\n",
              "      <td>False</td>\n",
              "      <td>False</td>\n",
              "      <td>nan</td>\n",
              "      <td>nan</td>\n",
              "      <td>NaT</td>\n",
              "      <td>False</td>\n",
              "      <td>&lt;NA&gt;</td>\n",
              "      <td>False</td>\n",
              "      <td>False</td>\n",
              "      <td>False</td>\n",
              "      <td>False</td>\n",
              "      <td>999</td>\n",
              "      <td>nan</td>\n",
              "    </tr>\n",
              "  </tbody>\n",
              "</table>\n",
              "<p>20 rows × 56 columns</p>\n",
              "</div>"
            ],
            "text/plain": [
              "             ID             Street  ...  TaxMap   2020Tax\n",
              "6904   9-5-1.11       367 Water St  ...       9      0.00\n",
              "6905     9-5-30  260 Montgomery St  ...       9   5283.89\n",
              "6906     9-5-31  262 Montgomery St  ...       9   5527.01\n",
              "6907     9-5-32  264 Montgomery St  ...       9   5742.68\n",
              "6908     9-5-33  266 Montgomery St  ...       9   5613.28\n",
              "...         ...                ...  ...     ...       ...\n",
              "6919  999-1-181             New Rd  ...     999 126594.46\n",
              "6920  999-1-182                NaN  ...     999  18484.98\n",
              "6921  999-1-183                NaN  ...     999   1415.71\n",
              "6922  999-1-184                NaN  ...     999    117.43\n",
              "6923  999-1-187             New Rd  ...     999       nan\n",
              "\n",
              "[20 rows x 56 columns]"
            ]
          },
          "metadata": {
            "tags": []
          },
          "execution_count": 19
        }
      ]
    },
    {
      "cell_type": "code",
      "metadata": {
        "id": "qo364BQP7Dkz",
        "colab": {
          "base_uri": "https://localhost:8080/",
          "height": 277
        },
        "outputId": "68af280c-9034-4fbf-9932-663cd61d349f"
      },
      "source": [
        "ex1 = np.array([\n",
        "    df[(df['2016 City'] < 1) & (df['2016 Full'] > 1)].count()[0],\n",
        "    df[(df['2017 City'] < 1) & (df['2017 Full'] > 1)].count()[0],\n",
        "    df[(df['2018 City'] < 1) & (df['2018 Full'] > 1)].count()[0],\n",
        "    df[(df['2019 City'] < 1) & (df['2019 Full'] > 1)].count()[0],\n",
        "    df[(df['2020 City'] < 1) & (df['2020 Full'] > 1)].count()[0]\n",
        "])\n",
        "\n",
        "ex2 = np.array([\n",
        "    df[(df['2016 City'] < df['2016 Full'])].count()[0] - ex1[0],\n",
        "    df[(df['2017 City'] < df['2017 Full'])].count()[0] - ex1[1],\n",
        "    df[(df['2018 City'] < df['2018 Full'])].count()[0] - ex1[2],\n",
        "    df[(df['2019 City'] < df['2019 Full'])].count()[0] - ex1[3],\n",
        "    df[(df['2020 City'] < df['2020 Full'])].count()[0] - ex1[4]\n",
        "])\n",
        "\n",
        "fullPayer = np.array([\n",
        "    df[(df['2016 City'] == df['2016 Full'])].count()[0],\n",
        "    df[(df['2017 City'] == df['2017 Full'])].count()[0],\n",
        "    df[(df['2018 City'] == df['2018 Full'])].count()[0],\n",
        "    df[(df['2019 City'] == df['2019 Full'])].count()[0],\n",
        "    df[(df['2020 City'] == df['2020 Full'])].count()[0]\n",
        "])\n",
        "\n",
        "barWidth=0.25\n",
        "r1 = np.array([2016,2017,2018,2019,2020])\n",
        "r2 = [x + barWidth for x in r1]\n",
        "r3 = [x + barWidth for x in r2]\n",
        "\n",
        "\n",
        "plt.bar(r1, ex1, color=color1, width=0.25, label='Exempt')\n",
        "plt.bar(r2, ex2, color=color2, width=0.25, label='Partially Exempt')\n",
        "plt.bar(r3, fullPayer, color=color3, width=0.25, label='Full Payer')\n",
        "plt.ylabel('Count')\n",
        "plt.title('Full payers vs exempt payers per year')\n",
        "plt.legend()\n",
        "plt.show()"
      ],
      "execution_count": null,
      "outputs": [
        {
          "output_type": "display_data",
          "data": {
            "image/png": "[encoded data removed]",
            "text/plain": [
              "<Figure size 432x288 with 1 Axes>"
            ]
          },
          "metadata": {
            "tags": [],
            "needs_background": "light"
          }
        }
      ]
    },
    {
      "cell_type": "code",
      "metadata": {
        "id": "bi9FQS-AuVqX",
        "colab": {
          "base_uri": "https://localhost:8080/",
          "height": 277
        },
        "outputId": "abf7baab-023c-4542-9108-6a42db718595"
      },
      "source": [
        "totalCityAssessment = np.array([\n",
        "    df['2016 City'].sum()/1000/1000,\n",
        "    df['2017 City'].sum()/1000/1000,\n",
        "    df['2018 City'].sum()/1000/1000,\n",
        "    df['2019 City'].sum()/1000/1000,\n",
        "    df['2020 City'].sum()/1000/1000\n",
        "])\n",
        "\n",
        "totalHomesteadAssessment = np.array([\n",
        "    homestead['2016 City'].sum()/1000/1000,\n",
        "    homestead['2017 City'].sum()/1000/1000,\n",
        "    homestead['2018 City'].sum()/1000/1000,\n",
        "    homestead['2019 City'].sum()/1000/1000,\n",
        "    homestead['2020 City'].sum()/1000/1000\n",
        "])\n",
        "\n",
        "totalNonHomesteadAssessment = np.array([\n",
        "    nonHomestead['2016 City'].sum()/1000/1000,\n",
        "    nonHomestead['2017 City'].sum()/1000/1000,\n",
        "    nonHomestead['2018 City'].sum()/1000/1000,\n",
        "    nonHomestead['2019 City'].sum()/1000/1000,\n",
        "    nonHomestead['2020 City'].sum()/1000/1000\n",
        "])\n",
        "\n",
        "totalExemptCityAssessment = np.array([\n",
        "    (df['2016 Full'].sum() - df['2016 City'].sum()) /1000/1000,\n",
        "    (df['2017 Full'].sum() - df['2017 City'].sum()) /1000/1000,\n",
        "    (df['2018 Full'].sum() - df['2018 City'].sum()) /1000/1000,\n",
        "    (df['2019 Full'].sum() - df['2019 City'].sum()) /1000/1000,\n",
        "    (df['2020 Full'].sum() - df['2020 City'].sum()) /1000/1000,\n",
        "])\n",
        "\n",
        "\n",
        "barWidth=0.2\n",
        "r1 = np.array([2016,2017,2018,2019,2020])\n",
        "r2 = [x + barWidth for x in r1]\n",
        "r3 = [x + barWidth for x in r2]\n",
        "r4 = [x + barWidth for x in r3]\n",
        "\n",
        "\n",
        "plt.bar(r1, totalCityAssessment, color=color1, width=barWidth, label='Taxable value')\n",
        "plt.bar(r2, totalExemptCityAssessment, color=color2, width=barWidth, label='Exempt value')\n",
        "plt.bar(r3, totalHomesteadAssessment, color=color3, width=barWidth, label='Homestead value')\n",
        "plt.bar(r4, totalNonHomesteadAssessment, color=color4, width=barWidth, label='Non-homestead value')\n",
        "plt.ylabel('Millions')\n",
        "plt.title('Total assessed value by year')\n",
        "plt.legend()\n",
        "plt.show()"
      ],
      "execution_count": null,
      "outputs": [
        {
          "output_type": "display_data",
          "data": {
            "image/png": "[encoded data removed]",
            "text/plain": [
              "<Figure size 432x288 with 1 Axes>"
            ]
          },
          "metadata": {
            "tags": [],
            "needs_background": "light"
          }
        }
      ]
    },
    {
      "cell_type": "code",
      "metadata": {
        "id": "uvgT9xdZ-lDf",
        "colab": {
          "base_uri": "https://localhost:8080/",
          "height": 277
        },
        "outputId": "0e63d32f-85e6-410a-e6e4-5df25cab758d"
      },
      "source": [
        "totalCityAssessment = np.array([\n",
        "    df['2016 City'].sum()/1000/1000,\n",
        "    df['2017 City'].sum()/1000/1000,\n",
        "    df['2018 City'].sum()/1000/1000,\n",
        "    df['2019 City'].sum()/1000/1000,\n",
        "    df['2020 City'].sum()/1000/1000\n",
        "])\n",
        "\n",
        "totalHomesteadAssessment = np.array([\n",
        "    homestead['2016 City'].sum()/1000/1000,\n",
        "    homestead['2017 City'].sum()/1000/1000,\n",
        "    homestead['2018 City'].sum()/1000/1000,\n",
        "    homestead['2019 City'].sum()/1000/1000,\n",
        "    homestead['2020 City'].sum()/1000/1000\n",
        "])\n",
        "\n",
        "totalNonHomesteadAssessment = np.array([\n",
        "    nonHomestead['2016 City'].sum()/1000/1000,\n",
        "    nonHomestead['2017 City'].sum()/1000/1000,\n",
        "    nonHomestead['2018 City'].sum()/1000/1000,\n",
        "    nonHomestead['2019 City'].sum()/1000/1000,\n",
        "    nonHomestead['2020 City'].sum()/1000/1000\n",
        "])\n",
        "\n",
        "totalExemptCityAssessment = np.array([\n",
        "    (df['2016 Full'].sum() - df['2016 City'].sum()) /1000/1000,\n",
        "    (df['2017 Full'].sum() - df['2017 City'].sum()) /1000/1000,\n",
        "    (df['2018 Full'].sum() - df['2018 City'].sum()) /1000/1000,\n",
        "    (df['2019 Full'].sum() - df['2019 City'].sum()) /1000/1000,\n",
        "    (df['2020 Full'].sum() - df['2020 City'].sum()) /1000/1000,\n",
        "])\n",
        "\n",
        "\n",
        "barWidth=0.25\n",
        "r1 = np.array([2016,2017,2018,2019,2020])\n",
        "r2 = [x + barWidth for x in r1]\n",
        "r3 = [x + barWidth for x in r2]\n",
        "r4 = [x + barWidth for x in r3]\n",
        "\n",
        "\n",
        "plt.bar(r1, totalHomesteadAssessment, color=color1, width=0.25, label='Homestead value')\n",
        "plt.bar(r2, totalNonHomesteadAssessment, color=color2, width=0.25, label='Non-homestead value')\n",
        "plt.ylabel('Millions')\n",
        "plt.title('Total assessed value by year')\n",
        "plt.legend()\n",
        "plt.show()"
      ],
      "execution_count": null,
      "outputs": [
        {
          "output_type": "display_data",
          "data": {
            "image/png": "[encoded data removed]",
            "text/plain": [
              "<Figure size 432x288 with 1 Axes>"
            ]
          },
          "metadata": {
            "tags": [],
            "needs_background": "light"
          }
        }
      ]
    },
    {
      "cell_type": "markdown",
      "metadata": {
        "id": "4ZG3cuWFndoW"
      },
      "source": [
        "# Non-exempt properties 2019, 2020"
      ]
    },
    {
      "cell_type": "markdown",
      "metadata": {
        "id": "i4RtdinguOCn"
      },
      "source": [
        "# Count of exempt properties by class code\n",
        "\n",
        "\n",
        "\n",
        "```\n",
        "620 = Religious\n",
        "963 = City Public Park\n",
        "438 = Parking Lot\n",
        "330 = Vacant Commercial\n",
        "210 = Single-family\n",
        "311 = Vacant Residential\n",
        "```\n",
        "\n"
      ]
    },
    {
      "cell_type": "code",
      "metadata": {
        "id": "fEZBoHv4pF8O",
        "colab": {
          "base_uri": "https://localhost:8080/",
          "height": 268
        },
        "outputId": "5a18c029-0d84-4015-c23b-45cba2e6bc47"
      },
      "source": [
        "ex_agg = exempt[['Code', '2020 Full']].groupby('Code', as_index=False)['2020 Full'].agg({'avg':'mean', 'count':'count'})\n",
        "ex_cnt = ex_agg[ex_agg['count'] > 10].sort_values(by=['count'], ascending=False).head(10)\n",
        "#print(ex_cnt.to_string(index=False))\n",
        "ex_cnt\n",
        "\n",
        "def make_autopct(values):\n",
        "    def my_autopct(pct):\n",
        "        total = sum(values)\n",
        "        val = int(round(pct*total/100.0))\n",
        "        return val\n",
        "        #return '{p:.2f}%  ({v:d})'.format(p=pct,v=val)\n",
        "    return my_autopct\n",
        "\n",
        "labels = ex_cnt['Code'].replace(\n",
        "    [311, 620, 963, 438, 210, 330, 612, 464, 220, 340], \n",
        "    ['Vacant Residential', 'Religious', 'Park', 'Parking Lot', 'Single Family', 'Vacant Commercial', 'School', 'Office', 'Two Family', 'Vacant Industrial'])\n",
        "\n",
        "fig1, ax1 = plt.subplots()\n",
        "ax1.pie(ex_cnt['count'], labels=labels, autopct=make_autopct(ex_cnt['count']),\n",
        "        shadow=True, startangle=90)\n",
        "ax1.axis('equal')  # Equal aspect ratio ensures that pie is drawn as a circle.\n",
        "plt.title('2020 exempt properties by class')\n",
        "plt.show()\n",
        "\n"
      ],
      "execution_count": null,
      "outputs": [
        {
          "output_type": "display_data",
          "data": {
            "image/png": "[encoded data removed]",
            "text/plain": [
              "<Figure size 432x288 with 1 Axes>"
            ]
          },
          "metadata": {
            "tags": []
          }
        }
      ]
    },
    {
      "cell_type": "code",
      "metadata": {
        "id": "kXn9-Ogr7l4x",
        "colab": {
          "base_uri": "https://localhost:8080/",
          "height": 266
        },
        "outputId": "38a5fcc3-81d9-43ff-f7d2-148256566c3f"
      },
      "source": [
        "exempt2016 = df[df['2016 City'] < 1]\n",
        "ex_agg = exempt2016[['Code', '2016 Full']].groupby('Code', as_index=False)['2016 Full'].agg({'avg':'mean', 'count':'count'})\n",
        "ex_cnt = ex_agg[ex_agg['count'] > 10].sort_values(by=['count'], ascending=False).head(10)\n",
        "#print(ex_cnt.to_string(index=False))\n",
        "ex_cnt\n",
        "\n",
        "def make_autopct(values):\n",
        "    def my_autopct(pct):\n",
        "        total = sum(values)\n",
        "        val = int(round(pct*total/100.0))\n",
        "        return val\n",
        "        #return '{p:.2f}%  ({v:d})'.format(p=pct,v=val)\n",
        "    return my_autopct\n",
        "\n",
        "labels = ex_cnt['Code'].replace(\n",
        "    [311, 620, 963, 438, 210, 330, 612, 464, 220, 340, 411, 230], \n",
        "    ['Vacant Residential', 'Religious', 'Park', 'Parking Lot', 'Single Family', 'Vacant Commercial', 'School', 'Office', 'Two Family', 'Vacant Industrial', 'Apts', 'Three Family'])\n",
        "\n",
        "fig1, ax1 = plt.subplots()\n",
        "ax1.pie(ex_cnt['count'], labels=labels, autopct=make_autopct(ex_cnt['count']),\n",
        "        shadow=True, startangle=90)\n",
        "ax1.axis('equal')  # Equal aspect ratio ensures that pie is drawn as a circle.\n",
        "plt.title('2016 exempt properties by class')\n",
        "plt.show()"
      ],
      "execution_count": null,
      "outputs": [
        {
          "output_type": "display_data",
          "data": {
            "image/png": "[encoded data removed]",
            "text/plain": [
              "<Figure size 432x288 with 1 Axes>"
            ]
          },
          "metadata": {
            "tags": []
          }
        }
      ]
    },
    {
      "cell_type": "markdown",
      "metadata": {
        "id": "pFQJxHWV1SRm"
      },
      "source": [
        "# Does owner address match property address?\n",
        "\n",
        "0 = Out-of-state\n",
        "1 = Yes\n",
        "2 = Elsewhere in Newburgh\n",
        "3 = Elsewhere in NY"
      ]
    },
    {
      "cell_type": "code",
      "metadata": {
        "id": "Fq2nN6Gw1cMA",
        "colab": {
          "base_uri": "https://localhost:8080/",
          "height": 277
        },
        "outputId": "a8116a34-23c8-48d1-bd74-9e5e83582b2f"
      },
      "source": [
        "oaa0 = np.array([\n",
        "    df[(df['2016OwnerAtAddress'] == 0)].count()[0],\n",
        "    df[(df['2017OwnerAtAddress'] == 0)].count()[0],\n",
        "    df[(df['2018OwnerAtAddress'] == 0)].count()[0],\n",
        "    df[(df['2019OwnerAtAddress'] == 0)].count()[0],\n",
        "    df[(df['2020OwnerAtAddress'] == 0)].count()[0]\n",
        "])\n",
        "\n",
        "oaa1 = np.array([\n",
        "    df[(df['2016OwnerAtAddress'] == 1)].count()[0],\n",
        "    df[(df['2017OwnerAtAddress'] == 1)].count()[0],\n",
        "    df[(df['2018OwnerAtAddress'] == 1)].count()[0],\n",
        "    df[(df['2019OwnerAtAddress'] == 1)].count()[0],\n",
        "    df[(df['2020OwnerAtAddress'] == 1)].count()[0]\n",
        "])\n",
        "\n",
        "oaa2 = np.array([\n",
        "    df[(df['2016OwnerAtAddress'] == 2)].count()[0],\n",
        "    df[(df['2017OwnerAtAddress'] == 2)].count()[0],\n",
        "    df[(df['2018OwnerAtAddress'] == 2)].count()[0],\n",
        "    df[(df['2019OwnerAtAddress'] == 2)].count()[0],\n",
        "    df[(df['2020OwnerAtAddress'] == 2)].count()[0]\n",
        "])\n",
        "\n",
        "oaa3 = np.array([\n",
        "    df[(df['2016OwnerAtAddress'] == 3)].count()[0],\n",
        "    df[(df['2017OwnerAtAddress'] == 3)].count()[0],\n",
        "    df[(df['2018OwnerAtAddress'] == 3)].count()[0],\n",
        "    df[(df['2019OwnerAtAddress'] == 3)].count()[0],\n",
        "    df[(df['2020OwnerAtAddress'] == 3)].count()[0]\n",
        "])\n",
        "\n",
        "\n",
        "barWidth=0.2\n",
        "r1 = np.array([2016,2017,2018,2019,2020])\n",
        "r2 = [x + barWidth for x in r1]\n",
        "r3 = [x + barWidth for x in r2]\n",
        "r4 = [x + barWidth for x in r3]\n",
        "\n",
        "plt.bar(r1, oaa0, color=color1, width=0.2, label='Out of State')\n",
        "plt.bar(r2, oaa1, color=color2, width=0.2, label='At Address')\n",
        "plt.bar(r3, oaa2, color=color3, width=0.2, label='In Newburgh')\n",
        "plt.bar(r4, oaa3, color=color4, width=0.2, label='In NY')\n",
        "plt.ylabel('Count')\n",
        "plt.title('Owner Lives at Address')\n",
        "plt.legend()\n",
        "plt.show()"
      ],
      "execution_count": null,
      "outputs": [
        {
          "output_type": "display_data",
          "data": {
            "image/png": "[encoded data removed]",
            "text/plain": [
              "<Figure size 432x288 with 1 Axes>"
            ]
          },
          "metadata": {
            "tags": [],
            "needs_background": "light"
          }
        }
      ]
    },
    {
      "cell_type": "markdown",
      "metadata": {
        "id": "qCwC5pylzv7D"
      },
      "source": [
        "# What percentage of 2020 full market value is exempt?"
      ]
    },
    {
      "cell_type": "code",
      "metadata": {
        "id": "sL-DQcZqzua5",
        "colab": {
          "base_uri": "https://localhost:8080/"
        },
        "outputId": "cad63201-6e67-4084-c5ca-40fbacb55797"
      },
      "source": [
        "totalsum = df['2020 Full'].sum()\n",
        "exemptsum = exempt['2020 Full'].sum()\n",
        "exemptsum / totalsum"
      ],
      "execution_count": null,
      "outputs": [
        {
          "output_type": "execute_result",
          "data": {
            "text/plain": [
              "0.31451180135268014"
            ]
          },
          "metadata": {
            "tags": []
          },
          "execution_count": 8
        }
      ]
    },
    {
      "cell_type": "markdown",
      "metadata": {
        "id": "_GTPT7L10FzW"
      },
      "source": [
        "# What were the biggest increases in single-family assessed value 2016 - 2017?"
      ]
    },
    {
      "cell_type": "code",
      "metadata": {
        "id": "lNaQhW5wthcb",
        "colab": {
          "base_uri": "https://localhost:8080/",
          "height": 359
        },
        "outputId": "510ced52-8781-4fd4-ad0e-93d8532268d6"
      },
      "source": [
        "\n",
        "sf['2017 Dollar Increase'] = sf['2017 Full'] - sf['2016 Full']\n",
        "sf['2017 Increase'] = 100 * (sf['2017 Dollar Increase'] / sf['2016 Full'])\n",
        "sf[['ID', 'Street', '2016 Full', '2017 Full', '2017 Increase']].sort_values(by=['2017 Increase'], ascending=False).head(10)\n"
      ],
      "execution_count": null,
      "outputs": [
        {
          "output_type": "execute_result",
          "data": {
            "text/html": [
              "<div>\n",
              "<style scoped>\n",
              "    .dataframe tbody tr th:only-of-type {\n",
              "        vertical-align: middle;\n",
              "    }\n",
              "\n",
              "    .dataframe tbody tr th {\n",
              "        vertical-align: top;\n",
              "    }\n",
              "\n",
              "    .dataframe thead th {\n",
              "        text-align: right;\n",
              "    }\n",
              "</style>\n",
              "<table border=\"1\" class=\"dataframe\">\n",
              "  <thead>\n",
              "    <tr style=\"text-align: right;\">\n",
              "      <th></th>\n",
              "      <th>ID</th>\n",
              "      <th>Street</th>\n",
              "      <th>2016 Full</th>\n",
              "      <th>2017 Full</th>\n",
              "      <th>2017 Increase</th>\n",
              "    </tr>\n",
              "  </thead>\n",
              "  <tbody>\n",
              "    <tr>\n",
              "      <th>1482</th>\n",
              "      <td>26-3-5.3</td>\n",
              "      <td>23 Morris Ave</td>\n",
              "      <td>22500.00</td>\n",
              "      <td>189720.00</td>\n",
              "      <td>743.20</td>\n",
              "    </tr>\n",
              "    <tr>\n",
              "      <th>1902</th>\n",
              "      <td>36-2-15</td>\n",
              "      <td>152 Ann St</td>\n",
              "      <td>1500.00</td>\n",
              "      <td>12000.00</td>\n",
              "      <td>700.00</td>\n",
              "    </tr>\n",
              "    <tr>\n",
              "      <th>2125</th>\n",
              "      <td>4-8-20</td>\n",
              "      <td>21 Leroy Pl</td>\n",
              "      <td>45000.00</td>\n",
              "      <td>339200.00</td>\n",
              "      <td>653.78</td>\n",
              "    </tr>\n",
              "    <tr>\n",
              "      <th>2290</th>\n",
              "      <td>48-12-22</td>\n",
              "      <td>84 Henry Ave</td>\n",
              "      <td>19800.00</td>\n",
              "      <td>134400.00</td>\n",
              "      <td>578.79</td>\n",
              "    </tr>\n",
              "    <tr>\n",
              "      <th>1901</th>\n",
              "      <td>36-2-13.2</td>\n",
              "      <td>150 Ann St</td>\n",
              "      <td>1800.00</td>\n",
              "      <td>12000.00</td>\n",
              "      <td>566.67</td>\n",
              "    </tr>\n",
              "    <tr>\n",
              "      <th>1903</th>\n",
              "      <td>36-2-16</td>\n",
              "      <td>154 Ann St</td>\n",
              "      <td>2000.00</td>\n",
              "      <td>12000.00</td>\n",
              "      <td>500.00</td>\n",
              "    </tr>\n",
              "    <tr>\n",
              "      <th>1410</th>\n",
              "      <td>26-1-6.1</td>\n",
              "      <td>157 Dupont Ave Front</td>\n",
              "      <td>21600.00</td>\n",
              "      <td>67400.00</td>\n",
              "      <td>212.04</td>\n",
              "    </tr>\n",
              "    <tr>\n",
              "      <th>1174</th>\n",
              "      <td>22-5-30</td>\n",
              "      <td>254 First St</td>\n",
              "      <td>15500.00</td>\n",
              "      <td>45900.00</td>\n",
              "      <td>196.13</td>\n",
              "    </tr>\n",
              "    <tr>\n",
              "      <th>71</th>\n",
              "      <td>11-5-10</td>\n",
              "      <td>309 Liberty St</td>\n",
              "      <td>10300.00</td>\n",
              "      <td>30100.00</td>\n",
              "      <td>192.23</td>\n",
              "    </tr>\n",
              "    <tr>\n",
              "      <th>2313</th>\n",
              "      <td>48-3-22</td>\n",
              "      <td>24 Courtney Ave</td>\n",
              "      <td>74600.00</td>\n",
              "      <td>174200.00</td>\n",
              "      <td>133.51</td>\n",
              "    </tr>\n",
              "  </tbody>\n",
              "</table>\n",
              "</div>"
            ],
            "text/plain": [
              "             ID                Street  2016 Full  2017 Full  2017 Increase\n",
              "1482   26-3-5.3         23 Morris Ave   22500.00  189720.00         743.20\n",
              "1902    36-2-15            152 Ann St    1500.00   12000.00         700.00\n",
              "2125     4-8-20           21 Leroy Pl   45000.00  339200.00         653.78\n",
              "2290   48-12-22          84 Henry Ave   19800.00  134400.00         578.79\n",
              "1901  36-2-13.2            150 Ann St    1800.00   12000.00         566.67\n",
              "1903    36-2-16            154 Ann St    2000.00   12000.00         500.00\n",
              "1410   26-1-6.1  157 Dupont Ave Front   21600.00   67400.00         212.04\n",
              "1174    22-5-30          254 First St   15500.00   45900.00         196.13\n",
              "71      11-5-10        309 Liberty St   10300.00   30100.00         192.23\n",
              "2313    48-3-22       24 Courtney Ave   74600.00  174200.00         133.51"
            ]
          },
          "metadata": {
            "tags": []
          },
          "execution_count": 9
        }
      ]
    },
    {
      "cell_type": "markdown",
      "metadata": {
        "id": "nBcyZpE12H1e"
      },
      "source": [
        "# What were the biggest increases in single-family assessed value 2017 - 2018?"
      ]
    },
    {
      "cell_type": "code",
      "metadata": {
        "id": "OGY7Jek41-vo",
        "colab": {
          "base_uri": "https://localhost:8080/",
          "height": 359
        },
        "outputId": "a781d0bc-3052-42db-c126-66df2b317e7b"
      },
      "source": [
        "sf['2018 Dollar Increase'] = sf['2018 Full'] - sf['2017 Full']\n",
        "sf['2018 Increase'] = 100 * (sf['2018 Dollar Increase'] / sf['2017 Full'])\n",
        "sf[['ID', 'Street', '2017 Full', '2018 Full', '2018 Increase']].sort_values(by=['2018 Increase'], ascending=False).head(10)"
      ],
      "execution_count": null,
      "outputs": [
        {
          "output_type": "execute_result",
          "data": {
            "text/html": [
              "<div>\n",
              "<style scoped>\n",
              "    .dataframe tbody tr th:only-of-type {\n",
              "        vertical-align: middle;\n",
              "    }\n",
              "\n",
              "    .dataframe tbody tr th {\n",
              "        vertical-align: top;\n",
              "    }\n",
              "\n",
              "    .dataframe thead th {\n",
              "        text-align: right;\n",
              "    }\n",
              "</style>\n",
              "<table border=\"1\" class=\"dataframe\">\n",
              "  <thead>\n",
              "    <tr style=\"text-align: right;\">\n",
              "      <th></th>\n",
              "      <th>ID</th>\n",
              "      <th>Street</th>\n",
              "      <th>2017 Full</th>\n",
              "      <th>2018 Full</th>\n",
              "      <th>2018 Increase</th>\n",
              "    </tr>\n",
              "  </thead>\n",
              "  <tbody>\n",
              "    <tr>\n",
              "      <th>1904</th>\n",
              "      <td>36-2-17</td>\n",
              "      <td>156 Ann St</td>\n",
              "      <td>12000.00</td>\n",
              "      <td>145200.00</td>\n",
              "      <td>1110.00</td>\n",
              "    </tr>\n",
              "    <tr>\n",
              "      <th>1901</th>\n",
              "      <td>36-2-13.2</td>\n",
              "      <td>150 Ann St</td>\n",
              "      <td>12000.00</td>\n",
              "      <td>145200.00</td>\n",
              "      <td>1110.00</td>\n",
              "    </tr>\n",
              "    <tr>\n",
              "      <th>1902</th>\n",
              "      <td>36-2-15</td>\n",
              "      <td>152 Ann St</td>\n",
              "      <td>12000.00</td>\n",
              "      <td>145200.00</td>\n",
              "      <td>1110.00</td>\n",
              "    </tr>\n",
              "    <tr>\n",
              "      <th>1903</th>\n",
              "      <td>36-2-16</td>\n",
              "      <td>154 Ann St</td>\n",
              "      <td>12000.00</td>\n",
              "      <td>145200.00</td>\n",
              "      <td>1110.00</td>\n",
              "    </tr>\n",
              "    <tr>\n",
              "      <th>238</th>\n",
              "      <td>14-2-16.13</td>\n",
              "      <td>156 Orchard St</td>\n",
              "      <td>24600.00</td>\n",
              "      <td>208500.00</td>\n",
              "      <td>747.56</td>\n",
              "    </tr>\n",
              "    <tr>\n",
              "      <th>237</th>\n",
              "      <td>14-2-16.12</td>\n",
              "      <td>144 Orchard St</td>\n",
              "      <td>24500.00</td>\n",
              "      <td>195200.00</td>\n",
              "      <td>696.73</td>\n",
              "    </tr>\n",
              "    <tr>\n",
              "      <th>742</th>\n",
              "      <td>18-4-45</td>\n",
              "      <td>155 Lander St</td>\n",
              "      <td>12900.00</td>\n",
              "      <td>74400.00</td>\n",
              "      <td>476.74</td>\n",
              "    </tr>\n",
              "    <tr>\n",
              "      <th>2202</th>\n",
              "      <td>45-6-19</td>\n",
              "      <td>44 Carson Ave</td>\n",
              "      <td>43700.00</td>\n",
              "      <td>250000.00</td>\n",
              "      <td>472.08</td>\n",
              "    </tr>\n",
              "    <tr>\n",
              "      <th>1045</th>\n",
              "      <td>20-3-34</td>\n",
              "      <td>446 First St</td>\n",
              "      <td>26600.00</td>\n",
              "      <td>116700.00</td>\n",
              "      <td>338.72</td>\n",
              "    </tr>\n",
              "    <tr>\n",
              "      <th>1054</th>\n",
              "      <td>21-1-1</td>\n",
              "      <td>387 Third St</td>\n",
              "      <td>33900.00</td>\n",
              "      <td>140600.00</td>\n",
              "      <td>314.75</td>\n",
              "    </tr>\n",
              "  </tbody>\n",
              "</table>\n",
              "</div>"
            ],
            "text/plain": [
              "              ID          Street  2017 Full  2018 Full  2018 Increase\n",
              "1904     36-2-17      156 Ann St   12000.00  145200.00        1110.00\n",
              "1901   36-2-13.2      150 Ann St   12000.00  145200.00        1110.00\n",
              "1902     36-2-15      152 Ann St   12000.00  145200.00        1110.00\n",
              "1903     36-2-16      154 Ann St   12000.00  145200.00        1110.00\n",
              "238   14-2-16.13  156 Orchard St   24600.00  208500.00         747.56\n",
              "237   14-2-16.12  144 Orchard St   24500.00  195200.00         696.73\n",
              "742      18-4-45   155 Lander St   12900.00   74400.00         476.74\n",
              "2202     45-6-19   44 Carson Ave   43700.00  250000.00         472.08\n",
              "1045     20-3-34    446 First St   26600.00  116700.00         338.72\n",
              "1054      21-1-1    387 Third St   33900.00  140600.00         314.75"
            ]
          },
          "metadata": {
            "tags": []
          },
          "execution_count": 10
        }
      ]
    },
    {
      "cell_type": "markdown",
      "metadata": {
        "id": "WJr5wm8R2MCx"
      },
      "source": [
        "# What were the biggest increases in single-family assessed value 2018 - 2020?"
      ]
    },
    {
      "cell_type": "code",
      "metadata": {
        "id": "7vjqXnex2QU0",
        "colab": {
          "base_uri": "https://localhost:8080/",
          "height": 359
        },
        "outputId": "5c116612-0bce-4ac6-d946-df27841af148"
      },
      "source": [
        "sf['2020 Dollar Increase'] = sf['2020 Full'] - sf['2018 Full']\n",
        "sf['2020 Increase'] = 100 * (sf['2020 Dollar Increase'] / sf['2018 Full'])\n",
        "sf[['ID', 'Street', '2018 Full', '2020 Full', '2020 Increase']].sort_values(by=['2020 Increase'], ascending=False).head(10)"
      ],
      "execution_count": null,
      "outputs": [
        {
          "output_type": "execute_result",
          "data": {
            "text/html": [
              "<div>\n",
              "<style scoped>\n",
              "    .dataframe tbody tr th:only-of-type {\n",
              "        vertical-align: middle;\n",
              "    }\n",
              "\n",
              "    .dataframe tbody tr th {\n",
              "        vertical-align: top;\n",
              "    }\n",
              "\n",
              "    .dataframe thead th {\n",
              "        text-align: right;\n",
              "    }\n",
              "</style>\n",
              "<table border=\"1\" class=\"dataframe\">\n",
              "  <thead>\n",
              "    <tr style=\"text-align: right;\">\n",
              "      <th></th>\n",
              "      <th>ID</th>\n",
              "      <th>Street</th>\n",
              "      <th>2018 Full</th>\n",
              "      <th>2020 Full</th>\n",
              "      <th>2020 Increase</th>\n",
              "    </tr>\n",
              "  </thead>\n",
              "  <tbody>\n",
              "    <tr>\n",
              "      <th>1816</th>\n",
              "      <td>30-2-19</td>\n",
              "      <td>21 Johnston St</td>\n",
              "      <td>10900.00</td>\n",
              "      <td>175400</td>\n",
              "      <td>1509.17</td>\n",
              "    </tr>\n",
              "    <tr>\n",
              "      <th>1815</th>\n",
              "      <td>30-2-18</td>\n",
              "      <td>23 Johnston St</td>\n",
              "      <td>10900.00</td>\n",
              "      <td>175400</td>\n",
              "      <td>1509.17</td>\n",
              "    </tr>\n",
              "    <tr>\n",
              "      <th>2314</th>\n",
              "      <td>48-3-24</td>\n",
              "      <td>28 Courtney Ave</td>\n",
              "      <td>19300.00</td>\n",
              "      <td>167300</td>\n",
              "      <td>766.84</td>\n",
              "    </tr>\n",
              "    <tr>\n",
              "      <th>1791</th>\n",
              "      <td>3-9-27</td>\n",
              "      <td>324 Robinson Ave</td>\n",
              "      <td>20500.00</td>\n",
              "      <td>172800</td>\n",
              "      <td>742.93</td>\n",
              "    </tr>\n",
              "    <tr>\n",
              "      <th>1953</th>\n",
              "      <td>38-2-42</td>\n",
              "      <td>120 W Parmenter St</td>\n",
              "      <td>26900.00</td>\n",
              "      <td>189300</td>\n",
              "      <td>603.72</td>\n",
              "    </tr>\n",
              "    <tr>\n",
              "      <th>2746</th>\n",
              "      <td>7-1-14</td>\n",
              "      <td>15 Sequestered Rd</td>\n",
              "      <td>32900.00</td>\n",
              "      <td>211700</td>\n",
              "      <td>543.47</td>\n",
              "    </tr>\n",
              "    <tr>\n",
              "      <th>1819</th>\n",
              "      <td>30-2-37</td>\n",
              "      <td>20 S Miller St</td>\n",
              "      <td>26700.00</td>\n",
              "      <td>163100</td>\n",
              "      <td>510.86</td>\n",
              "    </tr>\n",
              "    <tr>\n",
              "      <th>2008</th>\n",
              "      <td>39-2-19</td>\n",
              "      <td>89 William St</td>\n",
              "      <td>28000.00</td>\n",
              "      <td>159400</td>\n",
              "      <td>469.29</td>\n",
              "    </tr>\n",
              "    <tr>\n",
              "      <th>1630</th>\n",
              "      <td>29-1-10</td>\n",
              "      <td>49 Concord St</td>\n",
              "      <td>19800.00</td>\n",
              "      <td>103600</td>\n",
              "      <td>423.23</td>\n",
              "    </tr>\n",
              "    <tr>\n",
              "      <th>1113</th>\n",
              "      <td>21-5-6</td>\n",
              "      <td>2 Lincoln Ter</td>\n",
              "      <td>43800.00</td>\n",
              "      <td>216000</td>\n",
              "      <td>393.15</td>\n",
              "    </tr>\n",
              "  </tbody>\n",
              "</table>\n",
              "</div>"
            ],
            "text/plain": [
              "           ID              Street  2018 Full  2020 Full  2020 Increase\n",
              "1816  30-2-19      21 Johnston St   10900.00     175400        1509.17\n",
              "1815  30-2-18      23 Johnston St   10900.00     175400        1509.17\n",
              "2314  48-3-24     28 Courtney Ave   19300.00     167300         766.84\n",
              "1791   3-9-27    324 Robinson Ave   20500.00     172800         742.93\n",
              "1953  38-2-42  120 W Parmenter St   26900.00     189300         603.72\n",
              "2746   7-1-14   15 Sequestered Rd   32900.00     211700         543.47\n",
              "1819  30-2-37      20 S Miller St   26700.00     163100         510.86\n",
              "2008  39-2-19       89 William St   28000.00     159400         469.29\n",
              "1630  29-1-10       49 Concord St   19800.00     103600         423.23\n",
              "1113   21-5-6       2 Lincoln Ter   43800.00     216000         393.15"
            ]
          },
          "metadata": {
            "tags": []
          },
          "execution_count": 11
        }
      ]
    },
    {
      "cell_type": "markdown",
      "metadata": {
        "id": "rj16BICPNqvE"
      },
      "source": [
        "# How many taxable properties had no assessment change 2017-2020?"
      ]
    },
    {
      "cell_type": "code",
      "metadata": {
        "id": "yNP9lehRLwPu",
        "colab": {
          "base_uri": "https://localhost:8080/",
          "height": 204
        },
        "outputId": "219ef58f-808e-49f6-b841-fce5eebe9c3a"
      },
      "source": [
        "# Where 2016 and 2020 are identical\n",
        "nochange = df[df['2020 Full'] == df['2017 Full']]\n",
        "# Remove exempt and properties worth less than 20k\n",
        "nochange = nochange[nochange['2020 City'] > 20000]\n",
        "# Aggregate by ward\n",
        "nochange[['ID', 'Ward']].groupby(['Ward']).agg('count')"
      ],
      "execution_count": null,
      "outputs": [
        {
          "output_type": "execute_result",
          "data": {
            "text/html": [
              "<div>\n",
              "<style scoped>\n",
              "    .dataframe tbody tr th:only-of-type {\n",
              "        vertical-align: middle;\n",
              "    }\n",
              "\n",
              "    .dataframe tbody tr th {\n",
              "        vertical-align: top;\n",
              "    }\n",
              "\n",
              "    .dataframe thead th {\n",
              "        text-align: right;\n",
              "    }\n",
              "</style>\n",
              "<table border=\"1\" class=\"dataframe\">\n",
              "  <thead>\n",
              "    <tr style=\"text-align: right;\">\n",
              "      <th></th>\n",
              "      <th>ID</th>\n",
              "    </tr>\n",
              "    <tr>\n",
              "      <th>Ward</th>\n",
              "      <th></th>\n",
              "    </tr>\n",
              "  </thead>\n",
              "  <tbody>\n",
              "    <tr>\n",
              "      <th>Ward 1</th>\n",
              "      <td>13</td>\n",
              "    </tr>\n",
              "    <tr>\n",
              "      <th>Ward 2</th>\n",
              "      <td>12</td>\n",
              "    </tr>\n",
              "    <tr>\n",
              "      <th>Ward 3</th>\n",
              "      <td>44</td>\n",
              "    </tr>\n",
              "    <tr>\n",
              "      <th>Ward 4</th>\n",
              "      <td>12</td>\n",
              "    </tr>\n",
              "  </tbody>\n",
              "</table>\n",
              "</div>"
            ],
            "text/plain": [
              "        ID\n",
              "Ward      \n",
              "Ward 1  13\n",
              "Ward 2  12\n",
              "Ward 3  44\n",
              "Ward 4  12"
            ]
          },
          "metadata": {
            "tags": []
          },
          "execution_count": 12
        }
      ]
    },
    {
      "cell_type": "markdown",
      "metadata": {
        "id": "0e54tTp_3TVa"
      },
      "source": [
        "# What were the biggest decreases in single-family assessed value 2018 - 2020?"
      ]
    },
    {
      "cell_type": "code",
      "metadata": {
        "id": "9moAuwMM3Or_",
        "colab": {
          "base_uri": "https://localhost:8080/",
          "height": 359
        },
        "outputId": "51372105-2203-41b0-be82-cf4df11b9629"
      },
      "source": [
        "sf[['ID', 'Street', '2018 Full', '2020 Full', '2020 Increase']].sort_values(by=['2020 Increase'], ascending=True).head(10)"
      ],
      "execution_count": null,
      "outputs": [
        {
          "output_type": "execute_result",
          "data": {
            "text/html": [
              "<div>\n",
              "<style scoped>\n",
              "    .dataframe tbody tr th:only-of-type {\n",
              "        vertical-align: middle;\n",
              "    }\n",
              "\n",
              "    .dataframe tbody tr th {\n",
              "        vertical-align: top;\n",
              "    }\n",
              "\n",
              "    .dataframe thead th {\n",
              "        text-align: right;\n",
              "    }\n",
              "</style>\n",
              "<table border=\"1\" class=\"dataframe\">\n",
              "  <thead>\n",
              "    <tr style=\"text-align: right;\">\n",
              "      <th></th>\n",
              "      <th>ID</th>\n",
              "      <th>Street</th>\n",
              "      <th>2018 Full</th>\n",
              "      <th>2020 Full</th>\n",
              "      <th>2020 Increase</th>\n",
              "    </tr>\n",
              "  </thead>\n",
              "  <tbody>\n",
              "    <tr>\n",
              "      <th>3</th>\n",
              "      <td>10-1-20</td>\n",
              "      <td>82 Clinton St</td>\n",
              "      <td>144800.00</td>\n",
              "      <td>66300</td>\n",
              "      <td>-54.21</td>\n",
              "    </tr>\n",
              "    <tr>\n",
              "      <th>2177</th>\n",
              "      <td>45-10-18</td>\n",
              "      <td>130 Carson Ave</td>\n",
              "      <td>32100.00</td>\n",
              "      <td>15900</td>\n",
              "      <td>-50.47</td>\n",
              "    </tr>\n",
              "    <tr>\n",
              "      <th>2073</th>\n",
              "      <td>4-10-30</td>\n",
              "      <td>520 Liberty St</td>\n",
              "      <td>110000.00</td>\n",
              "      <td>63100</td>\n",
              "      <td>-42.64</td>\n",
              "    </tr>\n",
              "    <tr>\n",
              "      <th>2182</th>\n",
              "      <td>45-10-23</td>\n",
              "      <td>140 Carson Ave</td>\n",
              "      <td>37400.00</td>\n",
              "      <td>21600</td>\n",
              "      <td>-42.25</td>\n",
              "    </tr>\n",
              "    <tr>\n",
              "      <th>2179</th>\n",
              "      <td>45-10-20</td>\n",
              "      <td>134 Carson Ave</td>\n",
              "      <td>31700.00</td>\n",
              "      <td>18600</td>\n",
              "      <td>-41.32</td>\n",
              "    </tr>\n",
              "    <tr>\n",
              "      <th>1781</th>\n",
              "      <td>3-9-1</td>\n",
              "      <td>7 Cottage Ave</td>\n",
              "      <td>124500.00</td>\n",
              "      <td>78300</td>\n",
              "      <td>-37.11</td>\n",
              "    </tr>\n",
              "    <tr>\n",
              "      <th>2175</th>\n",
              "      <td>45-10-16</td>\n",
              "      <td>126 Carson Ave</td>\n",
              "      <td>34700.00</td>\n",
              "      <td>22200</td>\n",
              "      <td>-36.02</td>\n",
              "    </tr>\n",
              "    <tr>\n",
              "      <th>2920</th>\n",
              "      <td>7-7-41</td>\n",
              "      <td>260 Carpenter Ave</td>\n",
              "      <td>168600.00</td>\n",
              "      <td>113500</td>\n",
              "      <td>-32.68</td>\n",
              "    </tr>\n",
              "    <tr>\n",
              "      <th>1026</th>\n",
              "      <td>20-2-8</td>\n",
              "      <td>409 Third St</td>\n",
              "      <td>119700.00</td>\n",
              "      <td>81000</td>\n",
              "      <td>-32.33</td>\n",
              "    </tr>\n",
              "    <tr>\n",
              "      <th>767</th>\n",
              "      <td>18-9-7</td>\n",
              "      <td>117 Chambers St</td>\n",
              "      <td>96200.00</td>\n",
              "      <td>65100</td>\n",
              "      <td>-32.33</td>\n",
              "    </tr>\n",
              "  </tbody>\n",
              "</table>\n",
              "</div>"
            ],
            "text/plain": [
              "            ID             Street  2018 Full  2020 Full  2020 Increase\n",
              "3      10-1-20      82 Clinton St  144800.00      66300         -54.21\n",
              "2177  45-10-18     130 Carson Ave   32100.00      15900         -50.47\n",
              "2073   4-10-30     520 Liberty St  110000.00      63100         -42.64\n",
              "2182  45-10-23     140 Carson Ave   37400.00      21600         -42.25\n",
              "2179  45-10-20     134 Carson Ave   31700.00      18600         -41.32\n",
              "1781     3-9-1      7 Cottage Ave  124500.00      78300         -37.11\n",
              "2175  45-10-16     126 Carson Ave   34700.00      22200         -36.02\n",
              "2920    7-7-41  260 Carpenter Ave  168600.00     113500         -32.68\n",
              "1026    20-2-8       409 Third St  119700.00      81000         -32.33\n",
              "767     18-9-7    117 Chambers St   96200.00      65100         -32.33"
            ]
          },
          "metadata": {
            "tags": []
          },
          "execution_count": 13
        }
      ]
    },
    {
      "cell_type": "markdown",
      "metadata": {
        "id": "wDqAmDyoqI74"
      },
      "source": [
        "# What is the breakdown between homestead and non-homestead?\n",
        "\n",
        "```\n",
        "0 = Homestead\n",
        "1 = Non-Homestead\n",
        "2 = Non-HMSTD (Special)\n",
        "```\n",
        "\n"
      ]
    },
    {
      "cell_type": "code",
      "metadata": {
        "id": "PzEhs4YuojC-",
        "colab": {
          "base_uri": "https://localhost:8080/",
          "height": 204
        },
        "outputId": "0fb5b022-6c0c-4656-ee3c-ae16c482c096"
      },
      "source": [
        "df[['ID', 'Non-Homestead', '2020 Full']].groupby('Non-Homestead').describe()"
      ],
      "execution_count": null,
      "outputs": [
        {
          "output_type": "execute_result",
          "data": {
            "text/html": [
              "<div>\n",
              "<style scoped>\n",
              "    .dataframe tbody tr th:only-of-type {\n",
              "        vertical-align: middle;\n",
              "    }\n",
              "\n",
              "    .dataframe tbody tr th {\n",
              "        vertical-align: top;\n",
              "    }\n",
              "\n",
              "    .dataframe thead tr th {\n",
              "        text-align: left;\n",
              "    }\n",
              "\n",
              "    .dataframe thead tr:last-of-type th {\n",
              "        text-align: right;\n",
              "    }\n",
              "</style>\n",
              "<table border=\"1\" class=\"dataframe\">\n",
              "  <thead>\n",
              "    <tr>\n",
              "      <th></th>\n",
              "      <th colspan=\"8\" halign=\"left\">2020 Full</th>\n",
              "    </tr>\n",
              "    <tr>\n",
              "      <th></th>\n",
              "      <th>count</th>\n",
              "      <th>mean</th>\n",
              "      <th>std</th>\n",
              "      <th>min</th>\n",
              "      <th>25%</th>\n",
              "      <th>50%</th>\n",
              "      <th>75%</th>\n",
              "      <th>max</th>\n",
              "    </tr>\n",
              "    <tr>\n",
              "      <th>Non-Homestead</th>\n",
              "      <th></th>\n",
              "      <th></th>\n",
              "      <th></th>\n",
              "      <th></th>\n",
              "      <th></th>\n",
              "      <th></th>\n",
              "      <th></th>\n",
              "      <th></th>\n",
              "    </tr>\n",
              "  </thead>\n",
              "  <tbody>\n",
              "    <tr>\n",
              "      <th>0</th>\n",
              "      <td>5265.00</td>\n",
              "      <td>143491.13</td>\n",
              "      <td>77081.89</td>\n",
              "      <td>100.00</td>\n",
              "      <td>103600.00</td>\n",
              "      <td>142100.00</td>\n",
              "      <td>183000.00</td>\n",
              "      <td>626000.00</td>\n",
              "    </tr>\n",
              "    <tr>\n",
              "      <th>1</th>\n",
              "      <td>1620.00</td>\n",
              "      <td>631433.83</td>\n",
              "      <td>3268728.44</td>\n",
              "      <td>100.00</td>\n",
              "      <td>84200.00</td>\n",
              "      <td>197400.00</td>\n",
              "      <td>364800.00</td>\n",
              "      <td>71634800.00</td>\n",
              "    </tr>\n",
              "    <tr>\n",
              "      <th>2</th>\n",
              "      <td>39.00</td>\n",
              "      <td>255689.74</td>\n",
              "      <td>154039.36</td>\n",
              "      <td>71600.00</td>\n",
              "      <td>171150.00</td>\n",
              "      <td>229400.00</td>\n",
              "      <td>267950.00</td>\n",
              "      <td>981500.00</td>\n",
              "    </tr>\n",
              "  </tbody>\n",
              "</table>\n",
              "</div>"
            ],
            "text/plain": [
              "              2020 Full                       ...                                \n",
              "                  count      mean        std  ...       50%       75%         max\n",
              "Non-Homestead                                 ...                                \n",
              "0               5265.00 143491.13   77081.89  ... 142100.00 183000.00   626000.00\n",
              "1               1620.00 631433.83 3268728.44  ... 197400.00 364800.00 71634800.00\n",
              "2                 39.00 255689.74  154039.36  ... 229400.00 267950.00   981500.00\n",
              "\n",
              "[3 rows x 8 columns]"
            ]
          },
          "metadata": {
            "tags": []
          },
          "execution_count": 14
        }
      ]
    },
    {
      "cell_type": "markdown",
      "metadata": {
        "id": "7tsXyMNU3fAX"
      },
      "source": [
        "# 2020 Full Market value breakdown by class code\n",
        "\n",
        "Description of [class codes is available here](https://www.cityofnewburgh-ny.gov/sites/newburghny/files/u153/property_class_codes.pdf) "
      ]
    },
    {
      "cell_type": "code",
      "metadata": {
        "id": "KmHuJ8UFjnBb",
        "colab": {
          "base_uri": "https://localhost:8080/",
          "height": 481
        },
        "outputId": "69653437-58a9-4d6f-9e95-4768723ee89d"
      },
      "source": [
        "df[['ID', 'Code', '2020 Full']].groupby(['Code']).describe()"
      ],
      "execution_count": null,
      "outputs": [
        {
          "output_type": "execute_result",
          "data": {
            "text/html": [
              "<div>\n",
              "<style scoped>\n",
              "    .dataframe tbody tr th:only-of-type {\n",
              "        vertical-align: middle;\n",
              "    }\n",
              "\n",
              "    .dataframe tbody tr th {\n",
              "        vertical-align: top;\n",
              "    }\n",
              "\n",
              "    .dataframe thead tr th {\n",
              "        text-align: left;\n",
              "    }\n",
              "\n",
              "    .dataframe thead tr:last-of-type th {\n",
              "        text-align: right;\n",
              "    }\n",
              "</style>\n",
              "<table border=\"1\" class=\"dataframe\">\n",
              "  <thead>\n",
              "    <tr>\n",
              "      <th></th>\n",
              "      <th colspan=\"8\" halign=\"left\">2020 Full</th>\n",
              "    </tr>\n",
              "    <tr>\n",
              "      <th></th>\n",
              "      <th>count</th>\n",
              "      <th>mean</th>\n",
              "      <th>std</th>\n",
              "      <th>min</th>\n",
              "      <th>25%</th>\n",
              "      <th>50%</th>\n",
              "      <th>75%</th>\n",
              "      <th>max</th>\n",
              "    </tr>\n",
              "    <tr>\n",
              "      <th>Code</th>\n",
              "      <th></th>\n",
              "      <th></th>\n",
              "      <th></th>\n",
              "      <th></th>\n",
              "      <th></th>\n",
              "      <th></th>\n",
              "      <th></th>\n",
              "      <th></th>\n",
              "    </tr>\n",
              "  </thead>\n",
              "  <tbody>\n",
              "    <tr>\n",
              "      <th>210</th>\n",
              "      <td>3064.00</td>\n",
              "      <td>154107.08</td>\n",
              "      <td>68176.77</td>\n",
              "      <td>3000.00</td>\n",
              "      <td>117075.00</td>\n",
              "      <td>145600.00</td>\n",
              "      <td>186600.00</td>\n",
              "      <td>528500.00</td>\n",
              "    </tr>\n",
              "    <tr>\n",
              "      <th>220</th>\n",
              "      <td>1243.00</td>\n",
              "      <td>149166.21</td>\n",
              "      <td>60825.85</td>\n",
              "      <td>29500.00</td>\n",
              "      <td>113750.00</td>\n",
              "      <td>143100.00</td>\n",
              "      <td>175550.00</td>\n",
              "      <td>626000.00</td>\n",
              "    </tr>\n",
              "    <tr>\n",
              "      <th>230</th>\n",
              "      <td>456.00</td>\n",
              "      <td>187414.69</td>\n",
              "      <td>71343.10</td>\n",
              "      <td>54200.00</td>\n",
              "      <td>150450.00</td>\n",
              "      <td>180450.00</td>\n",
              "      <td>216750.00</td>\n",
              "      <td>520000.00</td>\n",
              "    </tr>\n",
              "    <tr>\n",
              "      <th>271</th>\n",
              "      <td>1.00</td>\n",
              "      <td>66900.00</td>\n",
              "      <td>nan</td>\n",
              "      <td>66900.00</td>\n",
              "      <td>66900.00</td>\n",
              "      <td>66900.00</td>\n",
              "      <td>66900.00</td>\n",
              "      <td>66900.00</td>\n",
              "    </tr>\n",
              "    <tr>\n",
              "      <th>280</th>\n",
              "      <td>18.00</td>\n",
              "      <td>256000.00</td>\n",
              "      <td>125482.71</td>\n",
              "      <td>97000.00</td>\n",
              "      <td>191600.00</td>\n",
              "      <td>225500.00</td>\n",
              "      <td>275725.00</td>\n",
              "      <td>620900.00</td>\n",
              "    </tr>\n",
              "    <tr>\n",
              "      <th>...</th>\n",
              "      <td>...</td>\n",
              "      <td>...</td>\n",
              "      <td>...</td>\n",
              "      <td>...</td>\n",
              "      <td>...</td>\n",
              "      <td>...</td>\n",
              "      <td>...</td>\n",
              "      <td>...</td>\n",
              "    </tr>\n",
              "    <tr>\n",
              "      <th>882</th>\n",
              "      <td>1.00</td>\n",
              "      <td>700.00</td>\n",
              "      <td>nan</td>\n",
              "      <td>700.00</td>\n",
              "      <td>700.00</td>\n",
              "      <td>700.00</td>\n",
              "      <td>700.00</td>\n",
              "      <td>700.00</td>\n",
              "    </tr>\n",
              "    <tr>\n",
              "      <th>884</th>\n",
              "      <td>1.00</td>\n",
              "      <td>2566100.00</td>\n",
              "      <td>nan</td>\n",
              "      <td>2566100.00</td>\n",
              "      <td>2566100.00</td>\n",
              "      <td>2566100.00</td>\n",
              "      <td>2566100.00</td>\n",
              "      <td>2566100.00</td>\n",
              "    </tr>\n",
              "    <tr>\n",
              "      <th>885</th>\n",
              "      <td>1.00</td>\n",
              "      <td>653600.00</td>\n",
              "      <td>nan</td>\n",
              "      <td>653600.00</td>\n",
              "      <td>653600.00</td>\n",
              "      <td>653600.00</td>\n",
              "      <td>653600.00</td>\n",
              "      <td>653600.00</td>\n",
              "    </tr>\n",
              "    <tr>\n",
              "      <th>961</th>\n",
              "      <td>1.00</td>\n",
              "      <td>2500.00</td>\n",
              "      <td>nan</td>\n",
              "      <td>2500.00</td>\n",
              "      <td>2500.00</td>\n",
              "      <td>2500.00</td>\n",
              "      <td>2500.00</td>\n",
              "      <td>2500.00</td>\n",
              "    </tr>\n",
              "    <tr>\n",
              "      <th>963</th>\n",
              "      <td>21.00</td>\n",
              "      <td>374076.19</td>\n",
              "      <td>868111.84</td>\n",
              "      <td>300.00</td>\n",
              "      <td>2400.00</td>\n",
              "      <td>33000.00</td>\n",
              "      <td>230800.00</td>\n",
              "      <td>3812100.00</td>\n",
              "    </tr>\n",
              "  </tbody>\n",
              "</table>\n",
              "<p>97 rows × 8 columns</p>\n",
              "</div>"
            ],
            "text/plain": [
              "     2020 Full                       ...                                 \n",
              "         count       mean       std  ...        50%        75%        max\n",
              "Code                                 ...                                 \n",
              "210    3064.00  154107.08  68176.77  ...  145600.00  186600.00  528500.00\n",
              "220    1243.00  149166.21  60825.85  ...  143100.00  175550.00  626000.00\n",
              "230     456.00  187414.69  71343.10  ...  180450.00  216750.00  520000.00\n",
              "271       1.00   66900.00       nan  ...   66900.00   66900.00   66900.00\n",
              "280      18.00  256000.00 125482.71  ...  225500.00  275725.00  620900.00\n",
              "...        ...        ...       ...  ...        ...        ...        ...\n",
              "882       1.00     700.00       nan  ...     700.00     700.00     700.00\n",
              "884       1.00 2566100.00       nan  ... 2566100.00 2566100.00 2566100.00\n",
              "885       1.00  653600.00       nan  ...  653600.00  653600.00  653600.00\n",
              "961       1.00    2500.00       nan  ...    2500.00    2500.00    2500.00\n",
              "963      21.00  374076.19 868111.84  ...   33000.00  230800.00 3812100.00\n",
              "\n",
              "[97 rows x 8 columns]"
            ]
          },
          "metadata": {
            "tags": []
          },
          "execution_count": 15
        }
      ]
    },
    {
      "cell_type": "markdown",
      "metadata": {
        "id": "dYJ55-F7j39I"
      },
      "source": [
        "# Corridors with biggest increase in assessed value 2016-2020"
      ]
    },
    {
      "cell_type": "code",
      "metadata": {
        "id": "d4l-IYD2NX5D",
        "colab": {
          "base_uri": "https://localhost:8080/",
          "height": 359
        },
        "outputId": "47b391a0-851f-4450-9f4a-48b3bff2c609"
      },
      "source": [
        "def block_strip(x):\n",
        "  last = x.rfind('-')\n",
        "  spl = x.split('-', 2)\n",
        "  return \"-\".join(spl[:2])\n",
        "\n",
        "df['BlockID'] = df['ID'].apply(block_strip)\n",
        "df['Total Dollar Increase'] = df['2020 Full'] - df['2016 Full']\n",
        "df['Total Increase'] = 100 * (df['Total Dollar Increase'] / df['2016 Full'])\n",
        "df_agg = df[['BlockID', 'Total Increase']].groupby('BlockID', as_index=False)['Total Increase'].agg({'avg':'mean', 'count':'count'})\n",
        "df_agg[df_agg['count'] > 20].sort_values(by=['avg'], ascending=False).head(10).reset_index()"
      ],
      "execution_count": null,
      "outputs": [
        {
          "output_type": "execute_result",
          "data": {
            "text/html": [
              "<div>\n",
              "<style scoped>\n",
              "    .dataframe tbody tr th:only-of-type {\n",
              "        vertical-align: middle;\n",
              "    }\n",
              "\n",
              "    .dataframe tbody tr th {\n",
              "        vertical-align: top;\n",
              "    }\n",
              "\n",
              "    .dataframe thead th {\n",
              "        text-align: right;\n",
              "    }\n",
              "</style>\n",
              "<table border=\"1\" class=\"dataframe\">\n",
              "  <thead>\n",
              "    <tr style=\"text-align: right;\">\n",
              "      <th></th>\n",
              "      <th>index</th>\n",
              "      <th>BlockID</th>\n",
              "      <th>avg</th>\n",
              "      <th>count</th>\n",
              "    </tr>\n",
              "  </thead>\n",
              "  <tbody>\n",
              "    <tr>\n",
              "      <th>0</th>\n",
              "      <td>171</td>\n",
              "      <td>30-2</td>\n",
              "      <td>290.04</td>\n",
              "      <td>51</td>\n",
              "    </tr>\n",
              "    <tr>\n",
              "      <th>1</th>\n",
              "      <td>69</td>\n",
              "      <td>18-9</td>\n",
              "      <td>277.58</td>\n",
              "      <td>24</td>\n",
              "    </tr>\n",
              "    <tr>\n",
              "      <th>2</th>\n",
              "      <td>111</td>\n",
              "      <td>23-3</td>\n",
              "      <td>277.11</td>\n",
              "      <td>23</td>\n",
              "    </tr>\n",
              "    <tr>\n",
              "      <th>3</th>\n",
              "      <td>269</td>\n",
              "      <td>46-1</td>\n",
              "      <td>238.37</td>\n",
              "      <td>31</td>\n",
              "    </tr>\n",
              "    <tr>\n",
              "      <th>4</th>\n",
              "      <td>173</td>\n",
              "      <td>30-4</td>\n",
              "      <td>210.26</td>\n",
              "      <td>38</td>\n",
              "    </tr>\n",
              "    <tr>\n",
              "      <th>5</th>\n",
              "      <td>115</td>\n",
              "      <td>23-7</td>\n",
              "      <td>206.55</td>\n",
              "      <td>22</td>\n",
              "    </tr>\n",
              "    <tr>\n",
              "      <th>6</th>\n",
              "      <td>110</td>\n",
              "      <td>23-2</td>\n",
              "      <td>190.84</td>\n",
              "      <td>26</td>\n",
              "    </tr>\n",
              "    <tr>\n",
              "      <th>7</th>\n",
              "      <td>153</td>\n",
              "      <td>29-5</td>\n",
              "      <td>182.05</td>\n",
              "      <td>38</td>\n",
              "    </tr>\n",
              "    <tr>\n",
              "      <th>8</th>\n",
              "      <td>249</td>\n",
              "      <td>44-3</td>\n",
              "      <td>181.42</td>\n",
              "      <td>34</td>\n",
              "    </tr>\n",
              "    <tr>\n",
              "      <th>9</th>\n",
              "      <td>273</td>\n",
              "      <td>46-5</td>\n",
              "      <td>168.34</td>\n",
              "      <td>23</td>\n",
              "    </tr>\n",
              "  </tbody>\n",
              "</table>\n",
              "</div>"
            ],
            "text/plain": [
              "   index BlockID    avg  count\n",
              "0    171    30-2 290.04     51\n",
              "1     69    18-9 277.58     24\n",
              "2    111    23-3 277.11     23\n",
              "3    269    46-1 238.37     31\n",
              "4    173    30-4 210.26     38\n",
              "5    115    23-7 206.55     22\n",
              "6    110    23-2 190.84     26\n",
              "7    153    29-5 182.05     38\n",
              "8    249    44-3 181.42     34\n",
              "9    273    46-5 168.34     23"
            ]
          },
          "metadata": {
            "tags": []
          },
          "execution_count": 16
        }
      ]
    },
    {
      "cell_type": "markdown",
      "metadata": {
        "id": "dvnXKyXWHlRd"
      },
      "source": [
        "# Difference between sale price and assessed value by year\n",
        "\n",
        "\n",
        "```\n",
        "210 = Single-family\n",
        "220 = Two-family\n",
        "230 = Three-family\n",
        "411 = Apartments\n",
        "```\n",
        "\n"
      ]
    },
    {
      "cell_type": "code",
      "metadata": {
        "id": "lNFAj9TjF0G_"
      },
      "source": [
        "\n",
        "sold['AV Diff']\n",
        "sold['SaleDateTime'] = pd.to_datetime(sold['Sale Date'], format=\"%m/%d/%Y\", errors='coerce')\n",
        "sold['SaleYear'] = sold['SaleDateTime'].dt.year.astype('Int64')\n",
        "sold = sold[sold['SaleDateTime'] > '2014-01-01']\n",
        "soldOne = sold[sold['Code'] == 210].groupby([ 'SaleYear']).agg(['count', 'mean']).reset_index()\n",
        "soldTwo = sold[sold['Code'] == 220].groupby([ 'SaleYear']).agg(['count', 'mean']).reset_index()\n",
        "soldThr = sold[sold['Code'] == 230].groupby([ 'SaleYear']).agg(['count', 'mean']).reset_index()\n",
        "soldApt = sold[sold['Code'] == 411].groupby([ 'SaleYear']).agg(['count', 'mean']).reset_index()\n"
      ],
      "execution_count": null,
      "outputs": []
    },
    {
      "cell_type": "code",
      "metadata": {
        "id": "UX2twFIOBn5r",
        "colab": {
          "base_uri": "https://localhost:8080/",
          "height": 875
        },
        "outputId": "945e1193-18d6-4ab8-deab-fae5c7966b98"
      },
      "source": [
        "barWidth=0.20\n",
        "r1 = np.array(soldSF['SaleYear'])\n",
        "r2 = [x + barWidth for x in r1]\n",
        "r3 = [x + barWidth for x in r2]\n",
        "r4 = [x + barWidth for x in r3]\n",
        "\n",
        "plt.bar(r1, soldOne['AV Diff']['mean'], width=barWidth, color=color1, label='Single family')\n",
        "plt.bar(r2, soldTwo['AV Diff']['mean'], width=barWidth, color=color2, label='Two family')\n",
        "plt.bar(r3, soldThr['AV Diff']['mean'], width=barWidth, color=color3, label='Three family')\n",
        "plt.bar(r4, soldApt['AV Diff']['mean'], width=barWidth, color=color4, label='Apt')\n",
        "plt.ylabel('Percent difference')\n",
        "plt.title('Mean difference between sale price and assessed value at time of sale by year')\n",
        "plt.legend()\n",
        "plt.show()"
      ],
      "execution_count": null,
      "outputs": [
        {
          "output_type": "error",
          "ename": "ValueError",
          "evalue": "ignored",
          "traceback": [
            "\u001b[0;31m---------------------------------------------------------------------------\u001b[0m",
            "\u001b[0;31mValueError\u001b[0m                                Traceback (most recent call last)",
            "\u001b[0;32m<ipython-input-20-24a4cc60ee6d>\u001b[0m in \u001b[0;36m<module>\u001b[0;34m()\u001b[0m\n\u001b[1;32m      5\u001b[0m \u001b[0mr4\u001b[0m \u001b[0;34m=\u001b[0m \u001b[0;34m[\u001b[0m\u001b[0mx\u001b[0m \u001b[0;34m+\u001b[0m \u001b[0mbarWidth\u001b[0m \u001b[0;32mfor\u001b[0m \u001b[0mx\u001b[0m \u001b[0;32min\u001b[0m \u001b[0mr3\u001b[0m\u001b[0;34m]\u001b[0m\u001b[0;34m\u001b[0m\u001b[0;34m\u001b[0m\u001b[0m\n\u001b[1;32m      6\u001b[0m \u001b[0;34m\u001b[0m\u001b[0m\n\u001b[0;32m----> 7\u001b[0;31m \u001b[0mplt\u001b[0m\u001b[0;34m.\u001b[0m\u001b[0mbar\u001b[0m\u001b[0;34m(\u001b[0m\u001b[0mr1\u001b[0m\u001b[0;34m,\u001b[0m \u001b[0msoldOne\u001b[0m\u001b[0;34m[\u001b[0m\u001b[0;34m'AV Diff'\u001b[0m\u001b[0;34m]\u001b[0m\u001b[0;34m[\u001b[0m\u001b[0;34m'mean'\u001b[0m\u001b[0;34m]\u001b[0m\u001b[0;34m,\u001b[0m \u001b[0mwidth\u001b[0m\u001b[0;34m=\u001b[0m\u001b[0mbarWidth\u001b[0m\u001b[0;34m,\u001b[0m \u001b[0mcolor\u001b[0m\u001b[0;34m=\u001b[0m\u001b[0mcolor1\u001b[0m\u001b[0;34m,\u001b[0m \u001b[0mlabel\u001b[0m\u001b[0;34m=\u001b[0m\u001b[0;34m'Single family'\u001b[0m\u001b[0;34m)\u001b[0m\u001b[0;34m\u001b[0m\u001b[0;34m\u001b[0m\u001b[0m\n\u001b[0m\u001b[1;32m      8\u001b[0m \u001b[0mplt\u001b[0m\u001b[0;34m.\u001b[0m\u001b[0mbar\u001b[0m\u001b[0;34m(\u001b[0m\u001b[0mr2\u001b[0m\u001b[0;34m,\u001b[0m \u001b[0msoldTwo\u001b[0m\u001b[0;34m[\u001b[0m\u001b[0;34m'AV Diff'\u001b[0m\u001b[0;34m]\u001b[0m\u001b[0;34m[\u001b[0m\u001b[0;34m'mean'\u001b[0m\u001b[0;34m]\u001b[0m\u001b[0;34m,\u001b[0m \u001b[0mwidth\u001b[0m\u001b[0;34m=\u001b[0m\u001b[0mbarWidth\u001b[0m\u001b[0;34m,\u001b[0m \u001b[0mcolor\u001b[0m\u001b[0;34m=\u001b[0m\u001b[0mcolor2\u001b[0m\u001b[0;34m,\u001b[0m \u001b[0mlabel\u001b[0m\u001b[0;34m=\u001b[0m\u001b[0;34m'Two family'\u001b[0m\u001b[0;34m)\u001b[0m\u001b[0;34m\u001b[0m\u001b[0;34m\u001b[0m\u001b[0m\n\u001b[1;32m      9\u001b[0m \u001b[0mplt\u001b[0m\u001b[0;34m.\u001b[0m\u001b[0mbar\u001b[0m\u001b[0;34m(\u001b[0m\u001b[0mr3\u001b[0m\u001b[0;34m,\u001b[0m \u001b[0msoldThr\u001b[0m\u001b[0;34m[\u001b[0m\u001b[0;34m'AV Diff'\u001b[0m\u001b[0;34m]\u001b[0m\u001b[0;34m[\u001b[0m\u001b[0;34m'mean'\u001b[0m\u001b[0;34m]\u001b[0m\u001b[0;34m,\u001b[0m \u001b[0mwidth\u001b[0m\u001b[0;34m=\u001b[0m\u001b[0mbarWidth\u001b[0m\u001b[0;34m,\u001b[0m \u001b[0mcolor\u001b[0m\u001b[0;34m=\u001b[0m\u001b[0mcolor3\u001b[0m\u001b[0;34m,\u001b[0m \u001b[0mlabel\u001b[0m\u001b[0;34m=\u001b[0m\u001b[0;34m'Three family'\u001b[0m\u001b[0;34m)\u001b[0m\u001b[0;34m\u001b[0m\u001b[0;34m\u001b[0m\u001b[0m\n",
            "\u001b[0;32m/usr/local/lib/python3.6/dist-packages/matplotlib/pyplot.py\u001b[0m in \u001b[0;36mbar\u001b[0;34m(x, height, width, bottom, align, data, **kwargs)\u001b[0m\n\u001b[1;32m   2407\u001b[0m     return gca().bar(\n\u001b[1;32m   2408\u001b[0m         \u001b[0mx\u001b[0m\u001b[0;34m,\u001b[0m \u001b[0mheight\u001b[0m\u001b[0;34m,\u001b[0m \u001b[0mwidth\u001b[0m\u001b[0;34m=\u001b[0m\u001b[0mwidth\u001b[0m\u001b[0;34m,\u001b[0m \u001b[0mbottom\u001b[0m\u001b[0;34m=\u001b[0m\u001b[0mbottom\u001b[0m\u001b[0;34m,\u001b[0m \u001b[0malign\u001b[0m\u001b[0;34m=\u001b[0m\u001b[0malign\u001b[0m\u001b[0;34m,\u001b[0m\u001b[0;34m\u001b[0m\u001b[0;34m\u001b[0m\u001b[0m\n\u001b[0;32m-> 2409\u001b[0;31m         **({\"data\": data} if data is not None else {}), **kwargs)\n\u001b[0m\u001b[1;32m   2410\u001b[0m \u001b[0;34m\u001b[0m\u001b[0m\n\u001b[1;32m   2411\u001b[0m \u001b[0;34m\u001b[0m\u001b[0m\n",
            "\u001b[0;32m/usr/local/lib/python3.6/dist-packages/matplotlib/__init__.py\u001b[0m in \u001b[0;36minner\u001b[0;34m(ax, data, *args, **kwargs)\u001b[0m\n\u001b[1;32m   1563\u001b[0m     \u001b[0;32mdef\u001b[0m \u001b[0minner\u001b[0m\u001b[0;34m(\u001b[0m\u001b[0max\u001b[0m\u001b[0;34m,\u001b[0m \u001b[0;34m*\u001b[0m\u001b[0margs\u001b[0m\u001b[0;34m,\u001b[0m \u001b[0mdata\u001b[0m\u001b[0;34m=\u001b[0m\u001b[0;32mNone\u001b[0m\u001b[0;34m,\u001b[0m \u001b[0;34m**\u001b[0m\u001b[0mkwargs\u001b[0m\u001b[0;34m)\u001b[0m\u001b[0;34m:\u001b[0m\u001b[0;34m\u001b[0m\u001b[0;34m\u001b[0m\u001b[0m\n\u001b[1;32m   1564\u001b[0m         \u001b[0;32mif\u001b[0m \u001b[0mdata\u001b[0m \u001b[0;32mis\u001b[0m \u001b[0;32mNone\u001b[0m\u001b[0;34m:\u001b[0m\u001b[0;34m\u001b[0m\u001b[0;34m\u001b[0m\u001b[0m\n\u001b[0;32m-> 1565\u001b[0;31m             \u001b[0;32mreturn\u001b[0m \u001b[0mfunc\u001b[0m\u001b[0;34m(\u001b[0m\u001b[0max\u001b[0m\u001b[0;34m,\u001b[0m \u001b[0;34m*\u001b[0m\u001b[0mmap\u001b[0m\u001b[0;34m(\u001b[0m\u001b[0msanitize_sequence\u001b[0m\u001b[0;34m,\u001b[0m \u001b[0margs\u001b[0m\u001b[0;34m)\u001b[0m\u001b[0;34m,\u001b[0m \u001b[0;34m**\u001b[0m\u001b[0mkwargs\u001b[0m\u001b[0;34m)\u001b[0m\u001b[0;34m\u001b[0m\u001b[0;34m\u001b[0m\u001b[0m\n\u001b[0m\u001b[1;32m   1566\u001b[0m \u001b[0;34m\u001b[0m\u001b[0m\n\u001b[1;32m   1567\u001b[0m         \u001b[0mbound\u001b[0m \u001b[0;34m=\u001b[0m \u001b[0mnew_sig\u001b[0m\u001b[0;34m.\u001b[0m\u001b[0mbind\u001b[0m\u001b[0;34m(\u001b[0m\u001b[0max\u001b[0m\u001b[0;34m,\u001b[0m \u001b[0;34m*\u001b[0m\u001b[0margs\u001b[0m\u001b[0;34m,\u001b[0m \u001b[0;34m**\u001b[0m\u001b[0mkwargs\u001b[0m\u001b[0;34m)\u001b[0m\u001b[0;34m\u001b[0m\u001b[0;34m\u001b[0m\u001b[0m\n",
            "\u001b[0;32m/usr/local/lib/python3.6/dist-packages/matplotlib/axes/_axes.py\u001b[0m in \u001b[0;36mbar\u001b[0;34m(self, x, height, width, bottom, align, **kwargs)\u001b[0m\n\u001b[1;32m   2340\u001b[0m         x, height, width, y, linewidth = np.broadcast_arrays(\n\u001b[1;32m   2341\u001b[0m             \u001b[0;31m# Make args iterable too.\u001b[0m\u001b[0;34m\u001b[0m\u001b[0;34m\u001b[0m\u001b[0;34m\u001b[0m\u001b[0m\n\u001b[0;32m-> 2342\u001b[0;31m             np.atleast_1d(x), height, width, y, linewidth)\n\u001b[0m\u001b[1;32m   2343\u001b[0m \u001b[0;34m\u001b[0m\u001b[0m\n\u001b[1;32m   2344\u001b[0m         \u001b[0;31m# Now that units have been converted, set the tick locations.\u001b[0m\u001b[0;34m\u001b[0m\u001b[0;34m\u001b[0m\u001b[0;34m\u001b[0m\u001b[0m\n",
            "\u001b[0;32m<__array_function__ internals>\u001b[0m in \u001b[0;36mbroadcast_arrays\u001b[0;34m(*args, **kwargs)\u001b[0m\n",
            "\u001b[0;32m/usr/local/lib/python3.6/dist-packages/numpy/lib/stride_tricks.py\u001b[0m in \u001b[0;36mbroadcast_arrays\u001b[0;34m(subok, *args)\u001b[0m\n\u001b[1;32m    256\u001b[0m     \u001b[0margs\u001b[0m \u001b[0;34m=\u001b[0m \u001b[0;34m[\u001b[0m\u001b[0mnp\u001b[0m\u001b[0;34m.\u001b[0m\u001b[0marray\u001b[0m\u001b[0;34m(\u001b[0m\u001b[0m_m\u001b[0m\u001b[0;34m,\u001b[0m \u001b[0mcopy\u001b[0m\u001b[0;34m=\u001b[0m\u001b[0;32mFalse\u001b[0m\u001b[0;34m,\u001b[0m \u001b[0msubok\u001b[0m\u001b[0;34m=\u001b[0m\u001b[0msubok\u001b[0m\u001b[0;34m)\u001b[0m \u001b[0;32mfor\u001b[0m \u001b[0m_m\u001b[0m \u001b[0;32min\u001b[0m \u001b[0margs\u001b[0m\u001b[0;34m]\u001b[0m\u001b[0;34m\u001b[0m\u001b[0;34m\u001b[0m\u001b[0m\n\u001b[1;32m    257\u001b[0m \u001b[0;34m\u001b[0m\u001b[0m\n\u001b[0;32m--> 258\u001b[0;31m     \u001b[0mshape\u001b[0m \u001b[0;34m=\u001b[0m \u001b[0m_broadcast_shape\u001b[0m\u001b[0;34m(\u001b[0m\u001b[0;34m*\u001b[0m\u001b[0margs\u001b[0m\u001b[0;34m)\u001b[0m\u001b[0;34m\u001b[0m\u001b[0;34m\u001b[0m\u001b[0m\n\u001b[0m\u001b[1;32m    259\u001b[0m \u001b[0;34m\u001b[0m\u001b[0m\n\u001b[1;32m    260\u001b[0m     \u001b[0;32mif\u001b[0m \u001b[0mall\u001b[0m\u001b[0;34m(\u001b[0m\u001b[0marray\u001b[0m\u001b[0;34m.\u001b[0m\u001b[0mshape\u001b[0m \u001b[0;34m==\u001b[0m \u001b[0mshape\u001b[0m \u001b[0;32mfor\u001b[0m \u001b[0marray\u001b[0m \u001b[0;32min\u001b[0m \u001b[0margs\u001b[0m\u001b[0;34m)\u001b[0m\u001b[0;34m:\u001b[0m\u001b[0;34m\u001b[0m\u001b[0;34m\u001b[0m\u001b[0m\n",
            "\u001b[0;32m/usr/local/lib/python3.6/dist-packages/numpy/lib/stride_tricks.py\u001b[0m in \u001b[0;36m_broadcast_shape\u001b[0;34m(*args)\u001b[0m\n\u001b[1;32m    187\u001b[0m     \u001b[0;31m# use the old-iterator because np.nditer does not handle size 0 arrays\u001b[0m\u001b[0;34m\u001b[0m\u001b[0;34m\u001b[0m\u001b[0;34m\u001b[0m\u001b[0m\n\u001b[1;32m    188\u001b[0m     \u001b[0;31m# consistently\u001b[0m\u001b[0;34m\u001b[0m\u001b[0;34m\u001b[0m\u001b[0;34m\u001b[0m\u001b[0m\n\u001b[0;32m--> 189\u001b[0;31m     \u001b[0mb\u001b[0m \u001b[0;34m=\u001b[0m \u001b[0mnp\u001b[0m\u001b[0;34m.\u001b[0m\u001b[0mbroadcast\u001b[0m\u001b[0;34m(\u001b[0m\u001b[0;34m*\u001b[0m\u001b[0margs\u001b[0m\u001b[0;34m[\u001b[0m\u001b[0;34m:\u001b[0m\u001b[0;36m32\u001b[0m\u001b[0;34m]\u001b[0m\u001b[0;34m)\u001b[0m\u001b[0;34m\u001b[0m\u001b[0;34m\u001b[0m\u001b[0m\n\u001b[0m\u001b[1;32m    190\u001b[0m     \u001b[0;31m# unfortunately, it cannot handle 32 or more arguments directly\u001b[0m\u001b[0;34m\u001b[0m\u001b[0;34m\u001b[0m\u001b[0;34m\u001b[0m\u001b[0m\n\u001b[1;32m    191\u001b[0m     \u001b[0;32mfor\u001b[0m \u001b[0mpos\u001b[0m \u001b[0;32min\u001b[0m \u001b[0mrange\u001b[0m\u001b[0;34m(\u001b[0m\u001b[0;36m32\u001b[0m\u001b[0;34m,\u001b[0m \u001b[0mlen\u001b[0m\u001b[0;34m(\u001b[0m\u001b[0margs\u001b[0m\u001b[0;34m)\u001b[0m\u001b[0;34m,\u001b[0m \u001b[0;36m31\u001b[0m\u001b[0;34m)\u001b[0m\u001b[0;34m:\u001b[0m\u001b[0;34m\u001b[0m\u001b[0;34m\u001b[0m\u001b[0m\n",
            "\u001b[0;31mValueError\u001b[0m: shape mismatch: objects cannot be broadcast to a single shape"
          ]
        },
        {
          "output_type": "display_data",
          "data": {
            "image/png": "[encoded data removed]",
            "text/plain": [
              "<Figure size 1152x576 with 1 Axes>"
            ]
          },
          "metadata": {
            "tags": []
          }
        }
      ]
    },
    {
      "cell_type": "markdown",
      "metadata": {
        "id": "mG7gvtW9H4b7"
      },
      "source": [
        "# Largest differences between sale price and AV at time of sale"
      ]
    },
    {
      "cell_type": "code",
      "metadata": {
        "id": "yZEkJp7JHAuJ"
      },
      "source": [
        "sold[['ID', 'Code', 'Street', 'SaleYear', 'Sale Price', 'Sale AV', 'AV Diff']].sort_values(by=['AV Diff'], ascending=False).head(10).reset_index()"
      ],
      "execution_count": null,
      "outputs": []
    },
    {
      "cell_type": "markdown",
      "metadata": {
        "id": "lYKBfh-KGPIM"
      },
      "source": [
        "# Single-family Sale Price vs Assessed Value "
      ]
    },
    {
      "cell_type": "code",
      "metadata": {
        "id": "29Yp9omsGFh_"
      },
      "source": [
        "single_family = sold[sold['Code'] == 210]\n",
        "sold1 = single_family[['SaleYear', 'Sale Price', 'AV Diff']].groupby(['SaleYear']).agg(['count', 'mean']).reset_index()\n",
        "sold1"
      ],
      "execution_count": null,
      "outputs": []
    },
    {
      "cell_type": "markdown",
      "metadata": {
        "id": "mRoQ-CxpGUW5"
      },
      "source": [
        "# Two-family Sale Price vs Assessed Value "
      ]
    },
    {
      "cell_type": "code",
      "metadata": {
        "id": "_Xh65Ih2DoZY"
      },
      "source": [
        "two_family = sold[sold['Code'] == 220]\n",
        "sold2 = two_family[['SaleYear', 'Sale Price', 'AV Diff']].groupby(['SaleYear']).agg(['count', 'mean']).reset_index()\n",
        "sold2"
      ],
      "execution_count": null,
      "outputs": []
    },
    {
      "cell_type": "markdown",
      "metadata": {
        "id": "40tlEOQaGZmR"
      },
      "source": [
        "# Three-family Sale Price vs Assessed Value "
      ]
    },
    {
      "cell_type": "code",
      "metadata": {
        "id": "gd16dVDBFFut"
      },
      "source": [
        "three_family = sold[sold['Code'] == 230]\n",
        "sold3 = three_family[['SaleYear', 'Sale Price', 'AV Diff']].groupby(['SaleYear']).agg(['count', 'mean']).reset_index()\n",
        "sold3"
      ],
      "execution_count": null,
      "outputs": []
    },
    {
      "cell_type": "markdown",
      "metadata": {
        "id": "6evUvtqcGefW"
      },
      "source": [
        "# Apartments Sale Price vs Assessed Value "
      ]
    },
    {
      "cell_type": "code",
      "metadata": {
        "id": "aP1MKT7wFRyN"
      },
      "source": [
        "apartments = sold[sold['Code'] == 411]\n",
        "sold4 = apartments[['SaleYear', 'Sale Price', 'AV Diff']].groupby(['SaleYear']).agg(['count', 'mean']).reset_index()\n",
        "sold4"
      ],
      "execution_count": null,
      "outputs": []
    },
    {
      "cell_type": "code",
      "metadata": {
        "id": "3OTN7KTaFE_l"
      },
      "source": [
        "#figure(num=None, figsize=(12,8), dpi=92, facecolor='w', edgecolor='k')\n",
        "#plt.style.use('seaborn-whitegrid')\n",
        "\n",
        "plt.plot(sold1['SaleYear'], sold1['AV Diff']['mean'], label='Single family')\n",
        "plt.plot(sold2['SaleYear'], sold2['AV Diff']['mean'], label='Two family')\n",
        "plt.plot(sold3['SaleYear'], sold3['AV Diff']['mean'], label='Three family')\n",
        "plt.ylabel('Percent')\n",
        "plt.title('Mean difference between sale price and assessed value at time of sale by year')\n",
        "plt.legend(loc=2)\n",
        "plt.show()"
      ],
      "execution_count": null,
      "outputs": []
    },
    {
      "cell_type": "markdown",
      "metadata": {
        "id": "03CrkFIIGf4z"
      },
      "source": [
        "# Corridors with least increase in assessed value 2016-2020\n",
        "\n",
        "\n"
      ]
    },
    {
      "cell_type": "code",
      "metadata": {
        "id": "0zq8gbRDGktI"
      },
      "source": [
        "df_agg[df_agg['count'] > 20].sort_values(by=['avg'], ascending=True).head(10).reset_index()"
      ],
      "execution_count": null,
      "outputs": []
    },
    {
      "cell_type": "markdown",
      "metadata": {
        "id": "qoCNp9TOtpcF"
      },
      "source": [
        "# Increase in taxable properties per year"
      ]
    },
    {
      "cell_type": "code",
      "metadata": {
        "id": "GLZoxjSOrnP6"
      },
      "source": [
        "totals = np.array([\n",
        "    df[(df['2016 City'] > 1)].count()[0],\n",
        "    df[(df['2017 City'] > 1)].count()[0],\n",
        "    df[(df['2018 City'] > 1)].count()[0],\n",
        "    df[(df['2019 City'] > 1)].count()[0],\n",
        "    df[(df['2020 City'] > 1)].count()[0]\n",
        "])\n",
        "\n",
        "totalssf = np.array([\n",
        "    df[(df['2016 City'] > 1) & (df.Code.eq(210))].count()[0],\n",
        "    df[(df['2017 City'] > 1) & (df['Code'] == 210)].count()[0],\n",
        "    df[(df['2018 City'] > 1) & (df['Code'] == 210)].count()[0],\n",
        "    df[(df['2019 City'] > 1) & (df['Code'] == 210)].count()[0],\n",
        "    df[(df['2020 City'] > 1) & (df['Code'] == 210)].count()[0]\n",
        "])\n",
        "\n",
        "totalsmf = np.array([\n",
        "    df[(df['2016 City'] > 1) & (df.Code.isin([220,230,411]))].count()[0],\n",
        "    df[(df['2017 City'] > 1) & (df.Code.isin([220,230,411]))].count()[0],\n",
        "    df[(df['2018 City'] > 1) & (df.Code.isin([220,230,411]))].count()[0],\n",
        "    df[(df['2019 City'] > 1) & (df.Code.isin([220,230,411]))].count()[0],\n",
        "    df[(df['2020 City'] > 1) & (df.Code.isin([220,230,411]))].count()[0]\n",
        "])\n",
        "\n",
        "diffsf = np.array([\n",
        "  totalssf[1] - totalssf[0],\n",
        "  totalssf[2] - totalssf[1],    \n",
        "  totalssf[3] - totalssf[2],    \n",
        "  totalssf[4] - totalssf[3]                        \n",
        "])\n",
        "\n",
        "diffmf = np.array([\n",
        "  totalsmf[1] - totalsmf[0],\n",
        "  totalsmf[2] - totalsmf[1],    \n",
        "  totalsmf[3] - totalsmf[2],    \n",
        "  totalsmf[4] - totalsmf[3]                        \n",
        "])\n",
        "\n",
        "otherdiff = np.array([\n",
        "  totals[1] - diffsf[0] -  diffmf[0] - totals[0],\n",
        "  totals[2] - diffsf[1] -  diffmf[1] - totals[1],\n",
        "  totals[3] - diffsf[2] -  diffmf[2] - totals[2],\n",
        "  totals[4] - diffsf[3] -  diffmf[3] - totals[3],                        \n",
        "])\n",
        "\n",
        "#print(\"2016-17: %d, 2017-18: %d, 2018-19: %d, 2019-20: %d\" % (b-a, c-b, d-c, e-d))"
      ],
      "execution_count": null,
      "outputs": []
    },
    {
      "cell_type": "code",
      "metadata": {
        "id": "IBGtw8WP0T2h",
        "colab": {
          "base_uri": "https://localhost:8080/"
        },
        "outputId": "77f8de47-5352-4dd0-e5ff-791fe70f4003"
      },
      "source": [
        "newIn2017 = df[(df['2016 City'] < 1) & (df['2017 City'] > 1)]\n",
        "newIn2018 = df[(df['2017 City'] < 1) & (df['2018 City'] > 1)]\n",
        "newIn2019 = df[(df['2018 City'] < 1) & (df['2019 City'] > 1)]\n",
        "newIn2020 = df[(df['2019 City'] < 1) & (df['2020 City'] > 1)]\n",
        "\n",
        "newProperties = df[(df['2016 City'] < 1) & (df['2020 City'] > 1)]\n",
        "sumNew = newProperties['2020 City'].sum()\n",
        "sumNew"
      ],
      "execution_count": null,
      "outputs": [
        {
          "output_type": "execute_result",
          "data": {
            "text/plain": [
              "19049756"
            ]
          },
          "metadata": {
            "tags": []
          },
          "execution_count": 22
        }
      ]
    },
    {
      "cell_type": "code",
      "metadata": {
        "id": "JXt_N29ZJQit",
        "colab": {
          "base_uri": "https://localhost:8080/",
          "height": 494
        },
        "outputId": "a8b34a6a-e201-47ef-b657-58021282e4f1"
      },
      "source": [
        "\n",
        "\n",
        "from matplotlib.ticker import MaxNLocator\n",
        "ax = plt.figure().gca()\n",
        "ax.xaxis.set_major_locator(MaxNLocator(integer=True))\n",
        "\n",
        "barWidth=0.25\n",
        "r1 = np.array([2017,2018,2019,2020])\n",
        "r2 = [x + barWidth for x in r1]\n",
        "r3 = [x + barWidth for x in r2]\n",
        "r4 = [x + barWidth for x in r3]\n",
        "\n",
        "\n",
        "plt.bar(r1, diffsf, color=color1, width=barWidth, label='Single family', align='center')\n",
        "plt.bar(r2, diffmf, color=color2, width=barWidth, label='Multi family')\n",
        "plt.bar(r3, otherdiff, color=color3, width=barWidth, label='Other')\n",
        "\n",
        "\n",
        "\n",
        "plt.ylabel('Net new properties')\n",
        "plt.title('Net new taxable properties per year')\n",
        "plt.legend()\n",
        "plt.show()"
      ],
      "execution_count": null,
      "outputs": [
        {
          "output_type": "display_data",
          "data": {
            "image/png": "[encoded data removed]",
            "text/plain": [
              "<Figure size 1152x576 with 1 Axes>"
            ]
          },
          "metadata": {
            "tags": []
          }
        }
      ]
    },
    {
      "cell_type": "code",
      "metadata": {
        "id": "8yw9W0CwLBEC"
      },
      "source": [
        "\n",
        "#figure(num=None, figsize=(12, 8), dpi=92, facecolor='w', edgecolor='k')\n",
        "#plt.style.use('seaborn-whitegrid')\n",
        "\n",
        "plt.scatter(single_family['SaleDateTime'], single_family['AV Diff'], label='Single-family', s=single_family['Sale Price']/5000)\n",
        "plt.scatter(two_family['SaleDateTime'], two_family['AV Diff'], label='Two-family', s=two_family['Sale Price']/5000)\n",
        "plt.scatter(three_family['SaleDateTime'], three_family['AV Diff'],  label='Three-family', s=three_family['Sale Price']/5000)\n",
        "plt.scatter(apartments['SaleDateTime'], apartments['AV Diff'],  label='Apartments', s=apartments['Sale Price']/5000)\n",
        "plt.title('Sale price vs AV over time')\n",
        "plt.legend(loc=2)\n",
        "plt.show()"
      ],
      "execution_count": null,
      "outputs": []
    },
    {
      "cell_type": "markdown",
      "metadata": {
        "id": "kZDY97UyJyfV"
      },
      "source": [
        "# Do homes or apartments (codes 210,220,230,411) with recent sales result in higher assessment increases?"
      ]
    },
    {
      "cell_type": "code",
      "metadata": {
        "id": "5YXMnBR9Jy5d",
        "colab": {
          "base_uri": "https://localhost:8080/",
          "height": 409
        },
        "outputId": "fdfff695-28b0-40b5-84d9-145bef4cc813"
      },
      "source": [
        "# Filter by all taxable properties, only apartments and residential\n",
        "notsold = df[df['2020 City'] > 0].reset_index()\n",
        "notsold = notsold[notsold['Sale Price'].isnull()]\n",
        "notsold = notsold[notsold['Code'].isin([210,220,230,411])]\n",
        "\n",
        "onlysold = sold[sold['Sale Price'].notnull()]\n",
        "onlysold = onlysold[onlysold['SaleYear'] > 2014]\n",
        "onlysold = onlysold[onlysold['Code'].isin([210,220,230,411])]\n",
        "\n",
        "notsold_agg = notsold[['Code', 'Total Increase']].groupby('Code', as_index=False)['Total Increase'].agg({'avg':'mean', 'count':'count', 'std':'std'}).reset_index()\n",
        "onlysold_agg = onlysold[['Code', 'Total Increase']].groupby('Code', as_index=False)['Total Increase'].agg({'avg':'mean', 'count':'count','std':'std'}).reset_index()\n",
        "#figure(num=None, figsize=(12, 8), dpi=92, facecolor='w', edgecolor='k')\n",
        "\n",
        "barWidth=0.25\n",
        "r1 = np.array([1,2,3,4])\n",
        "r2 = [x + barWidth for x in r1]\n",
        "\n",
        "plt.subplot(1,1,1)\n",
        "plt.bar(r1, notsold_agg['avg'],  label='No Recent Sale', width=barWidth, color=color1)\n",
        "plt.bar(r2, onlysold_agg['avg'], label='Sale 2015-2020', width=barWidth, color=color2)\n",
        "plt.ylabel('Percent Increase')\n",
        "plt.title('No Recent Sale vs Recent Sale Assessment Increases 2016-2020')\n",
        "plt.legend(loc=2)\n",
        "plt.show()\n",
        "\n"
      ],
      "execution_count": null,
      "outputs": [
        {
          "output_type": "error",
          "ename": "KeyError",
          "evalue": "ignored",
          "traceback": [
            "\u001b[0;31m---------------------------------------------------------------------------\u001b[0m",
            "\u001b[0;31mKeyError\u001b[0m                                  Traceback (most recent call last)",
            "\u001b[0;32m<ipython-input-24-7feb601b94f9>\u001b[0m in \u001b[0;36m<module>\u001b[0;34m()\u001b[0m\n\u001b[1;32m      8\u001b[0m \u001b[0monlysold\u001b[0m \u001b[0;34m=\u001b[0m \u001b[0monlysold\u001b[0m\u001b[0;34m[\u001b[0m\u001b[0monlysold\u001b[0m\u001b[0;34m[\u001b[0m\u001b[0;34m'Code'\u001b[0m\u001b[0;34m]\u001b[0m\u001b[0;34m.\u001b[0m\u001b[0misin\u001b[0m\u001b[0;34m(\u001b[0m\u001b[0;34m[\u001b[0m\u001b[0;36m210\u001b[0m\u001b[0;34m,\u001b[0m\u001b[0;36m220\u001b[0m\u001b[0;34m,\u001b[0m\u001b[0;36m230\u001b[0m\u001b[0;34m,\u001b[0m\u001b[0;36m411\u001b[0m\u001b[0;34m]\u001b[0m\u001b[0;34m)\u001b[0m\u001b[0;34m]\u001b[0m\u001b[0;34m\u001b[0m\u001b[0;34m\u001b[0m\u001b[0m\n\u001b[1;32m      9\u001b[0m \u001b[0;34m\u001b[0m\u001b[0m\n\u001b[0;32m---> 10\u001b[0;31m \u001b[0mnotsold_agg\u001b[0m \u001b[0;34m=\u001b[0m \u001b[0mnotsold\u001b[0m\u001b[0;34m[\u001b[0m\u001b[0;34m[\u001b[0m\u001b[0;34m'Code'\u001b[0m\u001b[0;34m,\u001b[0m \u001b[0;34m'Total Increase'\u001b[0m\u001b[0;34m]\u001b[0m\u001b[0;34m]\u001b[0m\u001b[0;34m.\u001b[0m\u001b[0mgroupby\u001b[0m\u001b[0;34m(\u001b[0m\u001b[0;34m'Code'\u001b[0m\u001b[0;34m,\u001b[0m \u001b[0mas_index\u001b[0m\u001b[0;34m=\u001b[0m\u001b[0;32mFalse\u001b[0m\u001b[0;34m)\u001b[0m\u001b[0;34m[\u001b[0m\u001b[0;34m'Total Increase'\u001b[0m\u001b[0;34m]\u001b[0m\u001b[0;34m.\u001b[0m\u001b[0magg\u001b[0m\u001b[0;34m(\u001b[0m\u001b[0;34m{\u001b[0m\u001b[0;34m'avg'\u001b[0m\u001b[0;34m:\u001b[0m\u001b[0;34m'mean'\u001b[0m\u001b[0;34m,\u001b[0m \u001b[0;34m'count'\u001b[0m\u001b[0;34m:\u001b[0m\u001b[0;34m'count'\u001b[0m\u001b[0;34m,\u001b[0m \u001b[0;34m'std'\u001b[0m\u001b[0;34m:\u001b[0m\u001b[0;34m'std'\u001b[0m\u001b[0;34m}\u001b[0m\u001b[0;34m)\u001b[0m\u001b[0;34m.\u001b[0m\u001b[0mreset_index\u001b[0m\u001b[0;34m(\u001b[0m\u001b[0;34m)\u001b[0m\u001b[0;34m\u001b[0m\u001b[0;34m\u001b[0m\u001b[0m\n\u001b[0m\u001b[1;32m     11\u001b[0m \u001b[0monlysold_agg\u001b[0m \u001b[0;34m=\u001b[0m \u001b[0monlysold\u001b[0m\u001b[0;34m[\u001b[0m\u001b[0;34m[\u001b[0m\u001b[0;34m'Code'\u001b[0m\u001b[0;34m,\u001b[0m \u001b[0;34m'Total Increase'\u001b[0m\u001b[0;34m]\u001b[0m\u001b[0;34m]\u001b[0m\u001b[0;34m.\u001b[0m\u001b[0mgroupby\u001b[0m\u001b[0;34m(\u001b[0m\u001b[0;34m'Code'\u001b[0m\u001b[0;34m,\u001b[0m \u001b[0mas_index\u001b[0m\u001b[0;34m=\u001b[0m\u001b[0;32mFalse\u001b[0m\u001b[0;34m)\u001b[0m\u001b[0;34m[\u001b[0m\u001b[0;34m'Total Increase'\u001b[0m\u001b[0;34m]\u001b[0m\u001b[0;34m.\u001b[0m\u001b[0magg\u001b[0m\u001b[0;34m(\u001b[0m\u001b[0;34m{\u001b[0m\u001b[0;34m'avg'\u001b[0m\u001b[0;34m:\u001b[0m\u001b[0;34m'mean'\u001b[0m\u001b[0;34m,\u001b[0m \u001b[0;34m'count'\u001b[0m\u001b[0;34m:\u001b[0m\u001b[0;34m'count'\u001b[0m\u001b[0;34m,\u001b[0m\u001b[0;34m'std'\u001b[0m\u001b[0;34m:\u001b[0m\u001b[0;34m'std'\u001b[0m\u001b[0;34m}\u001b[0m\u001b[0;34m)\u001b[0m\u001b[0;34m.\u001b[0m\u001b[0mreset_index\u001b[0m\u001b[0;34m(\u001b[0m\u001b[0;34m)\u001b[0m\u001b[0;34m\u001b[0m\u001b[0;34m\u001b[0m\u001b[0m\n\u001b[1;32m     12\u001b[0m \u001b[0;31m#figure(num=None, figsize=(12, 8), dpi=92, facecolor='w', edgecolor='k')\u001b[0m\u001b[0;34m\u001b[0m\u001b[0;34m\u001b[0m\u001b[0;34m\u001b[0m\u001b[0m\n",
            "\u001b[0;32m/usr/local/lib/python3.6/dist-packages/pandas/core/frame.py\u001b[0m in \u001b[0;36m__getitem__\u001b[0;34m(self, key)\u001b[0m\n\u001b[1;32m   2910\u001b[0m             \u001b[0;32mif\u001b[0m \u001b[0mis_iterator\u001b[0m\u001b[0;34m(\u001b[0m\u001b[0mkey\u001b[0m\u001b[0;34m)\u001b[0m\u001b[0;34m:\u001b[0m\u001b[0;34m\u001b[0m\u001b[0;34m\u001b[0m\u001b[0m\n\u001b[1;32m   2911\u001b[0m                 \u001b[0mkey\u001b[0m \u001b[0;34m=\u001b[0m \u001b[0mlist\u001b[0m\u001b[0;34m(\u001b[0m\u001b[0mkey\u001b[0m\u001b[0;34m)\u001b[0m\u001b[0;34m\u001b[0m\u001b[0;34m\u001b[0m\u001b[0m\n\u001b[0;32m-> 2912\u001b[0;31m             \u001b[0mindexer\u001b[0m \u001b[0;34m=\u001b[0m \u001b[0mself\u001b[0m\u001b[0;34m.\u001b[0m\u001b[0mloc\u001b[0m\u001b[0;34m.\u001b[0m\u001b[0m_get_listlike_indexer\u001b[0m\u001b[0;34m(\u001b[0m\u001b[0mkey\u001b[0m\u001b[0;34m,\u001b[0m \u001b[0maxis\u001b[0m\u001b[0;34m=\u001b[0m\u001b[0;36m1\u001b[0m\u001b[0;34m,\u001b[0m \u001b[0mraise_missing\u001b[0m\u001b[0;34m=\u001b[0m\u001b[0;32mTrue\u001b[0m\u001b[0;34m)\u001b[0m\u001b[0;34m[\u001b[0m\u001b[0;36m1\u001b[0m\u001b[0;34m]\u001b[0m\u001b[0;34m\u001b[0m\u001b[0;34m\u001b[0m\u001b[0m\n\u001b[0m\u001b[1;32m   2913\u001b[0m \u001b[0;34m\u001b[0m\u001b[0m\n\u001b[1;32m   2914\u001b[0m         \u001b[0;31m# take() does not accept boolean indexers\u001b[0m\u001b[0;34m\u001b[0m\u001b[0;34m\u001b[0m\u001b[0;34m\u001b[0m\u001b[0m\n",
            "\u001b[0;32m/usr/local/lib/python3.6/dist-packages/pandas/core/indexing.py\u001b[0m in \u001b[0;36m_get_listlike_indexer\u001b[0;34m(self, key, axis, raise_missing)\u001b[0m\n\u001b[1;32m   1252\u001b[0m             \u001b[0mkeyarr\u001b[0m\u001b[0;34m,\u001b[0m \u001b[0mindexer\u001b[0m\u001b[0;34m,\u001b[0m \u001b[0mnew_indexer\u001b[0m \u001b[0;34m=\u001b[0m \u001b[0max\u001b[0m\u001b[0;34m.\u001b[0m\u001b[0m_reindex_non_unique\u001b[0m\u001b[0;34m(\u001b[0m\u001b[0mkeyarr\u001b[0m\u001b[0;34m)\u001b[0m\u001b[0;34m\u001b[0m\u001b[0;34m\u001b[0m\u001b[0m\n\u001b[1;32m   1253\u001b[0m \u001b[0;34m\u001b[0m\u001b[0m\n\u001b[0;32m-> 1254\u001b[0;31m         \u001b[0mself\u001b[0m\u001b[0;34m.\u001b[0m\u001b[0m_validate_read_indexer\u001b[0m\u001b[0;34m(\u001b[0m\u001b[0mkeyarr\u001b[0m\u001b[0;34m,\u001b[0m \u001b[0mindexer\u001b[0m\u001b[0;34m,\u001b[0m \u001b[0maxis\u001b[0m\u001b[0;34m,\u001b[0m \u001b[0mraise_missing\u001b[0m\u001b[0;34m=\u001b[0m\u001b[0mraise_missing\u001b[0m\u001b[0;34m)\u001b[0m\u001b[0;34m\u001b[0m\u001b[0;34m\u001b[0m\u001b[0m\n\u001b[0m\u001b[1;32m   1255\u001b[0m         \u001b[0;32mreturn\u001b[0m \u001b[0mkeyarr\u001b[0m\u001b[0;34m,\u001b[0m \u001b[0mindexer\u001b[0m\u001b[0;34m\u001b[0m\u001b[0;34m\u001b[0m\u001b[0m\n\u001b[1;32m   1256\u001b[0m \u001b[0;34m\u001b[0m\u001b[0m\n",
            "\u001b[0;32m/usr/local/lib/python3.6/dist-packages/pandas/core/indexing.py\u001b[0m in \u001b[0;36m_validate_read_indexer\u001b[0;34m(self, key, indexer, axis, raise_missing)\u001b[0m\n\u001b[1;32m   1302\u001b[0m             \u001b[0;32mif\u001b[0m \u001b[0mraise_missing\u001b[0m\u001b[0;34m:\u001b[0m\u001b[0;34m\u001b[0m\u001b[0;34m\u001b[0m\u001b[0m\n\u001b[1;32m   1303\u001b[0m                 \u001b[0mnot_found\u001b[0m \u001b[0;34m=\u001b[0m \u001b[0mlist\u001b[0m\u001b[0;34m(\u001b[0m\u001b[0mset\u001b[0m\u001b[0;34m(\u001b[0m\u001b[0mkey\u001b[0m\u001b[0;34m)\u001b[0m \u001b[0;34m-\u001b[0m \u001b[0mset\u001b[0m\u001b[0;34m(\u001b[0m\u001b[0max\u001b[0m\u001b[0;34m)\u001b[0m\u001b[0;34m)\u001b[0m\u001b[0;34m\u001b[0m\u001b[0;34m\u001b[0m\u001b[0m\n\u001b[0;32m-> 1304\u001b[0;31m                 \u001b[0;32mraise\u001b[0m \u001b[0mKeyError\u001b[0m\u001b[0;34m(\u001b[0m\u001b[0;34mf\"{not_found} not in index\"\u001b[0m\u001b[0;34m)\u001b[0m\u001b[0;34m\u001b[0m\u001b[0;34m\u001b[0m\u001b[0m\n\u001b[0m\u001b[1;32m   1305\u001b[0m \u001b[0;34m\u001b[0m\u001b[0m\n\u001b[1;32m   1306\u001b[0m             \u001b[0;31m# we skip the warning on Categorical\u001b[0m\u001b[0;34m\u001b[0m\u001b[0;34m\u001b[0m\u001b[0;34m\u001b[0m\u001b[0m\n",
            "\u001b[0;31mKeyError\u001b[0m: \"['Total Increase'] not in index\""
          ]
        }
      ]
    },
    {
      "cell_type": "code",
      "metadata": {
        "id": "nmPJlGkXNMJV"
      },
      "source": [
        "\n",
        "fig = sns.boxplot(x=\"Code\", y=\"Sale Price\", data=onlysold[onlysold['SaleYear'] > 2014], hue=\"SaleYear\")\n",
        "fig.axis(ymin=0, ymax=500000);\n",
        "fig.set_title('Sale price by code')\n",
        "fig.set_xlabel('')\n",
        "fig.set_xticklabels(['Single Family', 'Two Family', 'Three Family', 'Apts'])\n",
        "\n"
      ],
      "execution_count": null,
      "outputs": []
    },
    {
      "cell_type": "code",
      "metadata": {
        "id": "9Vck7kqkRNP4"
      },
      "source": [
        "\n",
        "fig = sns.boxplot(x=\"Code\", y=\"2020 City\", data=ne[ne.Code.isin([210,220,230, 411])], hue=\"RecentSale\")\n",
        "fig.axis(ymin=0, ymax=600000);\n",
        "fig.set_title('2020 assessed value by code')\n",
        "fig.set_ylabel('Assessed value')\n",
        "fig.set_xlabel('')\n",
        "fig.set_xticklabels(['Single Family', 'Two Family', 'Three Family', 'Apts'])\n",
        "\n",
        "\n"
      ],
      "execution_count": null,
      "outputs": []
    },
    {
      "cell_type": "code",
      "metadata": {
        "id": "wbTc2-KwaJDD"
      },
      "source": [
        "\n",
        "fig = sns.boxplot(x=\"Code\", y=\"2020 City\", data=sfAndMF, hue=\"2020Vacant\")\n",
        "fig.axis(ymin=0, ymax=600000);\n",
        "fig.set_title('2020 assessed value (vacant registration)')\n",
        "fig.set_ylabel('Assessed value')\n",
        "fig.set_xlabel('')\n",
        "fig.set_xticklabels(['Single Family', 'Two Family', 'Three Family', 'Apts'])\n",
        "\n"
      ],
      "execution_count": null,
      "outputs": []
    },
    {
      "cell_type": "code",
      "metadata": {
        "id": "MabX8vBBujub"
      },
      "source": [
        "fig = sns.boxplot(x=\"Code\", y=\"2020Tax\", data=sfAndMF, hue=\"Non-Homestead\")\n",
        "fig.axis(ymin=0, ymax=20000);\n",
        "fig.set_title('2020 tax')\n",
        "fig.set_ylabel('Tax')\n",
        "fig.set_xlabel('')\n",
        "fig.set_xticklabels(['Single Family', 'Two Family', 'Three Family', 'Apts'])\n"
      ],
      "execution_count": null,
      "outputs": []
    },
    {
      "cell_type": "code",
      "metadata": {
        "id": "dY4rw1etc2mE"
      },
      "source": [
        "\n",
        "fig = sns.boxplot(x=\"Code\", y=\"2020 City\", data=sfAndMF, hue=\"2020Violations\")\n",
        "fig.axis(ymin=0, ymax=600000);\n",
        "fig.set_title('2020 assessed value (code violations)')\n",
        "fig.set_ylabel('Assessed value')\n",
        "fig.set_xlabel('')\n",
        "fig.set_xticklabels(['Single Family', 'Two Family', 'Three Family', 'Apts'])\n",
        "\n"
      ],
      "execution_count": null,
      "outputs": []
    },
    {
      "cell_type": "markdown",
      "metadata": {
        "id": "ynd8b8ZE2ODp"
      },
      "source": [
        ""
      ]
    },
    {
      "cell_type": "code",
      "metadata": {
        "id": "R3PN9S8XpCqV",
        "colab": {
          "base_uri": "https://localhost:8080/",
          "height": 562
        },
        "outputId": "e5825964-1087-49ca-cf8c-5bcef74535ee"
      },
      "source": [
        "\n",
        "\n",
        "notExemptAndSold = ne[(ne.Code.isin([210,220,230, 411])) & (ne.SaleYear > 2014)].sort_values(by=['SaleYear'])\n",
        "\n",
        "fig = sns.boxplot(x=\"Code\", y=\"SaleAssessDiff\", data=notExemptAndSold, hue=\"SaleYear\")\n",
        "fig.axis(ymin=-100000, ymax=300000);\n",
        "fig.set_title('Sale price vs assessed value at time of sale')\n",
        "fig.set_ylabel('Difference between sale price and AV')\n",
        "fig.set_xlabel('')\n",
        "fig.set_xticklabels(['Single Family', 'Two Family', 'Three Family', 'Apts'])\n",
        "\n",
        "\n"
      ],
      "execution_count": null,
      "outputs": [
        {
          "output_type": "execute_result",
          "data": {
            "text/plain": [
              "[Text(0, 0, 'Single Family'),\n",
              " Text(0, 0, 'Two Family'),\n",
              " Text(0, 0, 'Three Family'),\n",
              " Text(0, 0, 'Apts')]"
            ]
          },
          "metadata": {
            "tags": []
          },
          "execution_count": 29
        },
        {
          "output_type": "display_data",
          "data": {
            "image/png": "[encoded data removed]",
            "text/plain": [
              "<Figure size 1152x576 with 1 Axes>"
            ]
          },
          "metadata": {
            "tags": []
          }
        }
      ]
    },
    {
      "cell_type": "code",
      "metadata": {
        "id": "NteU9JQIRkcX",
        "colab": {
          "base_uri": "https://localhost:8080/",
          "height": 511
        },
        "outputId": "f765d3b2-a5e4-4244-f8fb-107149883fe9"
      },
      "source": [
        "\n",
        "\n",
        "notExemptAndSold = ne[(ne.Code.isin([210,220,230, 411])) & (ne.SaleYear >= 2015)].sort_values(by=['SaleYear'])\n",
        "\n",
        "fig = sns.boxplot(x=\"SaleYear\", y=\"SaleAssessDiff\", data=notExemptAndSold, hue=\"OpportunityZone\")\n",
        "fig.axis(ymin=-100000, ymax=300000);\n",
        "fig.set_title('Sale price vs assessed value at time of sale')\n",
        "fig.set_ylabel('Difference between sale price and AV')\n",
        "fig.set_xlabel('')\n",
        "#fig.set_xticklabels(['Single Family', 'Two Family', 'Three Family', 'Apts'])\n",
        "\n",
        "\n"
      ],
      "execution_count": null,
      "outputs": [
        {
          "output_type": "execute_result",
          "data": {
            "text/plain": [
              "Text(0.5, 0, '')"
            ]
          },
          "metadata": {
            "tags": []
          },
          "execution_count": 30
        },
        {
          "output_type": "display_data",
          "data": {
            "image/png": "[encoded data removed]",
            "text/plain": [
              "<Figure size 1152x576 with 1 Axes>"
            ]
          },
          "metadata": {
            "tags": []
          }
        }
      ]
    },
    {
      "cell_type": "code",
      "metadata": {
        "id": "Qa3Y-RtB2Ufm",
        "colab": {
          "base_uri": "https://localhost:8080/",
          "height": 548
        },
        "outputId": "e06aff17-fe73-491b-b35a-a8d697ffe0f7"
      },
      "source": [
        "nArray = range(49)\n",
        "limitedNeighborhoods = sfAndMF[sfAndMF.NbhdCode.isin(nArray)]\n",
        "neighborhoods = limitedNeighborhoods[['TaxMap', '2016 City', '2018 City', '2020 City']].groupby('TaxMap', as_index=False)['2016 City', '2018 City', '2020 City'].agg('sum')\n",
        "nArray = neighborhoods.TaxMap.unique()\n",
        "\n",
        "p2016 = neighborhoods['2016 City'] / sfAndMF['2016 City'].sum()\n",
        "p2018 = neighborhoods['2018 City'] / sfAndMF['2018 City'].sum()\n",
        "p2020 = neighborhoods['2020 City'] / sfAndMF['2020 City'].sum()\n",
        "\n",
        "barWidth=0.25\n",
        "r1 = np.array(nArray)\n",
        "r2 = [x + barWidth for x in r1]\n",
        "r3 = [x + barWidth for x in r2]\n",
        "r4 = [x + barWidth for x in r3]\n",
        "\n",
        "plt.bar(r1, p2016, color=color1, width=barWidth, label='2016')\n",
        "plt.bar(r2, p2018, color=color3, width=barWidth, label='2018')\n",
        "plt.bar(r3, p2020, color=color5, width=barWidth, label='2020')\n",
        "\n",
        "\n",
        "plt.ylabel('Percentage of total taxable value')\n",
        "plt.title('Percentage by Tax Map')\n",
        "plt.legend()\n",
        "plt.xticks(nArray)\n",
        "plt.show()\n",
        "\n"
      ],
      "execution_count": null,
      "outputs": [
        {
          "output_type": "stream",
          "text": [
            "/usr/local/lib/python3.6/dist-packages/ipykernel_launcher.py:3: FutureWarning: Indexing with multiple keys (implicitly converted to a tuple of keys) will be deprecated, use a list instead.\n",
            "  This is separate from the ipykernel package so we can avoid doing imports until\n"
          ],
          "name": "stderr"
        },
        {
          "output_type": "display_data",
          "data": {
            "image/png": "[encoded data removed]",
            "text/plain": [
              "<Figure size 1152x576 with 1 Axes>"
            ]
          },
          "metadata": {
            "tags": []
          }
        }
      ]
    },
    {
      "cell_type": "code",
      "metadata": {
        "id": "eG7cD8xmvNLI",
        "colab": {
          "base_uri": "https://localhost:8080/",
          "height": 232
        },
        "outputId": "8da6b046-783a-44cb-86ec-a2eef0b76c48"
      },
      "source": [
        "pDiff = p2020 - p2016\n",
        "\n",
        "barWidth=0.25\n",
        "r1 = np.array(nArray)\n",
        "r2 = [x + barWidth for x in r1]\n",
        "r3 = [x + barWidth for x in r2]\n",
        "r4 = [x + barWidth for x in r3]\n",
        "\n",
        "plt.bar(r1, pDiff, color=color2, width=barWidth, label='2016-2020')\n",
        "\n",
        "plt.ylabel('Increase/Decrease in percentage')\n",
        "plt.title('Percentage by Tax Map')\n",
        "plt.legend()\n",
        "plt.xticks(nArray)\n",
        "plt.show()"
      ],
      "execution_count": null,
      "outputs": [
        {
          "output_type": "error",
          "ename": "NameError",
          "evalue": "ignored",
          "traceback": [
            "\u001b[0;31m---------------------------------------------------------------------------\u001b[0m",
            "\u001b[0;31mNameError\u001b[0m                                 Traceback (most recent call last)",
            "\u001b[0;32m<ipython-input-26-25a18852918f>\u001b[0m in \u001b[0;36m<module>\u001b[0;34m()\u001b[0m\n\u001b[0;32m----> 1\u001b[0;31m \u001b[0mpDiff\u001b[0m \u001b[0;34m=\u001b[0m \u001b[0mp2020\u001b[0m \u001b[0;34m-\u001b[0m \u001b[0mp2016\u001b[0m\u001b[0;34m\u001b[0m\u001b[0;34m\u001b[0m\u001b[0m\n\u001b[0m\u001b[1;32m      2\u001b[0m \u001b[0;34m\u001b[0m\u001b[0m\n\u001b[1;32m      3\u001b[0m \u001b[0mbarWidth\u001b[0m\u001b[0;34m=\u001b[0m\u001b[0;36m0.25\u001b[0m\u001b[0;34m\u001b[0m\u001b[0;34m\u001b[0m\u001b[0m\n\u001b[1;32m      4\u001b[0m \u001b[0mr1\u001b[0m \u001b[0;34m=\u001b[0m \u001b[0mnp\u001b[0m\u001b[0;34m.\u001b[0m\u001b[0marray\u001b[0m\u001b[0;34m(\u001b[0m\u001b[0mnArray\u001b[0m\u001b[0;34m)\u001b[0m\u001b[0;34m\u001b[0m\u001b[0;34m\u001b[0m\u001b[0m\n\u001b[1;32m      5\u001b[0m \u001b[0mr2\u001b[0m \u001b[0;34m=\u001b[0m \u001b[0;34m[\u001b[0m\u001b[0mx\u001b[0m \u001b[0;34m+\u001b[0m \u001b[0mbarWidth\u001b[0m \u001b[0;32mfor\u001b[0m \u001b[0mx\u001b[0m \u001b[0;32min\u001b[0m \u001b[0mr1\u001b[0m\u001b[0;34m]\u001b[0m\u001b[0;34m\u001b[0m\u001b[0;34m\u001b[0m\u001b[0m\n",
            "\u001b[0;31mNameError\u001b[0m: name 'p2020' is not defined"
          ]
        }
      ]
    },
    {
      "cell_type": "code",
      "metadata": {
        "id": "K-CQpjx-YL2j",
        "colab": {
          "base_uri": "https://localhost:8080/",
          "height": 494
        },
        "outputId": "cc16bfca-61a0-448c-81a3-8118f9d70466"
      },
      "source": [
        "sfNC = np.array([0,\n",
        "    sf[(sf['2016 Full'] == sf['2017 Full'])].count()[0],\n",
        "    sf[(sf['2017 Full'] == sf['2018 Full'])].count()[0],\n",
        "    sf[(sf['2018 Full'] == sf['2019 Full'])].count()[0],\n",
        "    sf[(sf['2019 Full'] == sf['2020 Full'])].count()[0]\n",
        "])\n",
        "\n",
        "mfNC = np.array([0,\n",
        "    mf[(mf['2016 Full'] == mf['2017 Full'])].count()[0],\n",
        "    mf[(mf['2017 Full'] == mf['2018 Full'])].count()[0],\n",
        "    mf[(mf['2018 Full'] == mf['2019 Full'])].count()[0],\n",
        "    mf[(mf['2019 Full'] == mf['2020 Full'])].count()[0]\n",
        "])\n",
        "\n",
        "barWidth=0.25\n",
        "r1 = np.array([2016,2017,2018,2019,2020])\n",
        "r2 = [x + barWidth for x in r1]\n",
        "r3 = [x + barWidth for x in r2]\n",
        "\n",
        "\n",
        "plt.bar(r1, sfNC, color=color1, width=0.25, label='Single family')\n",
        "plt.bar(r2, mfNC, color=color2, width=0.25, label='Multi family')\n",
        "plt.ylabel('Count')\n",
        "plt.title('No change in assessment value from previous year')\n",
        "plt.legend()\n",
        "plt.show()"
      ],
      "execution_count": null,
      "outputs": [
        {
          "output_type": "display_data",
          "data": {
            "image/png": "[encoded data removed]",
            "text/plain": [
              "<Figure size 1152x576 with 1 Axes>"
            ]
          },
          "metadata": {
            "tags": []
          }
        }
      ]
    }
  ]
}
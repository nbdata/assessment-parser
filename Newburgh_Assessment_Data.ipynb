{
  "nbformat": 4,
  "nbformat_minor": 0,
  "metadata": {
    "colab": {
      "name": "Newburgh Assessment Data",
      "version": "0.3.2",
      "provenance": [],
      "collapsed_sections": []
    },
    "kernelspec": {
      "name": "python3",
      "display_name": "Python 3"
    }
  },
  "cells": [
    {
      "cell_type": "markdown",
      "metadata": {
        "id": "qdmSl9luzcHH",
        "colab_type": "text"
      },
      "source": [
        "# Load assessment data CSV"
      ]
    },
    {
      "cell_type": "code",
      "metadata": {
        "id": "IwNCjzkCgHUF",
        "colab_type": "code",
        "outputId": "ae1a5d74-7075-4e7e-96b9-489db7f94b17",
        "colab": {
          "base_uri": "https://localhost:8080/",
          "height": 397
        }
      },
      "source": [
        "import pandas as pd\n",
        "import numpy as np\n",
        "import matplotlib.pyplot as plt\n",
        "from matplotlib.pyplot import figure\n",
        "\n",
        "pd.set_option('display.max_rows', 10)\n",
        "pd.set_option('precision', 2)\n",
        "pd.set_option('display.float_format', lambda x: '%.2f' % x)\n",
        "\n",
        "url = 'https://raw.githubusercontent.com/nbdata/assessment-parser/master/output.csv'\n",
        "df = pd.read_csv(url)\n",
        "df.sort_values(by='ID')\n",
        "df.head()"
      ],
      "execution_count": 26,
      "outputs": [
        {
          "output_type": "execute_result",
          "data": {
            "text/html": [
              "<div>\n",
              "<style scoped>\n",
              "    .dataframe tbody tr th:only-of-type {\n",
              "        vertical-align: middle;\n",
              "    }\n",
              "\n",
              "    .dataframe tbody tr th {\n",
              "        vertical-align: top;\n",
              "    }\n",
              "\n",
              "    .dataframe thead th {\n",
              "        text-align: right;\n",
              "    }\n",
              "</style>\n",
              "<table border=\"1\" class=\"dataframe\">\n",
              "  <thead>\n",
              "    <tr style=\"text-align: right;\">\n",
              "      <th></th>\n",
              "      <th>ID</th>\n",
              "      <th>Street</th>\n",
              "      <th>Non-Homestead</th>\n",
              "      <th>Account</th>\n",
              "      <th>Code</th>\n",
              "      <th>2016 City</th>\n",
              "      <th>2016 Full</th>\n",
              "      <th>2017 City</th>\n",
              "      <th>2017 Full</th>\n",
              "      <th>2018 City</th>\n",
              "      <th>2018 Full</th>\n",
              "      <th>2019 City</th>\n",
              "      <th>2019 Full</th>\n",
              "      <th>Sale Date</th>\n",
              "      <th>Sale Price</th>\n",
              "      <th>Sale AV</th>\n",
              "    </tr>\n",
              "  </thead>\n",
              "  <tbody>\n",
              "    <tr>\n",
              "      <th>0</th>\n",
              "      <td>1-1-1</td>\n",
              "      <td>Pierces Rd</td>\n",
              "      <td>1</td>\n",
              "      <td>241601</td>\n",
              "      <td>340</td>\n",
              "      <td>32800.00</td>\n",
              "      <td>32800.00</td>\n",
              "      <td>32800.00</td>\n",
              "      <td>32800.00</td>\n",
              "      <td>32800.00</td>\n",
              "      <td>32800.00</td>\n",
              "      <td>98700</td>\n",
              "      <td>98700</td>\n",
              "      <td>NaN</td>\n",
              "      <td>nan</td>\n",
              "      <td>nan</td>\n",
              "    </tr>\n",
              "    <tr>\n",
              "      <th>1</th>\n",
              "      <td>1-1-3</td>\n",
              "      <td>52 Pierces Rd</td>\n",
              "      <td>1</td>\n",
              "      <td>241876</td>\n",
              "      <td>464</td>\n",
              "      <td>502800.00</td>\n",
              "      <td>502800.00</td>\n",
              "      <td>496500.00</td>\n",
              "      <td>496500.00</td>\n",
              "      <td>496500.00</td>\n",
              "      <td>496500.00</td>\n",
              "      <td>496500</td>\n",
              "      <td>496500</td>\n",
              "      <td>NaN</td>\n",
              "      <td>nan</td>\n",
              "      <td>nan</td>\n",
              "    </tr>\n",
              "    <tr>\n",
              "      <th>2</th>\n",
              "      <td>1-1-4.1</td>\n",
              "      <td>Scobie Dr</td>\n",
              "      <td>1</td>\n",
              "      <td>674810</td>\n",
              "      <td>692</td>\n",
              "      <td>0.00</td>\n",
              "      <td>18300.00</td>\n",
              "      <td>0.00</td>\n",
              "      <td>54900.00</td>\n",
              "      <td>0.00</td>\n",
              "      <td>54900.00</td>\n",
              "      <td>0</td>\n",
              "      <td>54900</td>\n",
              "      <td>NaN</td>\n",
              "      <td>nan</td>\n",
              "      <td>nan</td>\n",
              "    </tr>\n",
              "    <tr>\n",
              "      <th>3</th>\n",
              "      <td>1-1-4.2</td>\n",
              "      <td>98 Scobie Dr</td>\n",
              "      <td>1</td>\n",
              "      <td>271550</td>\n",
              "      <td>449</td>\n",
              "      <td>1249700.00</td>\n",
              "      <td>1249700.00</td>\n",
              "      <td>1249700.00</td>\n",
              "      <td>1249700.00</td>\n",
              "      <td>1249700.00</td>\n",
              "      <td>1249700.00</td>\n",
              "      <td>1249700</td>\n",
              "      <td>1249700</td>\n",
              "      <td>NaN</td>\n",
              "      <td>nan</td>\n",
              "      <td>nan</td>\n",
              "    </tr>\n",
              "    <tr>\n",
              "      <th>4</th>\n",
              "      <td>1-1-4.31</td>\n",
              "      <td>1 Scobie Dr</td>\n",
              "      <td>1</td>\n",
              "      <td>271660</td>\n",
              "      <td>449</td>\n",
              "      <td>317125.00</td>\n",
              "      <td>737500.00</td>\n",
              "      <td>321941.00</td>\n",
              "      <td>748700.00</td>\n",
              "      <td>321941.00</td>\n",
              "      <td>748700.00</td>\n",
              "      <td>321941</td>\n",
              "      <td>748700</td>\n",
              "      <td>NaN</td>\n",
              "      <td>nan</td>\n",
              "      <td>nan</td>\n",
              "    </tr>\n",
              "  </tbody>\n",
              "</table>\n",
              "</div>"
            ],
            "text/plain": [
              "         ID         Street  Non-Homestead  Account  Code  2016 City  \\\n",
              "0     1-1-1     Pierces Rd              1   241601   340   32800.00   \n",
              "1     1-1-3  52 Pierces Rd              1   241876   464  502800.00   \n",
              "2   1-1-4.1      Scobie Dr              1   674810   692       0.00   \n",
              "3   1-1-4.2   98 Scobie Dr              1   271550   449 1249700.00   \n",
              "4  1-1-4.31    1 Scobie Dr              1   271660   449  317125.00   \n",
              "\n",
              "   2016 Full  2017 City  2017 Full  2018 City  2018 Full  2019 City  \\\n",
              "0   32800.00   32800.00   32800.00   32800.00   32800.00      98700   \n",
              "1  502800.00  496500.00  496500.00  496500.00  496500.00     496500   \n",
              "2   18300.00       0.00   54900.00       0.00   54900.00          0   \n",
              "3 1249700.00 1249700.00 1249700.00 1249700.00 1249700.00    1249700   \n",
              "4  737500.00  321941.00  748700.00  321941.00  748700.00     321941   \n",
              "\n",
              "   2019 Full Sale Date  Sale Price  Sale AV  \n",
              "0      98700       NaN         nan      nan  \n",
              "1     496500       NaN         nan      nan  \n",
              "2      54900       NaN         nan      nan  \n",
              "3    1249700       NaN         nan      nan  \n",
              "4     748700       NaN         nan      nan  "
            ]
          },
          "metadata": {
            "tags": []
          },
          "execution_count": 26
        }
      ]
    },
    {
      "cell_type": "markdown",
      "metadata": {
        "id": "T7d59Vi4zHqa",
        "colab_type": "text"
      },
      "source": [
        "# How many properties are exempt ($0 city taxable value)?"
      ]
    },
    {
      "cell_type": "code",
      "metadata": {
        "id": "6zrrrpB2wPVk",
        "colab_type": "code",
        "outputId": "76f2f22c-acb5-4379-d69a-c254e0ee3a28",
        "colab": {
          "base_uri": "https://localhost:8080/",
          "height": 111
        }
      },
      "source": [
        "exempt = df[df['2019 City'] < 1]\n",
        "exempt[['2019 Full']].agg(['count', 'sum'])\n"
      ],
      "execution_count": 27,
      "outputs": [
        {
          "output_type": "execute_result",
          "data": {
            "text/html": [
              "<div>\n",
              "<style scoped>\n",
              "    .dataframe tbody tr th:only-of-type {\n",
              "        vertical-align: middle;\n",
              "    }\n",
              "\n",
              "    .dataframe tbody tr th {\n",
              "        vertical-align: top;\n",
              "    }\n",
              "\n",
              "    .dataframe thead th {\n",
              "        text-align: right;\n",
              "    }\n",
              "</style>\n",
              "<table border=\"1\" class=\"dataframe\">\n",
              "  <thead>\n",
              "    <tr style=\"text-align: right;\">\n",
              "      <th></th>\n",
              "      <th>2019 Full</th>\n",
              "    </tr>\n",
              "  </thead>\n",
              "  <tbody>\n",
              "    <tr>\n",
              "      <th>count</th>\n",
              "      <td>455</td>\n",
              "    </tr>\n",
              "    <tr>\n",
              "      <th>sum</th>\n",
              "      <td>544741825</td>\n",
              "    </tr>\n",
              "  </tbody>\n",
              "</table>\n",
              "</div>"
            ],
            "text/plain": [
              "       2019 Full\n",
              "count        455\n",
              "sum    544741825"
            ]
          },
          "metadata": {
            "tags": []
          },
          "execution_count": 27
        }
      ]
    },
    {
      "cell_type": "markdown",
      "metadata": {
        "id": "i4RtdinguOCn",
        "colab_type": "text"
      },
      "source": [
        "# Count of exempt properties by class code\n",
        "\n",
        "\n",
        "\n",
        "```\n",
        "620 = Religious\n",
        "963 = City Public Park\n",
        "438 = Parking Lot\n",
        "330 = Vacant Commercial\n",
        "210 = Single-family\n",
        "311 = Vacant Residential\n",
        "```\n",
        "\n"
      ]
    },
    {
      "cell_type": "code",
      "metadata": {
        "id": "q1Ihj4wIs3b-",
        "colab_type": "code",
        "outputId": "0ccb9712-da13-4165-bf55-9967277e0429",
        "colab": {
          "base_uri": "https://localhost:8080/",
          "height": 136
        }
      },
      "source": [
        "ex_agg = exempt[['Code', '2019 Full']].groupby('Code', as_index=False)['2019 Full'].agg({'avg':'mean', 'count':'count'})\n",
        "ex_cnt = ex_agg[ex_agg['count'] > 20].sort_values(by=['count'], ascending=False).head(10)\n",
        "print(ex_cnt.to_string(index=False))\n",
        "\n"
      ],
      "execution_count": 28,
      "outputs": [
        {
          "output_type": "stream",
          "text": [
            " Code       avg  count\n",
            "  311  14996.01     69\n",
            "  620 902971.70     53\n",
            "  210  92877.78     36\n",
            "  330  97140.74     27\n",
            "  438 105114.29     21\n",
            "  963 384428.57     21\n"
          ],
          "name": "stdout"
        }
      ]
    },
    {
      "cell_type": "markdown",
      "metadata": {
        "id": "qCwC5pylzv7D",
        "colab_type": "text"
      },
      "source": [
        "# What percentage of 2019 full market value is exempt?"
      ]
    },
    {
      "cell_type": "code",
      "metadata": {
        "id": "sL-DQcZqzua5",
        "colab_type": "code",
        "outputId": "4e1b43cc-495f-4a75-f4af-845ea2b66fec",
        "colab": {
          "base_uri": "https://localhost:8080/",
          "height": 34
        }
      },
      "source": [
        "totalsum = df['2019 Full'].sum()\n",
        "exemptsum = exempt['2019 Full'].sum()\n",
        "exemptsum / totalsum"
      ],
      "execution_count": 30,
      "outputs": [
        {
          "output_type": "execute_result",
          "data": {
            "text/plain": [
              "0.3539482769099096"
            ]
          },
          "metadata": {
            "tags": []
          },
          "execution_count": 30
        }
      ]
    },
    {
      "cell_type": "markdown",
      "metadata": {
        "id": "_GTPT7L10FzW",
        "colab_type": "text"
      },
      "source": [
        "# What were the biggest increases in single-family assessed value 2016 - 2017?"
      ]
    },
    {
      "cell_type": "code",
      "metadata": {
        "id": "lNaQhW5wthcb",
        "colab_type": "code",
        "outputId": "0c760fc4-f475-4ef5-e11d-0b62ac69615e",
        "colab": {
          "base_uri": "https://localhost:8080/",
          "height": 359
        }
      },
      "source": [
        "sf = df[df['Code'] == 210].reset_index()\n",
        "sf = sf[sf['2019 City'] > 0].reset_index()\n",
        "sf['2017 Dollar Increase'] = sf['2017 Full'] - sf['2016 Full']\n",
        "sf['2017 Increase'] = 100 * (sf['2017 Dollar Increase'] / sf['2016 Full'])\n",
        "sf[['ID', 'Street', '2016 Full', '2017 Full', '2017 Increase']].sort_values(by=['2017 Increase'], ascending=False).head(10)\n"
      ],
      "execution_count": 31,
      "outputs": [
        {
          "output_type": "execute_result",
          "data": {
            "text/html": [
              "<div>\n",
              "<style scoped>\n",
              "    .dataframe tbody tr th:only-of-type {\n",
              "        vertical-align: middle;\n",
              "    }\n",
              "\n",
              "    .dataframe tbody tr th {\n",
              "        vertical-align: top;\n",
              "    }\n",
              "\n",
              "    .dataframe thead th {\n",
              "        text-align: right;\n",
              "    }\n",
              "</style>\n",
              "<table border=\"1\" class=\"dataframe\">\n",
              "  <thead>\n",
              "    <tr style=\"text-align: right;\">\n",
              "      <th></th>\n",
              "      <th>ID</th>\n",
              "      <th>Street</th>\n",
              "      <th>2016 Full</th>\n",
              "      <th>2017 Full</th>\n",
              "      <th>2017 Increase</th>\n",
              "    </tr>\n",
              "  </thead>\n",
              "  <tbody>\n",
              "    <tr>\n",
              "      <th>1491</th>\n",
              "      <td>26-3-5.3</td>\n",
              "      <td>23 Morris Ave</td>\n",
              "      <td>22500.00</td>\n",
              "      <td>189720.00</td>\n",
              "      <td>743.20</td>\n",
              "    </tr>\n",
              "    <tr>\n",
              "      <th>1910</th>\n",
              "      <td>36-2-15</td>\n",
              "      <td>152 Ann St</td>\n",
              "      <td>1500.00</td>\n",
              "      <td>12000.00</td>\n",
              "      <td>700.00</td>\n",
              "    </tr>\n",
              "    <tr>\n",
              "      <th>2135</th>\n",
              "      <td>4-8-20</td>\n",
              "      <td>21 Leroy Pl</td>\n",
              "      <td>45000.00</td>\n",
              "      <td>339200.00</td>\n",
              "      <td>653.78</td>\n",
              "    </tr>\n",
              "    <tr>\n",
              "      <th>2300</th>\n",
              "      <td>48-12-22</td>\n",
              "      <td>84 Henry Ave</td>\n",
              "      <td>19800.00</td>\n",
              "      <td>134400.00</td>\n",
              "      <td>578.79</td>\n",
              "    </tr>\n",
              "    <tr>\n",
              "      <th>1909</th>\n",
              "      <td>36-2-13.2</td>\n",
              "      <td>150 Ann St</td>\n",
              "      <td>1800.00</td>\n",
              "      <td>12000.00</td>\n",
              "      <td>566.67</td>\n",
              "    </tr>\n",
              "    <tr>\n",
              "      <th>1911</th>\n",
              "      <td>36-2-16</td>\n",
              "      <td>154 Ann St</td>\n",
              "      <td>2000.00</td>\n",
              "      <td>12000.00</td>\n",
              "      <td>500.00</td>\n",
              "    </tr>\n",
              "    <tr>\n",
              "      <th>1419</th>\n",
              "      <td>26-1-6.1</td>\n",
              "      <td>157 Dupont Ave Front</td>\n",
              "      <td>21600.00</td>\n",
              "      <td>67400.00</td>\n",
              "      <td>212.04</td>\n",
              "    </tr>\n",
              "    <tr>\n",
              "      <th>1180</th>\n",
              "      <td>22-5-30</td>\n",
              "      <td>254 First St</td>\n",
              "      <td>15500.00</td>\n",
              "      <td>45900.00</td>\n",
              "      <td>196.13</td>\n",
              "    </tr>\n",
              "    <tr>\n",
              "      <th>71</th>\n",
              "      <td>11-5-10</td>\n",
              "      <td>309 Liberty St</td>\n",
              "      <td>10300.00</td>\n",
              "      <td>30100.00</td>\n",
              "      <td>192.23</td>\n",
              "    </tr>\n",
              "    <tr>\n",
              "      <th>2323</th>\n",
              "      <td>48-3-22</td>\n",
              "      <td>24 Courtney Ave</td>\n",
              "      <td>74600.00</td>\n",
              "      <td>174200.00</td>\n",
              "      <td>133.51</td>\n",
              "    </tr>\n",
              "  </tbody>\n",
              "</table>\n",
              "</div>"
            ],
            "text/plain": [
              "             ID                Street  2016 Full  2017 Full  2017 Increase\n",
              "1491   26-3-5.3         23 Morris Ave   22500.00  189720.00         743.20\n",
              "1910    36-2-15            152 Ann St    1500.00   12000.00         700.00\n",
              "2135     4-8-20           21 Leroy Pl   45000.00  339200.00         653.78\n",
              "2300   48-12-22          84 Henry Ave   19800.00  134400.00         578.79\n",
              "1909  36-2-13.2            150 Ann St    1800.00   12000.00         566.67\n",
              "1911    36-2-16            154 Ann St    2000.00   12000.00         500.00\n",
              "1419   26-1-6.1  157 Dupont Ave Front   21600.00   67400.00         212.04\n",
              "1180    22-5-30          254 First St   15500.00   45900.00         196.13\n",
              "71      11-5-10        309 Liberty St   10300.00   30100.00         192.23\n",
              "2323    48-3-22       24 Courtney Ave   74600.00  174200.00         133.51"
            ]
          },
          "metadata": {
            "tags": []
          },
          "execution_count": 31
        }
      ]
    },
    {
      "cell_type": "markdown",
      "metadata": {
        "id": "nBcyZpE12H1e",
        "colab_type": "text"
      },
      "source": [
        "# What were the biggest increases in single-family assessed value 2017 - 2018?"
      ]
    },
    {
      "cell_type": "code",
      "metadata": {
        "id": "OGY7Jek41-vo",
        "colab_type": "code",
        "outputId": "9f407dec-4970-47ba-ceae-27d163413b73",
        "colab": {
          "base_uri": "https://localhost:8080/",
          "height": 359
        }
      },
      "source": [
        "sf['2018 Dollar Increase'] = sf['2018 Full'] - sf['2017 Full']\n",
        "sf['2018 Increase'] = 100 * (sf['2018 Dollar Increase'] / sf['2017 Full'])\n",
        "sf[['ID', 'Street', '2017 Full', '2018 Full', '2018 Increase']].sort_values(by=['2018 Increase'], ascending=False).head(10)"
      ],
      "execution_count": 32,
      "outputs": [
        {
          "output_type": "execute_result",
          "data": {
            "text/html": [
              "<div>\n",
              "<style scoped>\n",
              "    .dataframe tbody tr th:only-of-type {\n",
              "        vertical-align: middle;\n",
              "    }\n",
              "\n",
              "    .dataframe tbody tr th {\n",
              "        vertical-align: top;\n",
              "    }\n",
              "\n",
              "    .dataframe thead th {\n",
              "        text-align: right;\n",
              "    }\n",
              "</style>\n",
              "<table border=\"1\" class=\"dataframe\">\n",
              "  <thead>\n",
              "    <tr style=\"text-align: right;\">\n",
              "      <th></th>\n",
              "      <th>ID</th>\n",
              "      <th>Street</th>\n",
              "      <th>2017 Full</th>\n",
              "      <th>2018 Full</th>\n",
              "      <th>2018 Increase</th>\n",
              "    </tr>\n",
              "  </thead>\n",
              "  <tbody>\n",
              "    <tr>\n",
              "      <th>1909</th>\n",
              "      <td>36-2-13.2</td>\n",
              "      <td>150 Ann St</td>\n",
              "      <td>12000.00</td>\n",
              "      <td>145200.00</td>\n",
              "      <td>1110.00</td>\n",
              "    </tr>\n",
              "    <tr>\n",
              "      <th>1910</th>\n",
              "      <td>36-2-15</td>\n",
              "      <td>152 Ann St</td>\n",
              "      <td>12000.00</td>\n",
              "      <td>145200.00</td>\n",
              "      <td>1110.00</td>\n",
              "    </tr>\n",
              "    <tr>\n",
              "      <th>1911</th>\n",
              "      <td>36-2-16</td>\n",
              "      <td>154 Ann St</td>\n",
              "      <td>12000.00</td>\n",
              "      <td>145200.00</td>\n",
              "      <td>1110.00</td>\n",
              "    </tr>\n",
              "    <tr>\n",
              "      <th>1912</th>\n",
              "      <td>36-2-17</td>\n",
              "      <td>156 Ann St</td>\n",
              "      <td>12000.00</td>\n",
              "      <td>145200.00</td>\n",
              "      <td>1110.00</td>\n",
              "    </tr>\n",
              "    <tr>\n",
              "      <th>239</th>\n",
              "      <td>14-2-16.13</td>\n",
              "      <td>156 Orchard St</td>\n",
              "      <td>24600.00</td>\n",
              "      <td>208500.00</td>\n",
              "      <td>747.56</td>\n",
              "    </tr>\n",
              "    <tr>\n",
              "      <th>238</th>\n",
              "      <td>14-2-16.12</td>\n",
              "      <td>144 Orchard St</td>\n",
              "      <td>24500.00</td>\n",
              "      <td>195200.00</td>\n",
              "      <td>696.73</td>\n",
              "    </tr>\n",
              "    <tr>\n",
              "      <th>745</th>\n",
              "      <td>18-4-45</td>\n",
              "      <td>155 Lander St</td>\n",
              "      <td>12900.00</td>\n",
              "      <td>74400.00</td>\n",
              "      <td>476.74</td>\n",
              "    </tr>\n",
              "    <tr>\n",
              "      <th>2212</th>\n",
              "      <td>45-6-19</td>\n",
              "      <td>44 Carson Ave</td>\n",
              "      <td>43700.00</td>\n",
              "      <td>250000.00</td>\n",
              "      <td>472.08</td>\n",
              "    </tr>\n",
              "    <tr>\n",
              "      <th>1050</th>\n",
              "      <td>20-3-34</td>\n",
              "      <td>446 First St</td>\n",
              "      <td>26600.00</td>\n",
              "      <td>116700.00</td>\n",
              "      <td>338.72</td>\n",
              "    </tr>\n",
              "    <tr>\n",
              "      <th>1060</th>\n",
              "      <td>21-1-1</td>\n",
              "      <td>387 Third St</td>\n",
              "      <td>33900.00</td>\n",
              "      <td>140600.00</td>\n",
              "      <td>314.75</td>\n",
              "    </tr>\n",
              "  </tbody>\n",
              "</table>\n",
              "</div>"
            ],
            "text/plain": [
              "              ID          Street  2017 Full  2018 Full  2018 Increase\n",
              "1909   36-2-13.2      150 Ann St   12000.00  145200.00        1110.00\n",
              "1910     36-2-15      152 Ann St   12000.00  145200.00        1110.00\n",
              "1911     36-2-16      154 Ann St   12000.00  145200.00        1110.00\n",
              "1912     36-2-17      156 Ann St   12000.00  145200.00        1110.00\n",
              "239   14-2-16.13  156 Orchard St   24600.00  208500.00         747.56\n",
              "238   14-2-16.12  144 Orchard St   24500.00  195200.00         696.73\n",
              "745      18-4-45   155 Lander St   12900.00   74400.00         476.74\n",
              "2212     45-6-19   44 Carson Ave   43700.00  250000.00         472.08\n",
              "1050     20-3-34    446 First St   26600.00  116700.00         338.72\n",
              "1060      21-1-1    387 Third St   33900.00  140600.00         314.75"
            ]
          },
          "metadata": {
            "tags": []
          },
          "execution_count": 32
        }
      ]
    },
    {
      "cell_type": "markdown",
      "metadata": {
        "id": "WJr5wm8R2MCx",
        "colab_type": "text"
      },
      "source": [
        "# What were the biggest increases in single-family assessed value 2018 - 2019?"
      ]
    },
    {
      "cell_type": "code",
      "metadata": {
        "id": "7vjqXnex2QU0",
        "colab_type": "code",
        "outputId": "d372de22-3518-41ea-ddce-04dfb3fa44a6",
        "colab": {
          "base_uri": "https://localhost:8080/",
          "height": 359
        }
      },
      "source": [
        "sf['2019 Dollar Increase'] = sf['2019 Full'] - sf['2018 Full']\n",
        "sf['2019 Increase'] = 100 * (sf['2019 Dollar Increase'] / sf['2018 Full'])\n",
        "sf[['ID', 'Street', '2018 Full', '2019 Full', '2019 Increase']].sort_values(by=['2019 Increase'], ascending=False).head(10)"
      ],
      "execution_count": 33,
      "outputs": [
        {
          "output_type": "execute_result",
          "data": {
            "text/html": [
              "<div>\n",
              "<style scoped>\n",
              "    .dataframe tbody tr th:only-of-type {\n",
              "        vertical-align: middle;\n",
              "    }\n",
              "\n",
              "    .dataframe tbody tr th {\n",
              "        vertical-align: top;\n",
              "    }\n",
              "\n",
              "    .dataframe thead th {\n",
              "        text-align: right;\n",
              "    }\n",
              "</style>\n",
              "<table border=\"1\" class=\"dataframe\">\n",
              "  <thead>\n",
              "    <tr style=\"text-align: right;\">\n",
              "      <th></th>\n",
              "      <th>ID</th>\n",
              "      <th>Street</th>\n",
              "      <th>2018 Full</th>\n",
              "      <th>2019 Full</th>\n",
              "      <th>2019 Increase</th>\n",
              "    </tr>\n",
              "  </thead>\n",
              "  <tbody>\n",
              "    <tr>\n",
              "      <th>1821</th>\n",
              "      <td>30-2-18</td>\n",
              "      <td>23 Johnston St</td>\n",
              "      <td>10900.00</td>\n",
              "      <td>153800</td>\n",
              "      <td>1311.01</td>\n",
              "    </tr>\n",
              "    <tr>\n",
              "      <th>1822</th>\n",
              "      <td>30-2-19</td>\n",
              "      <td>21 Johnston St</td>\n",
              "      <td>10900.00</td>\n",
              "      <td>153800</td>\n",
              "      <td>1311.01</td>\n",
              "    </tr>\n",
              "    <tr>\n",
              "      <th>0</th>\n",
              "      <td>10-1-15</td>\n",
              "      <td>279 Grand St</td>\n",
              "      <td>13100.00</td>\n",
              "      <td>63600</td>\n",
              "      <td>385.50</td>\n",
              "    </tr>\n",
              "    <tr>\n",
              "      <th>1826</th>\n",
              "      <td>30-2-37</td>\n",
              "      <td>20 S Miller St</td>\n",
              "      <td>26700.00</td>\n",
              "      <td>121900</td>\n",
              "      <td>356.55</td>\n",
              "    </tr>\n",
              "    <tr>\n",
              "      <th>2324</th>\n",
              "      <td>48-3-24</td>\n",
              "      <td>28 Courtney Ave</td>\n",
              "      <td>19300.00</td>\n",
              "      <td>59500</td>\n",
              "      <td>208.29</td>\n",
              "    </tr>\n",
              "    <tr>\n",
              "      <th>1014</th>\n",
              "      <td>20-1-53</td>\n",
              "      <td>76 West St</td>\n",
              "      <td>47200.00</td>\n",
              "      <td>144800</td>\n",
              "      <td>206.78</td>\n",
              "    </tr>\n",
              "    <tr>\n",
              "      <th>1797</th>\n",
              "      <td>3-9-27</td>\n",
              "      <td>324 Robinson Ave</td>\n",
              "      <td>20500.00</td>\n",
              "      <td>62600</td>\n",
              "      <td>205.37</td>\n",
              "    </tr>\n",
              "    <tr>\n",
              "      <th>1837</th>\n",
              "      <td>30-4-17</td>\n",
              "      <td>33 Chambers St</td>\n",
              "      <td>63400.00</td>\n",
              "      <td>182900</td>\n",
              "      <td>188.49</td>\n",
              "    </tr>\n",
              "    <tr>\n",
              "      <th>71</th>\n",
              "      <td>11-5-10</td>\n",
              "      <td>309 Liberty St</td>\n",
              "      <td>35600.00</td>\n",
              "      <td>100100</td>\n",
              "      <td>181.18</td>\n",
              "    </tr>\n",
              "    <tr>\n",
              "      <th>699</th>\n",
              "      <td>18-10-10</td>\n",
              "      <td>154 Third St</td>\n",
              "      <td>78400.00</td>\n",
              "      <td>211700</td>\n",
              "      <td>170.03</td>\n",
              "    </tr>\n",
              "  </tbody>\n",
              "</table>\n",
              "</div>"
            ],
            "text/plain": [
              "            ID            Street  2018 Full  2019 Full  2019 Increase\n",
              "1821   30-2-18    23 Johnston St   10900.00     153800        1311.01\n",
              "1822   30-2-19    21 Johnston St   10900.00     153800        1311.01\n",
              "0      10-1-15      279 Grand St   13100.00      63600         385.50\n",
              "1826   30-2-37    20 S Miller St   26700.00     121900         356.55\n",
              "2324   48-3-24   28 Courtney Ave   19300.00      59500         208.29\n",
              "1014   20-1-53        76 West St   47200.00     144800         206.78\n",
              "1797    3-9-27  324 Robinson Ave   20500.00      62600         205.37\n",
              "1837   30-4-17    33 Chambers St   63400.00     182900         188.49\n",
              "71     11-5-10    309 Liberty St   35600.00     100100         181.18\n",
              "699   18-10-10      154 Third St   78400.00     211700         170.03"
            ]
          },
          "metadata": {
            "tags": []
          },
          "execution_count": 33
        }
      ]
    },
    {
      "cell_type": "markdown",
      "metadata": {
        "id": "0e54tTp_3TVa",
        "colab_type": "text"
      },
      "source": [
        "# What were the biggest decreases in single-family assessed value 2018 - 2019?"
      ]
    },
    {
      "cell_type": "code",
      "metadata": {
        "id": "9moAuwMM3Or_",
        "colab_type": "code",
        "outputId": "7bcde505-c5a2-4ee8-ba1c-c638be7a252c",
        "colab": {
          "base_uri": "https://localhost:8080/",
          "height": 359
        }
      },
      "source": [
        "sf[['ID', 'Street', '2018 Full', '2019 Full', '2019 Increase']].sort_values(by=['2019 Increase'], ascending=True).head(10)"
      ],
      "execution_count": 34,
      "outputs": [
        {
          "output_type": "execute_result",
          "data": {
            "text/html": [
              "<div>\n",
              "<style scoped>\n",
              "    .dataframe tbody tr th:only-of-type {\n",
              "        vertical-align: middle;\n",
              "    }\n",
              "\n",
              "    .dataframe tbody tr th {\n",
              "        vertical-align: top;\n",
              "    }\n",
              "\n",
              "    .dataframe thead th {\n",
              "        text-align: right;\n",
              "    }\n",
              "</style>\n",
              "<table border=\"1\" class=\"dataframe\">\n",
              "  <thead>\n",
              "    <tr style=\"text-align: right;\">\n",
              "      <th></th>\n",
              "      <th>ID</th>\n",
              "      <th>Street</th>\n",
              "      <th>2018 Full</th>\n",
              "      <th>2019 Full</th>\n",
              "      <th>2019 Increase</th>\n",
              "    </tr>\n",
              "  </thead>\n",
              "  <tbody>\n",
              "    <tr>\n",
              "      <th>1177</th>\n",
              "      <td>22-5-22</td>\n",
              "      <td>236 First St</td>\n",
              "      <td>10400.00</td>\n",
              "      <td>4700</td>\n",
              "      <td>-54.81</td>\n",
              "    </tr>\n",
              "    <tr>\n",
              "      <th>1786</th>\n",
              "      <td>3-9-1</td>\n",
              "      <td>7 Cottage Ave</td>\n",
              "      <td>124500.00</td>\n",
              "      <td>58700</td>\n",
              "      <td>-52.85</td>\n",
              "    </tr>\n",
              "    <tr>\n",
              "      <th>2228</th>\n",
              "      <td>45-7-22</td>\n",
              "      <td>46 Overlook Pl</td>\n",
              "      <td>104400.00</td>\n",
              "      <td>56500</td>\n",
              "      <td>-45.88</td>\n",
              "    </tr>\n",
              "    <tr>\n",
              "      <th>2083</th>\n",
              "      <td>4-10-30</td>\n",
              "      <td>520 Liberty St</td>\n",
              "      <td>110000.00</td>\n",
              "      <td>63100</td>\n",
              "      <td>-42.64</td>\n",
              "    </tr>\n",
              "    <tr>\n",
              "      <th>1632</th>\n",
              "      <td>28-3-11</td>\n",
              "      <td>15 Prospect St</td>\n",
              "      <td>68200.00</td>\n",
              "      <td>45900</td>\n",
              "      <td>-32.70</td>\n",
              "    </tr>\n",
              "    <tr>\n",
              "      <th>1804</th>\n",
              "      <td>3-9-5</td>\n",
              "      <td>31 Cottage Ave</td>\n",
              "      <td>112000.00</td>\n",
              "      <td>75900</td>\n",
              "      <td>-32.23</td>\n",
              "    </tr>\n",
              "    <tr>\n",
              "      <th>2092</th>\n",
              "      <td>4-3-2</td>\n",
              "      <td>15 North St</td>\n",
              "      <td>194900.00</td>\n",
              "      <td>137300</td>\n",
              "      <td>-29.55</td>\n",
              "    </tr>\n",
              "    <tr>\n",
              "      <th>1753</th>\n",
              "      <td>3-4-10</td>\n",
              "      <td>116 North St</td>\n",
              "      <td>135700.00</td>\n",
              "      <td>98500</td>\n",
              "      <td>-27.41</td>\n",
              "    </tr>\n",
              "    <tr>\n",
              "      <th>1807</th>\n",
              "      <td>3-9-8</td>\n",
              "      <td>19 Cottage Ave</td>\n",
              "      <td>140900.00</td>\n",
              "      <td>109500</td>\n",
              "      <td>-22.29</td>\n",
              "    </tr>\n",
              "    <tr>\n",
              "      <th>2173</th>\n",
              "      <td>44-5-20</td>\n",
              "      <td>202 Overlook Pl</td>\n",
              "      <td>113300.00</td>\n",
              "      <td>90700</td>\n",
              "      <td>-19.95</td>\n",
              "    </tr>\n",
              "  </tbody>\n",
              "</table>\n",
              "</div>"
            ],
            "text/plain": [
              "           ID           Street  2018 Full  2019 Full  2019 Increase\n",
              "1177  22-5-22     236 First St   10400.00       4700         -54.81\n",
              "1786    3-9-1    7 Cottage Ave  124500.00      58700         -52.85\n",
              "2228  45-7-22   46 Overlook Pl  104400.00      56500         -45.88\n",
              "2083  4-10-30   520 Liberty St  110000.00      63100         -42.64\n",
              "1632  28-3-11   15 Prospect St   68200.00      45900         -32.70\n",
              "1804    3-9-5   31 Cottage Ave  112000.00      75900         -32.23\n",
              "2092    4-3-2      15 North St  194900.00     137300         -29.55\n",
              "1753   3-4-10     116 North St  135700.00      98500         -27.41\n",
              "1807    3-9-8   19 Cottage Ave  140900.00     109500         -22.29\n",
              "2173  44-5-20  202 Overlook Pl  113300.00      90700         -19.95"
            ]
          },
          "metadata": {
            "tags": []
          },
          "execution_count": 34
        }
      ]
    },
    {
      "cell_type": "markdown",
      "metadata": {
        "id": "wDqAmDyoqI74",
        "colab_type": "text"
      },
      "source": [
        "# What is the breakdown between homestead and non-homestead?\n",
        "\n",
        "```\n",
        "0 = Homestead\n",
        "1= Non-Homestead\n",
        "2=Non-HMSTD (Special)\n",
        "```\n",
        "\n"
      ]
    },
    {
      "cell_type": "code",
      "metadata": {
        "id": "PzEhs4YuojC-",
        "colab_type": "code",
        "outputId": "37c7ccb1-4fc9-4fad-ba23-6eda3ca45ebb",
        "colab": {
          "base_uri": "https://localhost:8080/",
          "height": 204
        }
      },
      "source": [
        "df[['ID', 'Non-Homestead', '2019 Full']].groupby('Non-Homestead').describe()"
      ],
      "execution_count": 35,
      "outputs": [
        {
          "output_type": "execute_result",
          "data": {
            "text/html": [
              "<div>\n",
              "<style scoped>\n",
              "    .dataframe tbody tr th:only-of-type {\n",
              "        vertical-align: middle;\n",
              "    }\n",
              "\n",
              "    .dataframe tbody tr th {\n",
              "        vertical-align: top;\n",
              "    }\n",
              "\n",
              "    .dataframe thead tr th {\n",
              "        text-align: left;\n",
              "    }\n",
              "\n",
              "    .dataframe thead tr:last-of-type th {\n",
              "        text-align: right;\n",
              "    }\n",
              "</style>\n",
              "<table border=\"1\" class=\"dataframe\">\n",
              "  <thead>\n",
              "    <tr>\n",
              "      <th></th>\n",
              "      <th colspan=\"8\" halign=\"left\">2019 Full</th>\n",
              "    </tr>\n",
              "    <tr>\n",
              "      <th></th>\n",
              "      <th>count</th>\n",
              "      <th>mean</th>\n",
              "      <th>std</th>\n",
              "      <th>min</th>\n",
              "      <th>25%</th>\n",
              "      <th>50%</th>\n",
              "      <th>75%</th>\n",
              "      <th>max</th>\n",
              "    </tr>\n",
              "    <tr>\n",
              "      <th>Non-Homestead</th>\n",
              "      <th></th>\n",
              "      <th></th>\n",
              "      <th></th>\n",
              "      <th></th>\n",
              "      <th></th>\n",
              "      <th></th>\n",
              "      <th></th>\n",
              "      <th></th>\n",
              "    </tr>\n",
              "  </thead>\n",
              "  <tbody>\n",
              "    <tr>\n",
              "      <th>0</th>\n",
              "      <td>5279.00</td>\n",
              "      <td>113163.88</td>\n",
              "      <td>67856.39</td>\n",
              "      <td>0.00</td>\n",
              "      <td>74100.00</td>\n",
              "      <td>109600.00</td>\n",
              "      <td>143200.00</td>\n",
              "      <td>626000.00</td>\n",
              "    </tr>\n",
              "    <tr>\n",
              "      <th>1</th>\n",
              "      <td>1635.00</td>\n",
              "      <td>570813.66</td>\n",
              "      <td>3118664.73</td>\n",
              "      <td>0.00</td>\n",
              "      <td>69200.00</td>\n",
              "      <td>145900.00</td>\n",
              "      <td>293950.00</td>\n",
              "      <td>71634800.00</td>\n",
              "    </tr>\n",
              "    <tr>\n",
              "      <th>2</th>\n",
              "      <td>40.00</td>\n",
              "      <td>209277.50</td>\n",
              "      <td>145784.39</td>\n",
              "      <td>57200.00</td>\n",
              "      <td>139350.00</td>\n",
              "      <td>165200.00</td>\n",
              "      <td>220075.00</td>\n",
              "      <td>972400.00</td>\n",
              "    </tr>\n",
              "  </tbody>\n",
              "</table>\n",
              "</div>"
            ],
            "text/plain": [
              "              2019 Full                                                    \\\n",
              "                  count      mean        std      min       25%       50%   \n",
              "Non-Homestead                                                               \n",
              "0               5279.00 113163.88   67856.39     0.00  74100.00 109600.00   \n",
              "1               1635.00 570813.66 3118664.73     0.00  69200.00 145900.00   \n",
              "2                 40.00 209277.50  145784.39 57200.00 139350.00 165200.00   \n",
              "\n",
              "                                     \n",
              "                    75%         max  \n",
              "Non-Homestead                        \n",
              "0             143200.00   626000.00  \n",
              "1             293950.00 71634800.00  \n",
              "2             220075.00   972400.00  "
            ]
          },
          "metadata": {
            "tags": []
          },
          "execution_count": 35
        }
      ]
    },
    {
      "cell_type": "markdown",
      "metadata": {
        "id": "7tsXyMNU3fAX",
        "colab_type": "text"
      },
      "source": [
        "# 2019 Full Market value breakdown by class code\n",
        "\n",
        "Description of [class codes is available here](https://www.cityofnewburgh-ny.gov/sites/newburghny/files/u153/property_class_codes.pdf) "
      ]
    },
    {
      "cell_type": "code",
      "metadata": {
        "id": "KmHuJ8UFjnBb",
        "colab_type": "code",
        "outputId": "d188343b-8434-4e28-e57c-c7462e971bf1",
        "colab": {
          "base_uri": "https://localhost:8080/",
          "height": 481
        }
      },
      "source": [
        "df[['ID', 'Code', '2019 Full']].groupby(['Code']).describe()"
      ],
      "execution_count": 36,
      "outputs": [
        {
          "output_type": "execute_result",
          "data": {
            "text/html": [
              "<div>\n",
              "<style scoped>\n",
              "    .dataframe tbody tr th:only-of-type {\n",
              "        vertical-align: middle;\n",
              "    }\n",
              "\n",
              "    .dataframe tbody tr th {\n",
              "        vertical-align: top;\n",
              "    }\n",
              "\n",
              "    .dataframe thead tr th {\n",
              "        text-align: left;\n",
              "    }\n",
              "\n",
              "    .dataframe thead tr:last-of-type th {\n",
              "        text-align: right;\n",
              "    }\n",
              "</style>\n",
              "<table border=\"1\" class=\"dataframe\">\n",
              "  <thead>\n",
              "    <tr>\n",
              "      <th></th>\n",
              "      <th colspan=\"8\" halign=\"left\">2019 Full</th>\n",
              "    </tr>\n",
              "    <tr>\n",
              "      <th></th>\n",
              "      <th>count</th>\n",
              "      <th>mean</th>\n",
              "      <th>std</th>\n",
              "      <th>min</th>\n",
              "      <th>25%</th>\n",
              "      <th>50%</th>\n",
              "      <th>75%</th>\n",
              "      <th>max</th>\n",
              "    </tr>\n",
              "    <tr>\n",
              "      <th>Code</th>\n",
              "      <th></th>\n",
              "      <th></th>\n",
              "      <th></th>\n",
              "      <th></th>\n",
              "      <th></th>\n",
              "      <th></th>\n",
              "      <th></th>\n",
              "      <th></th>\n",
              "    </tr>\n",
              "  </thead>\n",
              "  <tbody>\n",
              "    <tr>\n",
              "      <th>210</th>\n",
              "      <td>3068.00</td>\n",
              "      <td>127277.03</td>\n",
              "      <td>63025.62</td>\n",
              "      <td>3000.00</td>\n",
              "      <td>90075.00</td>\n",
              "      <td>118550.00</td>\n",
              "      <td>154725.00</td>\n",
              "      <td>549800.00</td>\n",
              "    </tr>\n",
              "    <tr>\n",
              "      <th>220</th>\n",
              "      <td>1240.00</td>\n",
              "      <td>110937.50</td>\n",
              "      <td>55275.38</td>\n",
              "      <td>8000.00</td>\n",
              "      <td>78400.00</td>\n",
              "      <td>98550.00</td>\n",
              "      <td>132525.00</td>\n",
              "      <td>626000.00</td>\n",
              "    </tr>\n",
              "    <tr>\n",
              "      <th>230</th>\n",
              "      <td>448.00</td>\n",
              "      <td>130326.34</td>\n",
              "      <td>68770.92</td>\n",
              "      <td>11300.00</td>\n",
              "      <td>91750.00</td>\n",
              "      <td>118500.00</td>\n",
              "      <td>157075.00</td>\n",
              "      <td>489900.00</td>\n",
              "    </tr>\n",
              "    <tr>\n",
              "      <th>271</th>\n",
              "      <td>1.00</td>\n",
              "      <td>41400.00</td>\n",
              "      <td>nan</td>\n",
              "      <td>41400.00</td>\n",
              "      <td>41400.00</td>\n",
              "      <td>41400.00</td>\n",
              "      <td>41400.00</td>\n",
              "      <td>41400.00</td>\n",
              "    </tr>\n",
              "    <tr>\n",
              "      <th>280</th>\n",
              "      <td>20.00</td>\n",
              "      <td>172770.00</td>\n",
              "      <td>90446.65</td>\n",
              "      <td>82000.00</td>\n",
              "      <td>127275.00</td>\n",
              "      <td>157800.00</td>\n",
              "      <td>180600.00</td>\n",
              "      <td>450100.00</td>\n",
              "    </tr>\n",
              "    <tr>\n",
              "      <th>...</th>\n",
              "      <td>...</td>\n",
              "      <td>...</td>\n",
              "      <td>...</td>\n",
              "      <td>...</td>\n",
              "      <td>...</td>\n",
              "      <td>...</td>\n",
              "      <td>...</td>\n",
              "      <td>...</td>\n",
              "    </tr>\n",
              "    <tr>\n",
              "      <th>882</th>\n",
              "      <td>1.00</td>\n",
              "      <td>664.00</td>\n",
              "      <td>nan</td>\n",
              "      <td>664.00</td>\n",
              "      <td>664.00</td>\n",
              "      <td>664.00</td>\n",
              "      <td>664.00</td>\n",
              "      <td>664.00</td>\n",
              "    </tr>\n",
              "    <tr>\n",
              "      <th>884</th>\n",
              "      <td>1.00</td>\n",
              "      <td>2296564.00</td>\n",
              "      <td>nan</td>\n",
              "      <td>2296564.00</td>\n",
              "      <td>2296564.00</td>\n",
              "      <td>2296564.00</td>\n",
              "      <td>2296564.00</td>\n",
              "      <td>2296564.00</td>\n",
              "    </tr>\n",
              "    <tr>\n",
              "      <th>885</th>\n",
              "      <td>1.00</td>\n",
              "      <td>576609.00</td>\n",
              "      <td>nan</td>\n",
              "      <td>576609.00</td>\n",
              "      <td>576609.00</td>\n",
              "      <td>576609.00</td>\n",
              "      <td>576609.00</td>\n",
              "      <td>576609.00</td>\n",
              "    </tr>\n",
              "    <tr>\n",
              "      <th>961</th>\n",
              "      <td>1.00</td>\n",
              "      <td>2500.00</td>\n",
              "      <td>nan</td>\n",
              "      <td>2500.00</td>\n",
              "      <td>2500.00</td>\n",
              "      <td>2500.00</td>\n",
              "      <td>2500.00</td>\n",
              "      <td>2500.00</td>\n",
              "    </tr>\n",
              "    <tr>\n",
              "      <th>963</th>\n",
              "      <td>21.00</td>\n",
              "      <td>384428.57</td>\n",
              "      <td>881998.35</td>\n",
              "      <td>300.00</td>\n",
              "      <td>2400.00</td>\n",
              "      <td>41600.00</td>\n",
              "      <td>191600.00</td>\n",
              "      <td>3812100.00</td>\n",
              "    </tr>\n",
              "  </tbody>\n",
              "</table>\n",
              "<p>97 rows × 8 columns</p>\n",
              "</div>"
            ],
            "text/plain": [
              "     2019 Full                                                        \\\n",
              "         count       mean       std        min        25%        50%   \n",
              "Code                                                                   \n",
              "210    3068.00  127277.03  63025.62    3000.00   90075.00  118550.00   \n",
              "220    1240.00  110937.50  55275.38    8000.00   78400.00   98550.00   \n",
              "230     448.00  130326.34  68770.92   11300.00   91750.00  118500.00   \n",
              "271       1.00   41400.00       nan   41400.00   41400.00   41400.00   \n",
              "280      20.00  172770.00  90446.65   82000.00  127275.00  157800.00   \n",
              "...        ...        ...       ...        ...        ...        ...   \n",
              "882       1.00     664.00       nan     664.00     664.00     664.00   \n",
              "884       1.00 2296564.00       nan 2296564.00 2296564.00 2296564.00   \n",
              "885       1.00  576609.00       nan  576609.00  576609.00  576609.00   \n",
              "961       1.00    2500.00       nan    2500.00    2500.00    2500.00   \n",
              "963      21.00  384428.57 881998.35     300.00    2400.00   41600.00   \n",
              "\n",
              "                            \n",
              "            75%        max  \n",
              "Code                        \n",
              "210   154725.00  549800.00  \n",
              "220   132525.00  626000.00  \n",
              "230   157075.00  489900.00  \n",
              "271    41400.00   41400.00  \n",
              "280   180600.00  450100.00  \n",
              "...         ...        ...  \n",
              "882      664.00     664.00  \n",
              "884  2296564.00 2296564.00  \n",
              "885   576609.00  576609.00  \n",
              "961     2500.00    2500.00  \n",
              "963   191600.00 3812100.00  \n",
              "\n",
              "[97 rows x 8 columns]"
            ]
          },
          "metadata": {
            "tags": []
          },
          "execution_count": 36
        }
      ]
    },
    {
      "cell_type": "markdown",
      "metadata": {
        "id": "dvnXKyXWHlRd",
        "colab_type": "text"
      },
      "source": [
        "# Difference between sale price and assessed value by year\n",
        "\n",
        "\n",
        "```\n",
        "210 = Single-family\n",
        "220 = Two-family\n",
        "230 = Three-family\n",
        "411 = Apartments\n",
        "```\n",
        "\n"
      ]
    },
    {
      "cell_type": "code",
      "metadata": {
        "id": "lNFAj9TjF0G_",
        "colab_type": "code",
        "outputId": "44a049b9-b85a-4324-e829-aabc948aef23",
        "colab": {
          "base_uri": "https://localhost:8080/",
          "height": 266
        }
      },
      "source": [
        "sold = df[df['Sale Price'] > 0].reset_index()\n",
        "sold['AV Diff'] = 100 * ((sold['Sale Price'] - sold['Sale AV']) / sold['Sale AV'])\n",
        "sold['SaleDateTime'] = pd.to_datetime(sold['Sale Date'], format=\"%m/%d/%Y\", errors='coerce')\n",
        "sold['SaleYear'] = sold['SaleDateTime'].dt.year.astype('Int64')\n",
        "sold = sold[sold['SaleDateTime'] > '2014-01-01']\n",
        "s = sold[['SaleYear', 'Sale Price', 'AV Diff']].groupby(['SaleYear']).agg(['count', 'mean']).reset_index()\n",
        "s"
      ],
      "execution_count": 112,
      "outputs": [
        {
          "output_type": "execute_result",
          "data": {
            "text/html": [
              "<div>\n",
              "<style scoped>\n",
              "    .dataframe tbody tr th:only-of-type {\n",
              "        vertical-align: middle;\n",
              "    }\n",
              "\n",
              "    .dataframe tbody tr th {\n",
              "        vertical-align: top;\n",
              "    }\n",
              "\n",
              "    .dataframe thead tr th {\n",
              "        text-align: left;\n",
              "    }\n",
              "</style>\n",
              "<table border=\"1\" class=\"dataframe\">\n",
              "  <thead>\n",
              "    <tr>\n",
              "      <th></th>\n",
              "      <th>SaleYear</th>\n",
              "      <th colspan=\"2\" halign=\"left\">Sale Price</th>\n",
              "      <th colspan=\"2\" halign=\"left\">AV Diff</th>\n",
              "    </tr>\n",
              "    <tr>\n",
              "      <th></th>\n",
              "      <th></th>\n",
              "      <th>count</th>\n",
              "      <th>mean</th>\n",
              "      <th>count</th>\n",
              "      <th>mean</th>\n",
              "    </tr>\n",
              "  </thead>\n",
              "  <tbody>\n",
              "    <tr>\n",
              "      <th>0</th>\n",
              "      <td>2014</td>\n",
              "      <td>80</td>\n",
              "      <td>145485.80</td>\n",
              "      <td>80</td>\n",
              "      <td>11.03</td>\n",
              "    </tr>\n",
              "    <tr>\n",
              "      <th>1</th>\n",
              "      <td>2015</td>\n",
              "      <td>93</td>\n",
              "      <td>118773.82</td>\n",
              "      <td>93</td>\n",
              "      <td>10.52</td>\n",
              "    </tr>\n",
              "    <tr>\n",
              "      <th>2</th>\n",
              "      <td>2016</td>\n",
              "      <td>100</td>\n",
              "      <td>135170.60</td>\n",
              "      <td>100</td>\n",
              "      <td>13.45</td>\n",
              "    </tr>\n",
              "    <tr>\n",
              "      <th>3</th>\n",
              "      <td>2017</td>\n",
              "      <td>173</td>\n",
              "      <td>167500.69</td>\n",
              "      <td>173</td>\n",
              "      <td>38.31</td>\n",
              "    </tr>\n",
              "    <tr>\n",
              "      <th>4</th>\n",
              "      <td>2018</td>\n",
              "      <td>189</td>\n",
              "      <td>169923.58</td>\n",
              "      <td>189</td>\n",
              "      <td>52.43</td>\n",
              "    </tr>\n",
              "    <tr>\n",
              "      <th>5</th>\n",
              "      <td>2019</td>\n",
              "      <td>23</td>\n",
              "      <td>147013.61</td>\n",
              "      <td>23</td>\n",
              "      <td>47.47</td>\n",
              "    </tr>\n",
              "  </tbody>\n",
              "</table>\n",
              "</div>"
            ],
            "text/plain": [
              "  SaleYear Sale Price           AV Diff      \n",
              "                count      mean   count  mean\n",
              "0     2014         80 145485.80      80 11.03\n",
              "1     2015         93 118773.82      93 10.52\n",
              "2     2016        100 135170.60     100 13.45\n",
              "3     2017        173 167500.69     173 38.31\n",
              "4     2018        189 169923.58     189 52.43\n",
              "5     2019         23 147013.61      23 47.47"
            ]
          },
          "metadata": {
            "tags": []
          },
          "execution_count": 112
        }
      ]
    },
    {
      "cell_type": "code",
      "metadata": {
        "id": "UX2twFIOBn5r",
        "colab_type": "code",
        "colab": {
          "base_uri": "https://localhost:8080/",
          "height": 281
        },
        "outputId": "ca0ea7d5-8a11-4f97-dc4a-d6246d78f424"
      },
      "source": [
        "\n",
        "plt.bar(s['SaleYear'], s['AV Diff']['mean'])\n",
        "plt.ylabel('Percent')\n",
        "plt.title('Mean difference between sale price and assessed value at time of sale by year')\n",
        "plt.show()"
      ],
      "execution_count": 38,
      "outputs": [
        {
          "output_type": "display_data",
          "data": {
            "image/png": "[encoded data removed]",
            "text/plain": [
              "<Figure size 432x288 with 1 Axes>"
            ]
          },
          "metadata": {
            "tags": []
          }
        }
      ]
    },
    {
      "cell_type": "markdown",
      "metadata": {
        "id": "mG7gvtW9H4b7",
        "colab_type": "text"
      },
      "source": [
        "# Largest differences between sale price and AV at time of sale"
      ]
    },
    {
      "cell_type": "code",
      "metadata": {
        "id": "yZEkJp7JHAuJ",
        "colab_type": "code",
        "outputId": "35fbf35d-9c20-451e-d1bb-41a5f6ddb81b",
        "colab": {
          "base_uri": "https://localhost:8080/",
          "height": 359
        }
      },
      "source": [
        "sold[['ID', 'Code', 'Street', 'SaleYear', 'Sale Price', 'Sale AV', 'AV Diff']].sort_values(by=['AV Diff'], ascending=False).head(10).reset_index()"
      ],
      "execution_count": 48,
      "outputs": [
        {
          "output_type": "execute_result",
          "data": {
            "text/html": [
              "<div>\n",
              "<style scoped>\n",
              "    .dataframe tbody tr th:only-of-type {\n",
              "        vertical-align: middle;\n",
              "    }\n",
              "\n",
              "    .dataframe tbody tr th {\n",
              "        vertical-align: top;\n",
              "    }\n",
              "\n",
              "    .dataframe thead th {\n",
              "        text-align: right;\n",
              "    }\n",
              "</style>\n",
              "<table border=\"1\" class=\"dataframe\">\n",
              "  <thead>\n",
              "    <tr style=\"text-align: right;\">\n",
              "      <th></th>\n",
              "      <th>index</th>\n",
              "      <th>ID</th>\n",
              "      <th>Code</th>\n",
              "      <th>Street</th>\n",
              "      <th>SaleYear</th>\n",
              "      <th>Sale Price</th>\n",
              "      <th>Sale AV</th>\n",
              "      <th>AV Diff</th>\n",
              "    </tr>\n",
              "  </thead>\n",
              "  <tbody>\n",
              "    <tr>\n",
              "      <th>0</th>\n",
              "      <td>79</td>\n",
              "      <td>14-3-58</td>\n",
              "      <td>210</td>\n",
              "      <td>112 Orchard St</td>\n",
              "      <td>2015</td>\n",
              "      <td>252500.00</td>\n",
              "      <td>27500.00</td>\n",
              "      <td>818.18</td>\n",
              "    </tr>\n",
              "    <tr>\n",
              "      <th>1</th>\n",
              "      <td>360</td>\n",
              "      <td>26-3-67</td>\n",
              "      <td>210</td>\n",
              "      <td>133 Orchard St</td>\n",
              "      <td>2014</td>\n",
              "      <td>252500.00</td>\n",
              "      <td>27500.00</td>\n",
              "      <td>818.18</td>\n",
              "    </tr>\n",
              "    <tr>\n",
              "      <th>2</th>\n",
              "      <td>74</td>\n",
              "      <td>14-2-16.13</td>\n",
              "      <td>210</td>\n",
              "      <td>156 Orchard St</td>\n",
              "      <td>2018</td>\n",
              "      <td>201000.00</td>\n",
              "      <td>24600.00</td>\n",
              "      <td>717.07</td>\n",
              "    </tr>\n",
              "    <tr>\n",
              "      <th>3</th>\n",
              "      <td>492</td>\n",
              "      <td>38-4-11</td>\n",
              "      <td>220</td>\n",
              "      <td>53 Hasbrouck St</td>\n",
              "      <td>2018</td>\n",
              "      <td>205000.00</td>\n",
              "      <td>29800.00</td>\n",
              "      <td>587.92</td>\n",
              "    </tr>\n",
              "    <tr>\n",
              "      <th>4</th>\n",
              "      <td>597</td>\n",
              "      <td>45-6-19</td>\n",
              "      <td>210</td>\n",
              "      <td>44 Carson Ave</td>\n",
              "      <td>2017</td>\n",
              "      <td>261000.00</td>\n",
              "      <td>43700.00</td>\n",
              "      <td>497.25</td>\n",
              "    </tr>\n",
              "    <tr>\n",
              "      <th>5</th>\n",
              "      <td>479</td>\n",
              "      <td>38-1-15</td>\n",
              "      <td>220</td>\n",
              "      <td>190 W Parmenter St</td>\n",
              "      <td>2014</td>\n",
              "      <td>130000.00</td>\n",
              "      <td>22700.00</td>\n",
              "      <td>472.69</td>\n",
              "    </tr>\n",
              "    <tr>\n",
              "      <th>6</th>\n",
              "      <td>461</td>\n",
              "      <td>36-4-21</td>\n",
              "      <td>210</td>\n",
              "      <td>144 Washington St</td>\n",
              "      <td>2018</td>\n",
              "      <td>180000.00</td>\n",
              "      <td>40800.00</td>\n",
              "      <td>341.18</td>\n",
              "    </tr>\n",
              "    <tr>\n",
              "      <th>7</th>\n",
              "      <td>404</td>\n",
              "      <td>29-6-9</td>\n",
              "      <td>230</td>\n",
              "      <td>14 City Ter</td>\n",
              "      <td>2017</td>\n",
              "      <td>150000.00</td>\n",
              "      <td>37400.00</td>\n",
              "      <td>301.07</td>\n",
              "    </tr>\n",
              "    <tr>\n",
              "      <th>8</th>\n",
              "      <td>598</td>\n",
              "      <td>45-6-21</td>\n",
              "      <td>210</td>\n",
              "      <td>48 Carson Ave</td>\n",
              "      <td>2017</td>\n",
              "      <td>250000.00</td>\n",
              "      <td>65400.00</td>\n",
              "      <td>282.26</td>\n",
              "    </tr>\n",
              "    <tr>\n",
              "      <th>9</th>\n",
              "      <td>312</td>\n",
              "      <td>24-12-1</td>\n",
              "      <td>411</td>\n",
              "      <td>210 Liberty St</td>\n",
              "      <td>2017</td>\n",
              "      <td>235000.00</td>\n",
              "      <td>64600.00</td>\n",
              "      <td>263.78</td>\n",
              "    </tr>\n",
              "  </tbody>\n",
              "</table>\n",
              "</div>"
            ],
            "text/plain": [
              "   index          ID  Code              Street  SaleYear  Sale Price  Sale AV  \\\n",
              "0     79     14-3-58   210      112 Orchard St      2015   252500.00 27500.00   \n",
              "1    360     26-3-67   210      133 Orchard St      2014   252500.00 27500.00   \n",
              "2     74  14-2-16.13   210      156 Orchard St      2018   201000.00 24600.00   \n",
              "3    492     38-4-11   220     53 Hasbrouck St      2018   205000.00 29800.00   \n",
              "4    597     45-6-19   210       44 Carson Ave      2017   261000.00 43700.00   \n",
              "5    479     38-1-15   220  190 W Parmenter St      2014   130000.00 22700.00   \n",
              "6    461     36-4-21   210   144 Washington St      2018   180000.00 40800.00   \n",
              "7    404      29-6-9   230         14 City Ter      2017   150000.00 37400.00   \n",
              "8    598     45-6-21   210       48 Carson Ave      2017   250000.00 65400.00   \n",
              "9    312     24-12-1   411      210 Liberty St      2017   235000.00 64600.00   \n",
              "\n",
              "   AV Diff  \n",
              "0   818.18  \n",
              "1   818.18  \n",
              "2   717.07  \n",
              "3   587.92  \n",
              "4   497.25  \n",
              "5   472.69  \n",
              "6   341.18  \n",
              "7   301.07  \n",
              "8   282.26  \n",
              "9   263.78  "
            ]
          },
          "metadata": {
            "tags": []
          },
          "execution_count": 48
        }
      ]
    },
    {
      "cell_type": "markdown",
      "metadata": {
        "id": "lYKBfh-KGPIM",
        "colab_type": "text"
      },
      "source": [
        "# Single-family Sale Price vs Assessed Value "
      ]
    },
    {
      "cell_type": "code",
      "metadata": {
        "id": "29Yp9omsGFh_",
        "colab_type": "code",
        "outputId": "9aa8bf42-e992-4ef7-caff-4826e43aaaa9",
        "colab": {
          "base_uri": "https://localhost:8080/",
          "height": 266
        }
      },
      "source": [
        "single_family = sold[sold['Code'] == 210]\n",
        "sold1 = single_family[['SaleYear', 'Sale Price', 'AV Diff']].groupby(['SaleYear']).agg(['count', 'mean']).reset_index()\n",
        "sold1"
      ],
      "execution_count": 57,
      "outputs": [
        {
          "output_type": "execute_result",
          "data": {
            "text/html": [
              "<div>\n",
              "<style scoped>\n",
              "    .dataframe tbody tr th:only-of-type {\n",
              "        vertical-align: middle;\n",
              "    }\n",
              "\n",
              "    .dataframe tbody tr th {\n",
              "        vertical-align: top;\n",
              "    }\n",
              "\n",
              "    .dataframe thead tr th {\n",
              "        text-align: left;\n",
              "    }\n",
              "</style>\n",
              "<table border=\"1\" class=\"dataframe\">\n",
              "  <thead>\n",
              "    <tr>\n",
              "      <th></th>\n",
              "      <th>SaleYear</th>\n",
              "      <th colspan=\"2\" halign=\"left\">Sale Price</th>\n",
              "      <th colspan=\"2\" halign=\"left\">AV Diff</th>\n",
              "    </tr>\n",
              "    <tr>\n",
              "      <th></th>\n",
              "      <th></th>\n",
              "      <th>count</th>\n",
              "      <th>mean</th>\n",
              "      <th>count</th>\n",
              "      <th>mean</th>\n",
              "    </tr>\n",
              "  </thead>\n",
              "  <tbody>\n",
              "    <tr>\n",
              "      <th>0</th>\n",
              "      <td>2014</td>\n",
              "      <td>54</td>\n",
              "      <td>158469.70</td>\n",
              "      <td>54</td>\n",
              "      <td>14.50</td>\n",
              "    </tr>\n",
              "    <tr>\n",
              "      <th>1</th>\n",
              "      <td>2015</td>\n",
              "      <td>60</td>\n",
              "      <td>124382.13</td>\n",
              "      <td>60</td>\n",
              "      <td>7.14</td>\n",
              "    </tr>\n",
              "    <tr>\n",
              "      <th>2</th>\n",
              "      <td>2016</td>\n",
              "      <td>54</td>\n",
              "      <td>137456.67</td>\n",
              "      <td>54</td>\n",
              "      <td>8.65</td>\n",
              "    </tr>\n",
              "    <tr>\n",
              "      <th>3</th>\n",
              "      <td>2017</td>\n",
              "      <td>87</td>\n",
              "      <td>164040.94</td>\n",
              "      <td>87</td>\n",
              "      <td>25.40</td>\n",
              "    </tr>\n",
              "    <tr>\n",
              "      <th>4</th>\n",
              "      <td>2018</td>\n",
              "      <td>91</td>\n",
              "      <td>158817.11</td>\n",
              "      <td>91</td>\n",
              "      <td>43.86</td>\n",
              "    </tr>\n",
              "    <tr>\n",
              "      <th>5</th>\n",
              "      <td>2019</td>\n",
              "      <td>10</td>\n",
              "      <td>128831.30</td>\n",
              "      <td>10</td>\n",
              "      <td>12.43</td>\n",
              "    </tr>\n",
              "  </tbody>\n",
              "</table>\n",
              "</div>"
            ],
            "text/plain": [
              "  SaleYear Sale Price           AV Diff      \n",
              "                count      mean   count  mean\n",
              "0     2014         54 158469.70      54 14.50\n",
              "1     2015         60 124382.13      60  7.14\n",
              "2     2016         54 137456.67      54  8.65\n",
              "3     2017         87 164040.94      87 25.40\n",
              "4     2018         91 158817.11      91 43.86\n",
              "5     2019         10 128831.30      10 12.43"
            ]
          },
          "metadata": {
            "tags": []
          },
          "execution_count": 57
        }
      ]
    },
    {
      "cell_type": "markdown",
      "metadata": {
        "id": "mRoQ-CxpGUW5",
        "colab_type": "text"
      },
      "source": [
        "# Two-family Sale Price vs Assessed Value "
      ]
    },
    {
      "cell_type": "code",
      "metadata": {
        "id": "_Xh65Ih2DoZY",
        "colab_type": "code",
        "outputId": "707d3548-b0c9-41ae-9c18-16b97047c7b2",
        "colab": {
          "base_uri": "https://localhost:8080/",
          "height": 266
        }
      },
      "source": [
        "two_family = sold[sold['Code'] == 220]\n",
        "sold2 = two_family[['SaleYear', 'Sale Price', 'AV Diff']].groupby(['SaleYear']).agg(['count', 'mean']).reset_index()\n",
        "sold2"
      ],
      "execution_count": 58,
      "outputs": [
        {
          "output_type": "execute_result",
          "data": {
            "text/html": [
              "<div>\n",
              "<style scoped>\n",
              "    .dataframe tbody tr th:only-of-type {\n",
              "        vertical-align: middle;\n",
              "    }\n",
              "\n",
              "    .dataframe tbody tr th {\n",
              "        vertical-align: top;\n",
              "    }\n",
              "\n",
              "    .dataframe thead tr th {\n",
              "        text-align: left;\n",
              "    }\n",
              "</style>\n",
              "<table border=\"1\" class=\"dataframe\">\n",
              "  <thead>\n",
              "    <tr>\n",
              "      <th></th>\n",
              "      <th>SaleYear</th>\n",
              "      <th colspan=\"2\" halign=\"left\">Sale Price</th>\n",
              "      <th colspan=\"2\" halign=\"left\">AV Diff</th>\n",
              "    </tr>\n",
              "    <tr>\n",
              "      <th></th>\n",
              "      <th></th>\n",
              "      <th>count</th>\n",
              "      <th>mean</th>\n",
              "      <th>count</th>\n",
              "      <th>mean</th>\n",
              "    </tr>\n",
              "  </thead>\n",
              "  <tbody>\n",
              "    <tr>\n",
              "      <th>0</th>\n",
              "      <td>2014</td>\n",
              "      <td>17</td>\n",
              "      <td>101911.76</td>\n",
              "      <td>17</td>\n",
              "      <td>13.65</td>\n",
              "    </tr>\n",
              "    <tr>\n",
              "      <th>1</th>\n",
              "      <td>2015</td>\n",
              "      <td>18</td>\n",
              "      <td>98222.22</td>\n",
              "      <td>18</td>\n",
              "      <td>22.47</td>\n",
              "    </tr>\n",
              "    <tr>\n",
              "      <th>2</th>\n",
              "      <td>2016</td>\n",
              "      <td>15</td>\n",
              "      <td>101333.33</td>\n",
              "      <td>15</td>\n",
              "      <td>10.17</td>\n",
              "    </tr>\n",
              "    <tr>\n",
              "      <th>3</th>\n",
              "      <td>2017</td>\n",
              "      <td>41</td>\n",
              "      <td>111863.51</td>\n",
              "      <td>41</td>\n",
              "      <td>36.75</td>\n",
              "    </tr>\n",
              "    <tr>\n",
              "      <th>4</th>\n",
              "      <td>2018</td>\n",
              "      <td>53</td>\n",
              "      <td>140315.09</td>\n",
              "      <td>53</td>\n",
              "      <td>68.29</td>\n",
              "    </tr>\n",
              "    <tr>\n",
              "      <th>5</th>\n",
              "      <td>2019</td>\n",
              "      <td>10</td>\n",
              "      <td>148500.00</td>\n",
              "      <td>10</td>\n",
              "      <td>70.75</td>\n",
              "    </tr>\n",
              "  </tbody>\n",
              "</table>\n",
              "</div>"
            ],
            "text/plain": [
              "  SaleYear Sale Price           AV Diff      \n",
              "                count      mean   count  mean\n",
              "0     2014         17 101911.76      17 13.65\n",
              "1     2015         18  98222.22      18 22.47\n",
              "2     2016         15 101333.33      15 10.17\n",
              "3     2017         41 111863.51      41 36.75\n",
              "4     2018         53 140315.09      53 68.29\n",
              "5     2019         10 148500.00      10 70.75"
            ]
          },
          "metadata": {
            "tags": []
          },
          "execution_count": 58
        }
      ]
    },
    {
      "cell_type": "markdown",
      "metadata": {
        "id": "40tlEOQaGZmR",
        "colab_type": "text"
      },
      "source": [
        "# Three-family Sale Price vs Assessed Value "
      ]
    },
    {
      "cell_type": "code",
      "metadata": {
        "id": "gd16dVDBFFut",
        "colab_type": "code",
        "outputId": "bc723133-5e63-4cee-d21c-d810a410719e",
        "colab": {
          "base_uri": "https://localhost:8080/",
          "height": 266
        }
      },
      "source": [
        "three_family = sold[sold['Code'] == 230]\n",
        "sold3 = three_family[['SaleYear', 'Sale Price', 'AV Diff']].groupby(['SaleYear']).agg(['count', 'mean']).reset_index()\n",
        "sold3"
      ],
      "execution_count": 59,
      "outputs": [
        {
          "output_type": "execute_result",
          "data": {
            "text/html": [
              "<div>\n",
              "<style scoped>\n",
              "    .dataframe tbody tr th:only-of-type {\n",
              "        vertical-align: middle;\n",
              "    }\n",
              "\n",
              "    .dataframe tbody tr th {\n",
              "        vertical-align: top;\n",
              "    }\n",
              "\n",
              "    .dataframe thead tr th {\n",
              "        text-align: left;\n",
              "    }\n",
              "</style>\n",
              "<table border=\"1\" class=\"dataframe\">\n",
              "  <thead>\n",
              "    <tr>\n",
              "      <th></th>\n",
              "      <th>SaleYear</th>\n",
              "      <th colspan=\"2\" halign=\"left\">Sale Price</th>\n",
              "      <th colspan=\"2\" halign=\"left\">AV Diff</th>\n",
              "    </tr>\n",
              "    <tr>\n",
              "      <th></th>\n",
              "      <th></th>\n",
              "      <th>count</th>\n",
              "      <th>mean</th>\n",
              "      <th>count</th>\n",
              "      <th>mean</th>\n",
              "    </tr>\n",
              "  </thead>\n",
              "  <tbody>\n",
              "    <tr>\n",
              "      <th>0</th>\n",
              "      <td>2014</td>\n",
              "      <td>4</td>\n",
              "      <td>136250.00</td>\n",
              "      <td>4</td>\n",
              "      <td>-11.58</td>\n",
              "    </tr>\n",
              "    <tr>\n",
              "      <th>1</th>\n",
              "      <td>2015</td>\n",
              "      <td>7</td>\n",
              "      <td>54576.86</td>\n",
              "      <td>7</td>\n",
              "      <td>5.28</td>\n",
              "    </tr>\n",
              "    <tr>\n",
              "      <th>2</th>\n",
              "      <td>2016</td>\n",
              "      <td>18</td>\n",
              "      <td>118411.11</td>\n",
              "      <td>18</td>\n",
              "      <td>30.84</td>\n",
              "    </tr>\n",
              "    <tr>\n",
              "      <th>3</th>\n",
              "      <td>2017</td>\n",
              "      <td>21</td>\n",
              "      <td>164531.14</td>\n",
              "      <td>21</td>\n",
              "      <td>70.91</td>\n",
              "    </tr>\n",
              "    <tr>\n",
              "      <th>4</th>\n",
              "      <td>2018</td>\n",
              "      <td>33</td>\n",
              "      <td>162015.15</td>\n",
              "      <td>33</td>\n",
              "      <td>55.24</td>\n",
              "    </tr>\n",
              "    <tr>\n",
              "      <th>5</th>\n",
              "      <td>2019</td>\n",
              "      <td>2</td>\n",
              "      <td>156500.00</td>\n",
              "      <td>2</td>\n",
              "      <td>74.38</td>\n",
              "    </tr>\n",
              "  </tbody>\n",
              "</table>\n",
              "</div>"
            ],
            "text/plain": [
              "  SaleYear Sale Price           AV Diff       \n",
              "                count      mean   count   mean\n",
              "0     2014          4 136250.00       4 -11.58\n",
              "1     2015          7  54576.86       7   5.28\n",
              "2     2016         18 118411.11      18  30.84\n",
              "3     2017         21 164531.14      21  70.91\n",
              "4     2018         33 162015.15      33  55.24\n",
              "5     2019          2 156500.00       2  74.38"
            ]
          },
          "metadata": {
            "tags": []
          },
          "execution_count": 59
        }
      ]
    },
    {
      "cell_type": "markdown",
      "metadata": {
        "id": "6evUvtqcGefW",
        "colab_type": "text"
      },
      "source": [
        "# Apartments Sale Price vs Assessed Value "
      ]
    },
    {
      "cell_type": "code",
      "metadata": {
        "id": "aP1MKT7wFRyN",
        "colab_type": "code",
        "outputId": "5ec51c89-c597-4ce0-dfbc-bf9facb10a04",
        "colab": {
          "base_uri": "https://localhost:8080/",
          "height": 266
        }
      },
      "source": [
        "apartments = sold[sold['Code'] == 411]\n",
        "sold4 = apartments[['SaleYear', 'Sale Price', 'AV Diff']].groupby(['SaleYear']).agg(['count', 'mean']).reset_index()\n",
        "sold4"
      ],
      "execution_count": 66,
      "outputs": [
        {
          "output_type": "execute_result",
          "data": {
            "text/html": [
              "<div>\n",
              "<style scoped>\n",
              "    .dataframe tbody tr th:only-of-type {\n",
              "        vertical-align: middle;\n",
              "    }\n",
              "\n",
              "    .dataframe tbody tr th {\n",
              "        vertical-align: top;\n",
              "    }\n",
              "\n",
              "    .dataframe thead tr th {\n",
              "        text-align: left;\n",
              "    }\n",
              "</style>\n",
              "<table border=\"1\" class=\"dataframe\">\n",
              "  <thead>\n",
              "    <tr>\n",
              "      <th></th>\n",
              "      <th>SaleYear</th>\n",
              "      <th colspan=\"2\" halign=\"left\">Sale Price</th>\n",
              "      <th colspan=\"2\" halign=\"left\">AV Diff</th>\n",
              "    </tr>\n",
              "    <tr>\n",
              "      <th></th>\n",
              "      <th></th>\n",
              "      <th>count</th>\n",
              "      <th>mean</th>\n",
              "      <th>count</th>\n",
              "      <th>mean</th>\n",
              "    </tr>\n",
              "  </thead>\n",
              "  <tbody>\n",
              "    <tr>\n",
              "      <th>0</th>\n",
              "      <td>2014</td>\n",
              "      <td>4</td>\n",
              "      <td>190000.00</td>\n",
              "      <td>4</td>\n",
              "      <td>-8.64</td>\n",
              "    </tr>\n",
              "    <tr>\n",
              "      <th>1</th>\n",
              "      <td>2015</td>\n",
              "      <td>6</td>\n",
              "      <td>226333.17</td>\n",
              "      <td>6</td>\n",
              "      <td>43.50</td>\n",
              "    </tr>\n",
              "    <tr>\n",
              "      <th>2</th>\n",
              "      <td>2016</td>\n",
              "      <td>12</td>\n",
              "      <td>202583.33</td>\n",
              "      <td>12</td>\n",
              "      <td>14.43</td>\n",
              "    </tr>\n",
              "    <tr>\n",
              "      <th>3</th>\n",
              "      <td>2017</td>\n",
              "      <td>23</td>\n",
              "      <td>271500.00</td>\n",
              "      <td>23</td>\n",
              "      <td>57.87</td>\n",
              "    </tr>\n",
              "    <tr>\n",
              "      <th>4</th>\n",
              "      <td>2018</td>\n",
              "      <td>12</td>\n",
              "      <td>406666.67</td>\n",
              "      <td>12</td>\n",
              "      <td>39.62</td>\n",
              "    </tr>\n",
              "    <tr>\n",
              "      <th>5</th>\n",
              "      <td>2019</td>\n",
              "      <td>1</td>\n",
              "      <td>295000.00</td>\n",
              "      <td>1</td>\n",
              "      <td>111.32</td>\n",
              "    </tr>\n",
              "  </tbody>\n",
              "</table>\n",
              "</div>"
            ],
            "text/plain": [
              "  SaleYear Sale Price           AV Diff       \n",
              "                count      mean   count   mean\n",
              "0     2014          4 190000.00       4  -8.64\n",
              "1     2015          6 226333.17       6  43.50\n",
              "2     2016         12 202583.33      12  14.43\n",
              "3     2017         23 271500.00      23  57.87\n",
              "4     2018         12 406666.67      12  39.62\n",
              "5     2019          1 295000.00       1 111.32"
            ]
          },
          "metadata": {
            "tags": []
          },
          "execution_count": 66
        }
      ]
    },
    {
      "cell_type": "code",
      "metadata": {
        "id": "3OTN7KTaFE_l",
        "colab_type": "code",
        "colab": {
          "base_uri": "https://localhost:8080/",
          "height": 626
        },
        "outputId": "fa7f001b-402c-4d5b-f671-adea1b3bbfc5"
      },
      "source": [
        "figure(num=None, figsize=(12, 8), dpi=92, facecolor='w', edgecolor='k')\n",
        "plt.style.use('seaborn-whitegrid')\n",
        "\n",
        "plt.plot(sold1['SaleYear'], sold1['AV Diff']['mean'], label='Single family')\n",
        "plt.plot(sold2['SaleYear'], sold2['AV Diff']['mean'], label='Two family')\n",
        "plt.plot(sold3['SaleYear'], sold3['AV Diff']['mean'], label='Three family')\n",
        "plt.ylabel('Percent')\n",
        "plt.title('Mean difference between sale price and assessed value at time of sale by year')\n",
        "plt.legend(loc=2)\n",
        "plt.show()"
      ],
      "execution_count": 71,
      "outputs": [
        {
          "output_type": "display_data",
          "data": {
            "image/png": "[encoded data removed]",
            "text/plain": [
              "<Figure size 1104x736 with 1 Axes>"
            ]
          },
          "metadata": {
            "tags": []
          }
        }
      ]
    },
    {
      "cell_type": "markdown",
      "metadata": {
        "id": "dYJ55-F7j39I",
        "colab_type": "text"
      },
      "source": [
        "# Corridors with biggest increase in assessed value 2016-2019"
      ]
    },
    {
      "cell_type": "code",
      "metadata": {
        "id": "d4l-IYD2NX5D",
        "colab_type": "code",
        "outputId": "8440768f-3a87-4842-9152-6cdc3e27e83a",
        "colab": {
          "base_uri": "https://localhost:8080/",
          "height": 359
        }
      },
      "source": [
        "def block_strip(x):\n",
        "  last = x.rfind('-')\n",
        "  spl = x.split('-', 2)\n",
        "  return \"-\".join(spl[:2])\n",
        "\n",
        "df['BlockID'] = df['ID'].apply(block_strip)\n",
        "df['Total Dollar Increase'] = df['2019 Full'] - df['2016 Full']\n",
        "df['Total Increase'] = 100 * (df['Total Dollar Increase'] / df['2016 Full'])\n",
        "df_agg = df[['BlockID', 'Total Increase']].groupby('BlockID', as_index=False)['Total Increase'].agg({'avg':'mean', 'count':'count'})\n",
        "df_agg[df_agg['count'] > 20].sort_values(by=['avg'], ascending=False).head(10)"
      ],
      "execution_count": 86,
      "outputs": [
        {
          "output_type": "execute_result",
          "data": {
            "text/html": [
              "<div>\n",
              "<style scoped>\n",
              "    .dataframe tbody tr th:only-of-type {\n",
              "        vertical-align: middle;\n",
              "    }\n",
              "\n",
              "    .dataframe tbody tr th {\n",
              "        vertical-align: top;\n",
              "    }\n",
              "\n",
              "    .dataframe thead th {\n",
              "        text-align: right;\n",
              "    }\n",
              "</style>\n",
              "<table border=\"1\" class=\"dataframe\">\n",
              "  <thead>\n",
              "    <tr style=\"text-align: right;\">\n",
              "      <th></th>\n",
              "      <th>BlockID</th>\n",
              "      <th>avg</th>\n",
              "      <th>count</th>\n",
              "    </tr>\n",
              "  </thead>\n",
              "  <tbody>\n",
              "    <tr>\n",
              "      <th>269</th>\n",
              "      <td>46-1</td>\n",
              "      <td>175.05</td>\n",
              "      <td>31</td>\n",
              "    </tr>\n",
              "    <tr>\n",
              "      <th>194</th>\n",
              "      <td>34-3</td>\n",
              "      <td>141.17</td>\n",
              "      <td>48</td>\n",
              "    </tr>\n",
              "    <tr>\n",
              "      <th>171</th>\n",
              "      <td>30-2</td>\n",
              "      <td>140.35</td>\n",
              "      <td>51</td>\n",
              "    </tr>\n",
              "    <tr>\n",
              "      <th>232</th>\n",
              "      <td>4-7</td>\n",
              "      <td>119.39</td>\n",
              "      <td>23</td>\n",
              "    </tr>\n",
              "    <tr>\n",
              "      <th>273</th>\n",
              "      <td>46-5</td>\n",
              "      <td>113.48</td>\n",
              "      <td>23</td>\n",
              "    </tr>\n",
              "    <tr>\n",
              "      <th>310</th>\n",
              "      <td>7-1</td>\n",
              "      <td>107.45</td>\n",
              "      <td>42</td>\n",
              "    </tr>\n",
              "    <tr>\n",
              "      <th>69</th>\n",
              "      <td>18-9</td>\n",
              "      <td>102.85</td>\n",
              "      <td>24</td>\n",
              "    </tr>\n",
              "    <tr>\n",
              "      <th>28</th>\n",
              "      <td>14-2</td>\n",
              "      <td>95.28</td>\n",
              "      <td>26</td>\n",
              "    </tr>\n",
              "    <tr>\n",
              "      <th>9</th>\n",
              "      <td>11-4</td>\n",
              "      <td>94.32</td>\n",
              "      <td>36</td>\n",
              "    </tr>\n",
              "    <tr>\n",
              "      <th>172</th>\n",
              "      <td>30-3</td>\n",
              "      <td>90.64</td>\n",
              "      <td>42</td>\n",
              "    </tr>\n",
              "  </tbody>\n",
              "</table>\n",
              "</div>"
            ],
            "text/plain": [
              "    BlockID    avg  count\n",
              "269    46-1 175.05     31\n",
              "194    34-3 141.17     48\n",
              "171    30-2 140.35     51\n",
              "232     4-7 119.39     23\n",
              "273    46-5 113.48     23\n",
              "310     7-1 107.45     42\n",
              "69     18-9 102.85     24\n",
              "28     14-2  95.28     26\n",
              "9      11-4  94.32     36\n",
              "172    30-3  90.64     42"
            ]
          },
          "metadata": {
            "tags": []
          },
          "execution_count": 86
        }
      ]
    },
    {
      "cell_type": "markdown",
      "metadata": {
        "id": "03CrkFIIGf4z",
        "colab_type": "text"
      },
      "source": [
        "# Corridors with biggest decrease in assessed value 2016-2019"
      ]
    },
    {
      "cell_type": "code",
      "metadata": {
        "id": "0zq8gbRDGktI",
        "colab_type": "code",
        "colab": {
          "base_uri": "https://localhost:8080/",
          "height": 359
        },
        "outputId": "3a2aaaec-6363-4668-8856-6c599d4072a7"
      },
      "source": [
        "df_agg[df_agg['count'] > 20].sort_values(by=['avg'], ascending=True).head(10)"
      ],
      "execution_count": 87,
      "outputs": [
        {
          "output_type": "execute_result",
          "data": {
            "text/html": [
              "<div>\n",
              "<style scoped>\n",
              "    .dataframe tbody tr th:only-of-type {\n",
              "        vertical-align: middle;\n",
              "    }\n",
              "\n",
              "    .dataframe tbody tr th {\n",
              "        vertical-align: top;\n",
              "    }\n",
              "\n",
              "    .dataframe thead th {\n",
              "        text-align: right;\n",
              "    }\n",
              "</style>\n",
              "<table border=\"1\" class=\"dataframe\">\n",
              "  <thead>\n",
              "    <tr style=\"text-align: right;\">\n",
              "      <th></th>\n",
              "      <th>BlockID</th>\n",
              "      <th>avg</th>\n",
              "      <th>count</th>\n",
              "    </tr>\n",
              "  </thead>\n",
              "  <tbody>\n",
              "    <tr>\n",
              "      <th>296</th>\n",
              "      <td>52-1</td>\n",
              "      <td>-12.41</td>\n",
              "      <td>29</td>\n",
              "    </tr>\n",
              "    <tr>\n",
              "      <th>302</th>\n",
              "      <td>58-1</td>\n",
              "      <td>-9.86</td>\n",
              "      <td>121</td>\n",
              "    </tr>\n",
              "    <tr>\n",
              "      <th>301</th>\n",
              "      <td>57-1</td>\n",
              "      <td>-6.17</td>\n",
              "      <td>46</td>\n",
              "    </tr>\n",
              "    <tr>\n",
              "      <th>144</th>\n",
              "      <td>27-2</td>\n",
              "      <td>-4.41</td>\n",
              "      <td>33</td>\n",
              "    </tr>\n",
              "    <tr>\n",
              "      <th>131</th>\n",
              "      <td>25-5</td>\n",
              "      <td>-3.32</td>\n",
              "      <td>21</td>\n",
              "    </tr>\n",
              "    <tr>\n",
              "      <th>297</th>\n",
              "      <td>53-1</td>\n",
              "      <td>-1.20</td>\n",
              "      <td>68</td>\n",
              "    </tr>\n",
              "    <tr>\n",
              "      <th>49</th>\n",
              "      <td>17-1</td>\n",
              "      <td>-1.06</td>\n",
              "      <td>27</td>\n",
              "    </tr>\n",
              "    <tr>\n",
              "      <th>247</th>\n",
              "      <td>44-1</td>\n",
              "      <td>-0.77</td>\n",
              "      <td>24</td>\n",
              "    </tr>\n",
              "    <tr>\n",
              "      <th>130</th>\n",
              "      <td>25-4</td>\n",
              "      <td>-0.62</td>\n",
              "      <td>39</td>\n",
              "    </tr>\n",
              "    <tr>\n",
              "      <th>306</th>\n",
              "      <td>6-5</td>\n",
              "      <td>-0.31</td>\n",
              "      <td>22</td>\n",
              "    </tr>\n",
              "  </tbody>\n",
              "</table>\n",
              "</div>"
            ],
            "text/plain": [
              "    BlockID    avg  count\n",
              "296    52-1 -12.41     29\n",
              "302    58-1  -9.86    121\n",
              "301    57-1  -6.17     46\n",
              "144    27-2  -4.41     33\n",
              "131    25-5  -3.32     21\n",
              "297    53-1  -1.20     68\n",
              "49     17-1  -1.06     27\n",
              "247    44-1  -0.77     24\n",
              "130    25-4  -0.62     39\n",
              "306     6-5  -0.31     22"
            ]
          },
          "metadata": {
            "tags": []
          },
          "execution_count": 87
        }
      ]
    },
    {
      "cell_type": "markdown",
      "metadata": {
        "id": "qoCNp9TOtpcF",
        "colab_type": "text"
      },
      "source": [
        "# Increase in taxable properties per year"
      ]
    },
    {
      "cell_type": "code",
      "metadata": {
        "id": "GLZoxjSOrnP6",
        "colab_type": "code",
        "outputId": "fd655ca1-c61f-45d8-df0b-3f2d5d99dba7",
        "colab": {
          "base_uri": "https://localhost:8080/",
          "height": 34
        }
      },
      "source": [
        "a = df[df['2016 City'] > 1].count()[0]\n",
        "b = df[df['2017 City'] > 1].count()[0]\n",
        "c = df[df['2018 City'] > 1].count()[0]\n",
        "d = df[df['2019 City'] > 1].count()[0]\n",
        "print(\"2016-17: %d, 2017-18: %d, 2018-19: %d\" % (b-a, c-b, d-c))"
      ],
      "execution_count": 45,
      "outputs": [
        {
          "output_type": "stream",
          "text": [
            "2016-17: 40, 2017-18: 64, 2018-19: 64\n"
          ],
          "name": "stdout"
        }
      ]
    },
    {
      "cell_type": "code",
      "metadata": {
        "id": "JXt_N29ZJQit",
        "colab_type": "code",
        "outputId": "0dbd8e13-4d25-49da-b264-9a99fb418f66",
        "colab": {
          "base_uri": "https://localhost:8080/",
          "height": 281
        }
      },
      "source": [
        "\n",
        "x = ['2017', '2018', '2019']\n",
        "y = [b-a, c-b, d-c]\n",
        "plt.bar(x, y)\n",
        "plt.ylabel('New ratables')\n",
        "plt.title('New ratables by year')\n",
        "plt.show()"
      ],
      "execution_count": 46,
      "outputs": [
        {
          "output_type": "display_data",
          "data": {
            "image/png": "[encoded data removed]",
            "text/plain": [
              "<Figure size 432x288 with 1 Axes>"
            ]
          },
          "metadata": {
            "tags": []
          }
        }
      ]
    },
    {
      "cell_type": "code",
      "metadata": {
        "id": "8yw9W0CwLBEC",
        "colab_type": "code",
        "outputId": "eb2aa5fe-ae41-44b8-c4a3-63c960b61a30",
        "colab": {
          "base_uri": "https://localhost:8080/",
          "height": 626
        }
      },
      "source": [
        "\n",
        "figure(num=None, figsize=(12, 8), dpi=92, facecolor='w', edgecolor='k')\n",
        "plt.style.use('seaborn-whitegrid')\n",
        "\n",
        "plt.scatter(single_family['SaleDateTime'], single_family['AV Diff'], label='Single-family', s=single_family['Sale Price']/5000)\n",
        "plt.scatter(two_family['SaleDateTime'], two_family['AV Diff'], label='Two-family', s=two_family['Sale Price']/5000)\n",
        "plt.scatter(three_family['SaleDateTime'], three_family['AV Diff'],  label='Three-family', s=three_family['Sale Price']/5000)\n",
        "plt.scatter(apartments['SaleDateTime'], apartments['AV Diff'],  label='Apartments', s=apartments['Sale Price']/5000)\n",
        "plt.title('Sale price vs AV over time')\n",
        "plt.legend(loc=2)\n",
        "plt.show()"
      ],
      "execution_count": 69,
      "outputs": [
        {
          "output_type": "display_data",
          "data": {
            "image/png": "[encoded data removed]",
            "text/plain": [
              "<Figure size 1104x736 with 1 Axes>"
            ]
          },
          "metadata": {
            "tags": []
          }
        }
      ]
    },
    {
      "cell_type": "markdown",
      "metadata": {
        "id": "kZDY97UyJyfV",
        "colab_type": "text"
      },
      "source": [
        "# Do homes or apartments (codes 210,220,230,411) with recent sales result in higher assessment increases?"
      ]
    },
    {
      "cell_type": "code",
      "metadata": {
        "id": "5YXMnBR9Jy5d",
        "colab_type": "code",
        "colab": {
          "base_uri": "https://localhost:8080/",
          "height": 632
        },
        "outputId": "90caa87b-a90f-4f18-d13f-1672b042a863"
      },
      "source": [
        "# Filter by all taxable properties, only apartments and residential\n",
        "notsold = df[df['2019 City'] > 0].reset_index()\n",
        "notsold = notsold[notsold['Sale Price'].isnull()]\n",
        "notsold = notsold[notsold['Code'].isin([210,220,230,411])]\n",
        "\n",
        "onlysold = sold[sold['Sale Price'].notnull()]\n",
        "onlysold = onlysold[onlysold['SaleYear'] > 2014]\n",
        "onlysold = onlysold[onlysold['Code'].isin([210,220,230,411])]\n",
        "\n",
        "notsold_agg = notsold[['Code', 'Total Increase']].groupby('Code', as_index=False)['Total Increase'].agg({'avg':'mean', 'count':'count', 'std':'std'}).reset_index()\n",
        "onlysold_agg = onlysold[['Code', 'Total Increase']].groupby('Code', as_index=False)['Total Increase'].agg({'avg':'mean', 'count':'count','std':'std'}).reset_index()\n",
        "\n",
        "figure(num=None, figsize=(12, 8), dpi=92, facecolor='w', edgecolor='k')\n",
        "\n",
        "plt.subplot(1,1,1)\n",
        "plt.bar(['One-fam','Two-fam','Three-fam','Apts'], notsold_agg['avg'],  label='No Recent Sale', alpha=1, width=0.5)\n",
        "plt.bar(['One-fam','Two-fam','Three-fam','Apts'], onlysold_agg['avg'], label='Sale 2015-2019',  alpha=0.2, width=0.5)\n",
        "plt.ylabel('Percent Increase')\n",
        "plt.title('No Recent Sale vs Recent Sale Assessment Increases 2016-2019')\n",
        "plt.legend(loc=2)\n",
        "plt.show()\n",
        "\n"
      ],
      "execution_count": 187,
      "outputs": [
        {
          "output_type": "display_data",
          "data": {
            "image/png": "[encoded data removed]",
            "text/plain": [
              "<Figure size 1104x736 with 1 Axes>"
            ]
          },
          "metadata": {
            "tags": []
          }
        }
      ]
    },
    {
      "cell_type": "markdown",
      "metadata": {
        "id": "MFbPgXbxJzIs",
        "colab_type": "text"
      },
      "source": [
        ""
      ]
    }
  ]
}